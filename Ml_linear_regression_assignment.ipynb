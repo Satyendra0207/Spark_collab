{
  "nbformat": 4,
  "nbformat_minor": 0,
  "metadata": {
    "colab": {
      "name": "Ml_linear_regression_assignment.ipynb",
      "provenance": [],
      "collapsed_sections": [],
      "include_colab_link": true
    },
    "kernelspec": {
      "name": "python3",
      "display_name": "Python 3"
    },
    "language_info": {
      "name": "python"
    }
  },
  "cells": [
    {
      "cell_type": "markdown",
      "metadata": {
        "id": "view-in-github",
        "colab_type": "text"
      },
      "source": [
        "<a href=\"https://colab.research.google.com/github/Satyendra0207/Spark_collab/blob/main/Ml_linear_regression_assignment.ipynb\" target=\"_parent\"><img src=\"https://colab.research.google.com/assets/colab-badge.svg\" alt=\"Open In Colab\"/></a>"
      ]
    },
    {
      "cell_type": "code",
      "execution_count": 1,
      "metadata": {
        "colab": {
          "base_uri": "https://localhost:8080/"
        },
        "id": "JWMUeejfttrF",
        "outputId": "83df8cf4-8896-425f-e9fb-583bcc19c422"
      },
      "outputs": [
        {
          "output_type": "stream",
          "name": "stdout",
          "text": [
            "Collecting pyspark\n",
            "  Downloading pyspark-3.2.1.tar.gz (281.4 MB)\n",
            "\u001b[K     |████████████████████████████████| 281.4 MB 37 kB/s \n",
            "\u001b[?25hCollecting py4j==0.10.9.3\n",
            "  Downloading py4j-0.10.9.3-py2.py3-none-any.whl (198 kB)\n",
            "\u001b[K     |████████████████████████████████| 198 kB 49.1 MB/s \n",
            "\u001b[?25hBuilding wheels for collected packages: pyspark\n",
            "  Building wheel for pyspark (setup.py) ... \u001b[?25l\u001b[?25hdone\n",
            "  Created wheel for pyspark: filename=pyspark-3.2.1-py2.py3-none-any.whl size=281853642 sha256=c36c28ec093dc8545e2382890f461f2b79ddbf7e18cca74b46d28ec539f0434b\n",
            "  Stored in directory: /root/.cache/pip/wheels/9f/f5/07/7cd8017084dce4e93e84e92efd1e1d5334db05f2e83bcef74f\n",
            "Successfully built pyspark\n",
            "Installing collected packages: py4j, pyspark\n",
            "Successfully installed py4j-0.10.9.3 pyspark-3.2.1\n"
          ]
        }
      ],
      "source": [
        "!pip install pyspark"
      ]
    },
    {
      "cell_type": "code",
      "source": [
        "from pyspark.sql import SparkSession\n",
        "session=SparkSession.builder.appName(\"classification_project\").getOrCreate()"
      ],
      "metadata": {
        "id": "GVkcAZUdtuif"
      },
      "execution_count": 2,
      "outputs": []
    },
    {
      "cell_type": "markdown",
      "source": [
        "# Regression Problem\n",
        "Linear Regression\n"
      ],
      "metadata": {
        "id": "v8uTOa2yy-8U"
      }
    },
    {
      "cell_type": "code",
      "source": [
        "#importing data set \n",
        "data=session.read.csv(\"automobile2.csv\",header=True,inferSchema=True)"
      ],
      "metadata": {
        "id": "iWL7cmI5tumC"
      },
      "execution_count": 3,
      "outputs": []
    },
    {
      "cell_type": "code",
      "source": [
        "data.show(5)"
      ],
      "metadata": {
        "colab": {
          "base_uri": "https://localhost:8080/"
        },
        "id": "SmZ-Tkd5tupO",
        "outputId": "af27f34a-11e6-4593-c509-032b1fcef45c"
      },
      "execution_count": 4,
      "outputs": [
        {
          "output_type": "stream",
          "name": "stdout",
          "text": [
            "+---+-----------+---------+------------+-----------+------------+---------------+----------+------+-----+------+-----------+-----------+----------------+-----------+-----------+-----------------+----------+--------+-----------+-----+\n",
            "|_c0|       make|fuel_type|num_of_doors| body_style|drive_wheels|engine_location|wheel_base|length|width|height|curb_weight|engine_type|num_of_cylinders|engine_size|fuel_system|compression_ratio|horsepower|city_mpg|highway_mpg|price|\n",
            "+---+-----------+---------+------------+-----------+------------+---------------+----------+------+-----+------+-----------+-----------+----------------+-----------+-----------+-----------------+----------+--------+-----------+-----+\n",
            "|  0|alfa-romero|      gas|         two|convertible|         rwd|          front|      88.6| 168.8| 64.1|  48.8|       2548|       dohc|            four|        130|       mpfi|              9.0|       111|      21|         27|13495|\n",
            "|  1|alfa-romero|      gas|         two|convertible|         rwd|          front|      88.6| 168.8| 64.1|  48.8|       2548|       dohc|            four|        130|       mpfi|              9.0|       111|      21|         27|16500|\n",
            "|  2|alfa-romero|      gas|         two|  hatchback|         rwd|          front|      94.5| 171.2| 65.5|  52.4|       2823|       ohcv|             six|        152|       mpfi|              9.0|       154|      19|         26|16500|\n",
            "|  3|       audi|      gas|        four|      sedan|         fwd|          front|      99.8| 176.6| 66.2|  54.3|       2337|        ohc|            four|        109|       mpfi|             70.0|       102|      24|         30|13950|\n",
            "|  4|       audi|      gas|        four|      sedan|        4wd |          front|      99.4| 176.6| 66.4|  54.3|       2824|        ohc|            five|        136|       mpfi|              8.0|       115|      18|         22|17450|\n",
            "+---+-----------+---------+------------+-----------+------------+---------------+----------+------+-----+------+-----------+-----------+----------------+-----------+-----------+-----------------+----------+--------+-----------+-----+\n",
            "only showing top 5 rows\n",
            "\n"
          ]
        }
      ]
    },
    {
      "cell_type": "code",
      "source": [
        "data.columns"
      ],
      "metadata": {
        "id": "wx6jUsKMturv",
        "colab": {
          "base_uri": "https://localhost:8080/"
        },
        "outputId": "c48b1d74-4187-4f80-f75b-5346cdfb4dd9"
      },
      "execution_count": 5,
      "outputs": [
        {
          "output_type": "execute_result",
          "data": {
            "text/plain": [
              "['_c0',\n",
              " 'make',\n",
              " 'fuel_type',\n",
              " 'num_of_doors',\n",
              " 'body_style',\n",
              " 'drive_wheels',\n",
              " 'engine_location',\n",
              " 'wheel_base',\n",
              " 'length',\n",
              " 'width',\n",
              " 'height',\n",
              " 'curb_weight',\n",
              " 'engine_type',\n",
              " 'num_of_cylinders',\n",
              " 'engine_size',\n",
              " 'fuel_system',\n",
              " 'compression_ratio',\n",
              " 'horsepower',\n",
              " 'city_mpg',\n",
              " 'highway_mpg',\n",
              " 'price']"
            ]
          },
          "metadata": {},
          "execution_count": 5
        }
      ]
    },
    {
      "cell_type": "code",
      "source": [
        "data.describe()"
      ],
      "metadata": {
        "id": "bC8n9AUctutb",
        "colab": {
          "base_uri": "https://localhost:8080/"
        },
        "outputId": "f8945aed-4821-4cbe-d114-37be4117bf60"
      },
      "execution_count": 6,
      "outputs": [
        {
          "output_type": "execute_result",
          "data": {
            "text/plain": [
              "DataFrame[summary: string, _c0: string, make: string, fuel_type: string, num_of_doors: string, body_style: string, drive_wheels: string, engine_location: string, wheel_base: string, length: string, width: string, height: string, curb_weight: string, engine_type: string, num_of_cylinders: string, engine_size: string, fuel_system: string, compression_ratio: string, horsepower: string, city_mpg: string, highway_mpg: string, price: string]"
            ]
          },
          "metadata": {},
          "execution_count": 6
        }
      ]
    },
    {
      "cell_type": "code",
      "source": [
        "data.printSchema()"
      ],
      "metadata": {
        "colab": {
          "base_uri": "https://localhost:8080/"
        },
        "id": "W_7LVdWaTiY8",
        "outputId": "9f9b22da-4449-473e-f1c8-8fc3b055c782"
      },
      "execution_count": 7,
      "outputs": [
        {
          "output_type": "stream",
          "name": "stdout",
          "text": [
            "root\n",
            " |-- _c0: integer (nullable = true)\n",
            " |-- make: string (nullable = true)\n",
            " |-- fuel_type: string (nullable = true)\n",
            " |-- num_of_doors: string (nullable = true)\n",
            " |-- body_style: string (nullable = true)\n",
            " |-- drive_wheels: string (nullable = true)\n",
            " |-- engine_location: string (nullable = true)\n",
            " |-- wheel_base: double (nullable = true)\n",
            " |-- length: double (nullable = true)\n",
            " |-- width: double (nullable = true)\n",
            " |-- height: double (nullable = true)\n",
            " |-- curb_weight: integer (nullable = true)\n",
            " |-- engine_type: string (nullable = true)\n",
            " |-- num_of_cylinders: string (nullable = true)\n",
            " |-- engine_size: integer (nullable = true)\n",
            " |-- fuel_system: string (nullable = true)\n",
            " |-- compression_ratio: double (nullable = true)\n",
            " |-- horsepower: integer (nullable = true)\n",
            " |-- city_mpg: integer (nullable = true)\n",
            " |-- highway_mpg: integer (nullable = true)\n",
            " |-- price: integer (nullable = true)\n",
            "\n"
          ]
        }
      ]
    },
    {
      "cell_type": "code",
      "source": [
        "#importing required functions \n",
        "from pyspark.ml.feature import VectorAssembler,StringIndexer,OneHotEncoder\n",
        "\n",
        "##Changing string datatype of attruibutes using StringIndexer\n",
        "str_idx=StringIndexer(inputCols=['make','fuel_type','num_of_doors','body_style',\"num_of_cylinders\",\"drive_wheels\"],outputCols=['make_2','fuel_type_2','num_of_doors_2','body_style_2',\"num_of_cylinders2\",\"drive_wheels2\"],handleInvalid=\"skip\",stringOrderType=\"frequencyDesc\")"
      ],
      "metadata": {
        "id": "eOKd4HNUtuvc"
      },
      "execution_count": 17,
      "outputs": []
    },
    {
      "cell_type": "code",
      "source": [
        "#assigning categorical variable into numerical using OnehotEncoder\n",
        "#onehot=OneHotEncoder(inputCols=[\"make_2\",\"fuel_type_2\",\"num_of_doors_2\",\"body_style_2\",\"num_of_cylinders2\",\"drive_wheels2\"],outputCols=[\"make2\",\"fuel_type2\",\"num_of_doors2\",\"body_style2\",\"new_num_of_cylinders_2\",\"drive_wheels_2\"])\n",
        "#onehot=OneHotEncoder(inputCols=['make','fuel_type','num_of_doors','body_style',\"num_of_cylinders\",\"drive_wheels\"],outputCols=[\"make2\",\"fuel_type2\",\"num_of_doors2\",\"body_style2\",\"new_num_of_cylinders_2\",\"drive_wheels_2\"])"
      ],
      "metadata": {
        "id": "gJ4OO2h9tuxw"
      },
      "execution_count": 9,
      "outputs": []
    },
    {
      "cell_type": "code",
      "source": [
        "#assembling features using Vector Assembler\n",
        "#vec_assem=VectorAssembler(inputCols=[\"new_make\",\"new_fuel_type\",\"new_num_of_doors2\",\"new_num_of_cylinders\"],outputCol=\"allfeatures\")\n",
        "vec_assem=VectorAssembler(inputCols=['make_2','fuel_type_2','num_of_doors_2','body_style_2',\"num_of_cylinders2\",\"drive_wheels2\",\"wheel_base\",'length','width','height','curb_weight','engine_size','horsepower','city_mpg','highway_mpg'],outputCol=\"allfeatures\")"
      ],
      "metadata": {
        "id": "Mzwi727Otu0V"
      },
      "execution_count": 27,
      "outputs": []
    },
    {
      "cell_type": "code",
      "source": [
        "#importing model \n",
        "from pyspark.ml.regression import LinearRegression\n",
        "lr=LinearRegression(featuresCol=\"allfeatures\",labelCol=\"price\")"
      ],
      "metadata": {
        "id": "iInVy0nItu3D"
      },
      "execution_count": 28,
      "outputs": []
    },
    {
      "cell_type": "code",
      "source": [
        "from pyspark.ml import Pipeline\n",
        "mypipe=Pipeline(stages=[str_idx,vec_assem,lr])"
      ],
      "metadata": {
        "id": "kPGevbB_tu5t"
      },
      "execution_count": 29,
      "outputs": []
    },
    {
      "cell_type": "code",
      "source": [
        "training,test=data.randomSplit([0.7,0.3])"
      ],
      "metadata": {
        "id": "UHh_VF9ptu8U"
      },
      "execution_count": 30,
      "outputs": []
    },
    {
      "cell_type": "code",
      "source": [
        "training.show(5)"
      ],
      "metadata": {
        "colab": {
          "base_uri": "https://localhost:8080/"
        },
        "id": "vkxLXINAYg1Z",
        "outputId": "63d15085-690f-4700-9233-ce212bd2b93f"
      },
      "execution_count": 31,
      "outputs": [
        {
          "output_type": "stream",
          "name": "stdout",
          "text": [
            "+---+-----------+---------+------------+-----------+------------+---------------+----------+------+-----+------+-----------+-----------+----------------+-----------+-----------+-----------------+----------+--------+-----------+-----+\n",
            "|_c0|       make|fuel_type|num_of_doors| body_style|drive_wheels|engine_location|wheel_base|length|width|height|curb_weight|engine_type|num_of_cylinders|engine_size|fuel_system|compression_ratio|horsepower|city_mpg|highway_mpg|price|\n",
            "+---+-----------+---------+------------+-----------+------------+---------------+----------+------+-----+------+-----------+-----------+----------------+-----------+-----------+-----------------+----------+--------+-----------+-----+\n",
            "|  0|alfa-romero|      gas|         two|convertible|         rwd|          front|      88.6| 168.8| 64.1|  48.8|       2548|       dohc|            four|        130|       mpfi|              9.0|       111|      21|         27|13495|\n",
            "|  1|alfa-romero|      gas|         two|convertible|         rwd|          front|      88.6| 168.8| 64.1|  48.8|       2548|       dohc|            four|        130|       mpfi|              9.0|       111|      21|         27|16500|\n",
            "|  2|alfa-romero|      gas|         two|  hatchback|         rwd|          front|      94.5| 171.2| 65.5|  52.4|       2823|       ohcv|             six|        152|       mpfi|              9.0|       154|      19|         26|16500|\n",
            "|  3|       audi|      gas|        four|      sedan|         fwd|          front|      99.8| 176.6| 66.2|  54.3|       2337|        ohc|            four|        109|       mpfi|             70.0|       102|      24|         30|13950|\n",
            "|  4|       audi|      gas|        four|      sedan|        4wd |          front|      99.4| 176.6| 66.4|  54.3|       2824|        ohc|            five|        136|       mpfi|              8.0|       115|      18|         22|17450|\n",
            "+---+-----------+---------+------------+-----------+------------+---------------+----------+------+-----+------+-----------+-----------+----------------+-----------+-----------+-----------------+----------+--------+-----------+-----+\n",
            "only showing top 5 rows\n",
            "\n"
          ]
        }
      ]
    },
    {
      "cell_type": "code",
      "source": [
        "fitmodel=mypipe.fit(training)"
      ],
      "metadata": {
        "id": "2olpuB68tu-6"
      },
      "execution_count": 32,
      "outputs": []
    },
    {
      "cell_type": "code",
      "source": [
        "result = fitmodel.transform(test)\n",
        "result.show(5)"
      ],
      "metadata": {
        "colab": {
          "base_uri": "https://localhost:8080/"
        },
        "id": "Jzs8WvGvcHxF",
        "outputId": "c92f7ef4-3035-4aa4-87bb-422a6e722bfb"
      },
      "execution_count": 33,
      "outputs": [
        {
          "output_type": "stream",
          "name": "stdout",
          "text": [
            "+---+---------+---------+------------+----------+------------+---------------+----------+------+-----+------+-----------+-----------+----------------+-----------+-----------+-----------------+----------+--------+-----------+-----+------+-----------+--------------+------------+-----------------+-------------+--------------------+------------------+\n",
            "|_c0|     make|fuel_type|num_of_doors|body_style|drive_wheels|engine_location|wheel_base|length|width|height|curb_weight|engine_type|num_of_cylinders|engine_size|fuel_system|compression_ratio|horsepower|city_mpg|highway_mpg|price|make_2|fuel_type_2|num_of_doors_2|body_style_2|num_of_cylinders2|drive_wheels2|         allfeatures|        prediction|\n",
            "+---+---------+---------+------------+----------+------------+---------------+----------+------+-----+------+-----------+-----------+----------------+-----------+-----------+-----------------+----------+--------+-----------+-----+------+-----------+--------------+------------+-----------------+-------------+--------------------+------------------+\n",
            "|  7|     audi|      gas|        four|     wagon|         fwd|          front|     105.8| 192.7| 71.4|  55.7|       2954|        ohc|            five|        136|       mpfi|              8.5|       110|      19|         25|18920|  11.0|        0.0|           0.0|         2.0|              2.0|          0.0|[11.0,0.0,0.0,2.0...|18667.386589123114|\n",
            "| 13|      bmw|      gas|        four|     sedan|         rwd|          front|     101.2| 176.8| 64.8|  54.3|       2765|        ohc|             six|        164|       mpfi|              9.0|       121|      21|         28|21105|   9.0|        0.0|           0.0|         0.0|              1.0|          1.0|[9.0,0.0,0.0,0.0,...|19667.050715343492|\n",
            "| 19|chevrolet|      gas|         two| hatchback|         fwd|          front|      94.5| 155.9| 63.6|  52.0|       1874|        ohc|            four|         90|       2bbl|              9.6|        70|      38|         43| 6295|  17.0|        0.0|           1.0|         1.0|              0.0|          0.0|[17.0,0.0,1.0,1.0...| 7792.224734416286|\n",
            "| 31|    honda|      gas|         two| hatchback|         fwd|          front|      86.6| 144.6| 63.9|  50.8|       1819|        ohc|            four|         92|       1bbl|              9.2|        76|      31|         38| 6855|   4.0|        0.0|           1.0|         1.0|              0.0|          0.0|[4.0,0.0,1.0,1.0,...|3473.5944373432903|\n",
            "| 32|    honda|      gas|         two| hatchback|         fwd|          front|      93.7| 150.0| 64.0|  52.6|       1837|        ohc|            four|         79|       1bbl|             10.1|        60|      38|         42| 5399|   4.0|        0.0|           1.0|         1.0|              0.0|          0.0|[4.0,0.0,1.0,1.0,...|2473.6551752018495|\n",
            "+---+---------+---------+------------+----------+------------+---------------+----------+------+-----+------+-----------+-----------+----------------+-----------+-----------+-----------------+----------+--------+-----------+-----+------+-----------+--------------+------------+-----------------+-------------+--------------------+------------------+\n",
            "only showing top 5 rows\n",
            "\n"
          ]
        }
      ]
    },
    {
      "cell_type": "code",
      "source": [
        "from pyspark.ml.evaluation import RegressionEvaluator\n",
        "eval_obj=RegressionEvaluator(predictionCol=\"prediction\",labelCol=\"price\",metricName=\"r2\")\n",
        "accuracy=eval_obj.evaluate(result)\n",
        "print(accuracy)"
      ],
      "metadata": {
        "id": "ULA0f3AutvB5",
        "colab": {
          "base_uri": "https://localhost:8080/"
        },
        "outputId": "06d45382-d183-4eb6-e5ba-404d88a80905"
      },
      "execution_count": 34,
      "outputs": [
        {
          "output_type": "stream",
          "name": "stdout",
          "text": [
            "0.7588858810626178\n"
          ]
        }
      ]
    },
    {
      "cell_type": "code",
      "source": [
        ""
      ],
      "metadata": {
        "id": "8Z2YFwm_tvFm"
      },
      "execution_count": null,
      "outputs": []
    },
    {
      "cell_type": "markdown",
      "source": [
        "# **Classification problem**\n",
        "Logistic Regression"
      ],
      "metadata": {
        "id": "-8-AfxE43dIu"
      }
    },
    {
      "cell_type": "code",
      "source": [
        "df=session.read.csv(\"tips_dataset.csv\",header=True,inferSchema=True)"
      ],
      "metadata": {
        "id": "OW9mGmWotvHJ"
      },
      "execution_count": null,
      "outputs": []
    },
    {
      "cell_type": "code",
      "source": [
        "df.show(20)"
      ],
      "metadata": {
        "id": "Bk76t9gxtvKU",
        "colab": {
          "base_uri": "https://localhost:8080/"
        },
        "outputId": "b9909dd2-c090-45f9-a7b3-57e7aff63155"
      },
      "execution_count": null,
      "outputs": [
        {
          "output_type": "stream",
          "name": "stdout",
          "text": [
            "+---+---+---------+----------+-------------+-----------------+--------+----+------+-------------+\n",
            "|UID| ID|  Tipster|      Date|        Track|            Horse|Bet Type|Odds|Result|TipsterActive|\n",
            "+---+---+---------+----------+-------------+-----------------+--------+----+------+-------------+\n",
            "|  1|  1|Tipster A|24/07/2015|        Ascot|        Fredricka|     Win| 8.0|  Lose|         true|\n",
            "|  2|  2|Tipster A|24/07/2015|       Thirsk|    Spend A Penny|     Win| 4.5|  Lose|         true|\n",
            "|  3|  3|Tipster A|24/07/2015|         York|Straightothepoint|     Win| 7.0|  Lose|         true|\n",
            "|  4|  4|Tipster A|24/07/2015|    Newmarket|   Miss Inga Sock|     Win| 5.0|  Lose|         true|\n",
            "|  5|  5|Tipster A|25/07/2015|        Ascot|            Peril|     Win|4.33|   Win|         true|\n",
            "|  6|  6|Tipster A|25/07/2015|         York|          Aldreth|     Win| 6.0|  Lose|         true|\n",
            "|  7|  7|Tipster A|25/07/2015|    Newcastle|     Niceonemyson|     Win| 6.0|  Lose|         true|\n",
            "|  8|  8|Tipster A|25/07/2015|    Lingfield|   Brandon Castle|     Win| 6.0|  Lose|         true|\n",
            "|  9|  9|Tipster A|26/07/2015|     Carlisle|       Sands Time|     Win| 5.5|  Lose|         true|\n",
            "| 10| 10|Tipster A|26/07/2015|   Pontefract|       Ad Dabaran|     Win| 2.0|  Lose|         true|\n",
            "| 11| 11|Tipster A|26/07/2015|    Uttoxeter|       Milgen Bay|Each Way|10.0|  Lose|         true|\n",
            "| 12| 12|Tipster A|01/08/2015|       Thirsk| Gleese The Devil|     Win| 8.0|  Lose|         true|\n",
            "| 13| 13|Tipster A|01/08/2015|     Hamilton|         Especial|     Win| 6.0|  Lose|         true|\n",
            "| 14| 14|Tipster A|02/08/2015|     Chepstow|    Indian Affair|     Win| 6.0|  Lose|         true|\n",
            "| 15| 15|Tipster A|04/08/2015|    Salisbury|      Wild Desert|     Win|3.25|   Win|         true|\n",
            "| 16| 16|Tipster A|04/08/2015|    Catterick|       Lets Twist|     Win|2.75|  Lose|         true|\n",
            "| 17| 17|Tipster A|04/08/2015|   Chelmsford|   Berti Blue Boy|     Win| 3.5|  Lose|         true|\n",
            "| 18| 18|Tipster A|05/08/2015|     Brighton|  Shes Invincible|     Win|3.25|  Lose|         true|\n",
            "| 19| 19|Tipster A|05/08/2015|    Newcastle|           Pacngo|     Win|3.25|  Lose|         true|\n",
            "| 20| 20|Tipster A|06/08/2015|Wolverhampton|     Honiton Lace|Each Way|11.0|  Lose|         true|\n",
            "+---+---+---------+----------+-------------+-----------------+--------+----+------+-------------+\n",
            "only showing top 20 rows\n",
            "\n"
          ]
        }
      ]
    },
    {
      "cell_type": "code",
      "source": [
        "df.describe()"
      ],
      "metadata": {
        "id": "BP-_oPIptvM7",
        "colab": {
          "base_uri": "https://localhost:8080/"
        },
        "outputId": "7f2c79a4-06e3-4461-d079-0b69a5ff2280"
      },
      "execution_count": null,
      "outputs": [
        {
          "output_type": "execute_result",
          "data": {
            "text/plain": [
              "DataFrame[summary: string, UID: string, ID: string, Tipster: string, Date: string, Track: string, Horse: string, Bet Type: string, Odds: string, Result: string]"
            ]
          },
          "metadata": {},
          "execution_count": 19
        }
      ]
    },
    {
      "cell_type": "code",
      "source": [
        "df.columns"
      ],
      "metadata": {
        "id": "MYQDcykUtvPt",
        "colab": {
          "base_uri": "https://localhost:8080/"
        },
        "outputId": "c3309d34-2b29-42b8-a1dc-f2cccffdd3d1"
      },
      "execution_count": null,
      "outputs": [
        {
          "output_type": "execute_result",
          "data": {
            "text/plain": [
              "['UID',\n",
              " 'ID',\n",
              " 'Tipster',\n",
              " 'Date',\n",
              " 'Track',\n",
              " 'Horse',\n",
              " 'Bet Type',\n",
              " 'Odds',\n",
              " 'Result',\n",
              " 'TipsterActive']"
            ]
          },
          "metadata": {},
          "execution_count": 20
        }
      ]
    },
    {
      "cell_type": "code",
      "source": [
        "str_idx3=StringIndexer(inputCols=['Tipster','Track','Horse','Bet Type','Odds','Result'],outputCols=['new_Tipster','new_Track','new_Horse','new_Bet Type','new_Odds','new_Result'],handleInvalid='skip')"
      ],
      "metadata": {
        "id": "7Ql0N94Z4DO7"
      },
      "execution_count": null,
      "outputs": []
    },
    {
      "cell_type": "code",
      "source": [
        "onehot1=OneHotEncoder(inputCols=[\"new_Track\",\"new_Horse\",\"new_Bet Type\"],outputCols=[\"new_Track2\",\"new_Horse2\",\"new_Bet Type2\"])"
      ],
      "metadata": {
        "id": "3gaGTRJR4DRp"
      },
      "execution_count": null,
      "outputs": []
    },
    {
      "cell_type": "code",
      "source": [
        "vect_assem=VectorAssembler(inputCols=[\"new_Track2\",\"new_Horse2\",\"new_Bet Type2\",\"new_Odds\",\"TipsterActive\"],outputCol=\"allfeatures3\")"
      ],
      "metadata": {
        "id": "hulTJmOK4DXc"
      },
      "execution_count": null,
      "outputs": []
    },
    {
      "cell_type": "code",
      "source": [
        "from pyspark.ml.classification import LogisticRegression\n",
        "model=LogisticRegression(featuresCol=\"allfeatures3\",labelCol=\"new_Result\")"
      ],
      "metadata": {
        "id": "_pULWfOy4DaR"
      },
      "execution_count": null,
      "outputs": []
    },
    {
      "cell_type": "code",
      "source": [
        "from pyspark.ml import Pipeline\n",
        "mypipeline=Pipeline(stages=[str_idx3,onehot1,vect_assem,model])"
      ],
      "metadata": {
        "id": "4hJCzkQttvSm"
      },
      "execution_count": null,
      "outputs": []
    },
    {
      "cell_type": "code",
      "source": [
        "training,test=df.randomSplit([0.7,0.3])"
      ],
      "metadata": {
        "id": "WoasOYwgZbUe"
      },
      "execution_count": null,
      "outputs": []
    },
    {
      "cell_type": "code",
      "source": [
        "fitmodel=mypipeline.fit(training)"
      ],
      "metadata": {
        "id": "gY5IGqAJZbb0"
      },
      "execution_count": null,
      "outputs": []
    },
    {
      "cell_type": "code",
      "source": [
        "result2=fitmodel.transform(test)\n",
        "result2.show(8)"
      ],
      "metadata": {
        "colab": {
          "base_uri": "https://localhost:8080/"
        },
        "id": "FsoVyebHZbqj",
        "outputId": "ff2d70ab-9c5b-4567-bd0d-1d798e5cf60d"
      },
      "execution_count": null,
      "outputs": [
        {
          "output_type": "stream",
          "name": "stdout",
          "text": [
            "+---+---+---------+----------+---------+----------------+--------+----+------+-------------+-----------+---------+---------+------------+--------+----------+----------------+--------------------+-------------+--------------------+--------------------+--------------------+----------+\n",
            "|UID| ID|  Tipster|      Date|    Track|           Horse|Bet Type|Odds|Result|TipsterActive|new_Tipster|new_Track|new_Horse|new_Bet Type|new_Odds|new_Result|      new_Track2|          new_Horse2|new_Bet Type2|        allfeatures3|       rawPrediction|         probability|prediction|\n",
            "+---+---+---------+----------+---------+----------------+--------+----+------+-------------+-----------+---------+---------+------------+--------+----------+----------------+--------------------+-------------+--------------------+--------------------+--------------------+----------+\n",
            "|  4|  4|Tipster A|24/07/2015|Newmarket|  Miss Inga Sock|     Win| 5.0|  Lose|         true|       12.0|      4.0|  10222.0|         0.0|     8.0|       0.0| (115,[4],[1.0])|(13307,[10222],[1...|(1,[0],[1.0])|(13425,[4,10337,1...|[17.1991330848535...|[0.99999996607566...|       0.0|\n",
            "| 12| 12|Tipster A|01/08/2015|   Thirsk|Gleese The Devil|     Win| 8.0|  Lose|         true|       12.0|     33.0|   4267.0|         0.0|     5.0|       0.0|(115,[33],[1.0])|(13307,[4267],[1.0])|(1,[0],[1.0])|(13425,[33,4382,1...|[18.1517081354810...|[0.99999998691380...|       0.0|\n",
            "| 19| 19|Tipster A|05/08/2015|Newcastle|          Pacngo|     Win|3.25|  Lose|         true|       12.0|     25.0|  10790.0|         0.0|    20.0|       0.0|(115,[25],[1.0])|(13307,[10790],[1...|(1,[0],[1.0])|(13425,[25,10905,...|[17.7954912822837...|[0.99999998131400...|       0.0|\n",
            "| 26| 26|Tipster A|16/08/2015|  Tramore|          Patsio|Each Way| 8.0|  Lose|         true|       12.0|     84.0|  10850.0|         1.0|     5.0|       0.0|(115,[84],[1.0])|(13307,[10850],[1...|    (1,[],[])|(13425,[84,10965,...|[24.9137396483494...|[0.99999999998486...|       0.0|\n",
            "| 32| 32|Tipster A|19/08/2015| Ffos Las|Sir Billy Wright|     Win|4.33|   Win|         true|       12.0|     39.0|    525.0|         0.0|    25.0|       1.0|(115,[39],[1.0])| (13307,[525],[1.0])|(1,[0],[1.0])|(13425,[39,640,13...|[19.6855431451583...|[0.99999999717721...|       0.0|\n",
            "| 45| 45|Tipster A|23/08/2015|Deauville|         Ribbons|     Win| 4.0|  Lose|         true|       12.0|     78.0|   1590.0|         0.0|    12.0|       0.0|(115,[78],[1.0])|(13307,[1590],[1.0])|(1,[0],[1.0])|(13425,[78,1705,1...|[1.38604473430554...|[0.79996005671863...|       0.0|\n",
            "| 55| 55|Tipster A|28/08/2015|Newcastle|     Punk Rocker|     Win|3.75|  Lose|         true|       12.0|     25.0|  11128.0|         0.0|    18.0|       0.0|(115,[25],[1.0])|(13307,[11128],[1...|(1,[0],[1.0])|(13425,[25,11243,...|[20.4161964792316...|[0.99999999864056...|       0.0|\n",
            "| 59| 59|Tipster A|01/09/2015| Goodwood|      Gale Force|     Win| 2.1|   Win|         true|       12.0|     12.0|   4224.0|         0.0|    35.0|       1.0|(115,[12],[1.0])|(13307,[4224],[1.0])|(1,[0],[1.0])|(13425,[12,4339,1...|[-17.962081970175...|[1.58185586835200...|       1.0|\n",
            "+---+---+---------+----------+---------+----------------+--------+----+------+-------------+-----------+---------+---------+------------+--------+----------+----------------+--------------------+-------------+--------------------+--------------------+--------------------+----------+\n",
            "only showing top 8 rows\n",
            "\n"
          ]
        }
      ]
    },
    {
      "cell_type": "code",
      "source": [
        "from pyspark.ml.evaluation import BinaryClassificationEvaluator\n",
        "eval_obj2=BinaryClassificationEvaluator(rawPredictionCol=\"prediction\",labelCol='new_Result')\n",
        "accuracy2=eval_obj2.evaluate(result2)\n",
        "print(accuracy2)"
      ],
      "metadata": {
        "colab": {
          "base_uri": "https://localhost:8080/"
        },
        "id": "oOPwchbCbar8",
        "outputId": "f7e4c86f-3243-4b18-a0f4-6d4bc032b377"
      },
      "execution_count": null,
      "outputs": [
        {
          "output_type": "stream",
          "name": "stdout",
          "text": [
            "0.5746556225196223\n"
          ]
        }
      ]
    },
    {
      "cell_type": "code",
      "source": [
        ""
      ],
      "metadata": {
        "id": "KIwhwgLSba14"
      },
      "execution_count": null,
      "outputs": []
    },
    {
      "cell_type": "code",
      "source": [
        ""
      ],
      "metadata": {
        "id": "wLo5DBkBbbGh"
      },
      "execution_count": null,
      "outputs": []
    },
    {
      "cell_type": "code",
      "source": [
        ""
      ],
      "metadata": {
        "id": "5wZbW_JStvVx"
      },
      "execution_count": null,
      "outputs": []
    }
  ]
}