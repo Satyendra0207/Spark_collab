{
  "nbformat": 4,
  "nbformat_minor": 0,
  "metadata": {
    "colab": {
      "name": "SQLquery.ipynb",
      "provenance": [],
      "collapsed_sections": []
    },
    "kernelspec": {
      "name": "python3",
      "display_name": "Python 3"
    },
    "language_info": {
      "name": "python"
    }
  },
  "cells": [
    {
      "cell_type": "code",
      "execution_count": 1,
      "metadata": {
        "colab": {
          "base_uri": "https://localhost:8080/"
        },
        "id": "_IVJeJN3mMg9",
        "outputId": "8b6852db-778f-4648-c44d-bbefdca166f9"
      },
      "outputs": [
        {
          "output_type": "stream",
          "name": "stdout",
          "text": [
            "Collecting pyspark\n",
            "  Downloading pyspark-3.2.1.tar.gz (281.4 MB)\n",
            "\u001b[K     |████████████████████████████████| 281.4 MB 34 kB/s \n",
            "\u001b[?25hCollecting py4j==0.10.9.3\n",
            "  Downloading py4j-0.10.9.3-py2.py3-none-any.whl (198 kB)\n",
            "\u001b[K     |████████████████████████████████| 198 kB 55.7 MB/s \n",
            "\u001b[?25hBuilding wheels for collected packages: pyspark\n",
            "  Building wheel for pyspark (setup.py) ... \u001b[?25l\u001b[?25hdone\n",
            "  Created wheel for pyspark: filename=pyspark-3.2.1-py2.py3-none-any.whl size=281853642 sha256=afb1fcb12d60c4ae62e09ab424a10f474119de3162efa9b7c58088ef6864acb3\n",
            "  Stored in directory: /root/.cache/pip/wheels/9f/f5/07/7cd8017084dce4e93e84e92efd1e1d5334db05f2e83bcef74f\n",
            "Successfully built pyspark\n",
            "Installing collected packages: py4j, pyspark\n",
            "Successfully installed py4j-0.10.9.3 pyspark-3.2.1\n"
          ]
        }
      ],
      "source": [
        "!pip  install pyspark"
      ]
    },
    {
      "cell_type": "code",
      "source": [
        "#sql for all the Sql \n",
        "from pyspark.sql import SparkSession"
      ],
      "metadata": {
        "id": "-RDXd74gmc_z"
      },
      "execution_count": 2,
      "outputs": []
    },
    {
      "cell_type": "code",
      "source": [
        "if __name__==\"__main__\":\n",
        "  session = SparkSession.builder.appName(\"Firstsql\").master(\"local[2]\").getOrCreate()\n",
        "  readdata=session.read"
      ],
      "metadata": {
        "id": "S35uX_fOmdFP"
      },
      "execution_count": 3,
      "outputs": []
    },
    {
      "cell_type": "code",
      "source": [
        "ibmdata=readdata.option(\"header\",True).option(\"inferSchema\",True).csv(\"IBMdata.csv\")"
      ],
      "metadata": {
        "id": "uaDawbSpmdHB"
      },
      "execution_count": 4,
      "outputs": []
    },
    {
      "cell_type": "code",
      "source": [
        "ibmdata.printSchema()"
      ],
      "metadata": {
        "colab": {
          "base_uri": "https://localhost:8080/"
        },
        "id": "Z2ukaW-smdJm",
        "outputId": "a6d7cdf8-1166-4364-caa0-05c0b6ba025d"
      },
      "execution_count": 5,
      "outputs": [
        {
          "output_type": "stream",
          "name": "stdout",
          "text": [
            "root\n",
            " |-- Age: integer (nullable = true)\n",
            " |-- Attrition: string (nullable = true)\n",
            " |-- BusinessTravel: string (nullable = true)\n",
            " |-- DailyRate: integer (nullable = true)\n",
            " |-- Department: string (nullable = true)\n",
            " |-- DistanceFromHome: integer (nullable = true)\n",
            " |-- Education: integer (nullable = true)\n",
            " |-- EducationField: string (nullable = true)\n",
            " |-- EmployeeCount: integer (nullable = true)\n",
            " |-- EmployeeNumber: integer (nullable = true)\n",
            " |-- EnvironmentSatisfaction: integer (nullable = true)\n",
            " |-- Gender: string (nullable = true)\n",
            " |-- HourlyRate: integer (nullable = true)\n",
            " |-- JobInvolvement: integer (nullable = true)\n",
            " |-- JobLevel: integer (nullable = true)\n",
            " |-- JobRole: string (nullable = true)\n",
            " |-- JobSatisfaction: integer (nullable = true)\n",
            " |-- MaritalStatus: string (nullable = true)\n",
            " |-- MonthlyIncome: integer (nullable = true)\n",
            " |-- MonthlyRate: integer (nullable = true)\n",
            " |-- NumCompaniesWorked: integer (nullable = true)\n",
            " |-- Over18: string (nullable = true)\n",
            " |-- OverTime: string (nullable = true)\n",
            " |-- PercentSalaryHike: integer (nullable = true)\n",
            " |-- PerformanceRating: integer (nullable = true)\n",
            " |-- RelationshipSatisfaction: integer (nullable = true)\n",
            " |-- StandardHours: integer (nullable = true)\n",
            " |-- StockOptionLevel: integer (nullable = true)\n",
            " |-- TotalWorkingYears: integer (nullable = true)\n",
            " |-- TrainingTimesLastYear: integer (nullable = true)\n",
            " |-- WorkLifeBalance: integer (nullable = true)\n",
            " |-- YearsAtCompany: integer (nullable = true)\n",
            " |-- YearsInCurrentRole: integer (nullable = true)\n",
            " |-- YearsSinceLastPromotion: integer (nullable = true)\n",
            " |-- YearsWithCurrManager: integer (nullable = true)\n",
            "\n"
          ]
        }
      ]
    },
    {
      "cell_type": "code",
      "source": [
        "#Display is done by --Show function\n",
        "result1=ibmdata.select(\"Age\",\"Gender\")\n",
        "result1.show()"
      ],
      "metadata": {
        "colab": {
          "base_uri": "https://localhost:8080/"
        },
        "id": "V-6FSB7XmdLo",
        "outputId": "40a02637-0917-4e98-e69d-71aaea2e5ff8"
      },
      "execution_count": 6,
      "outputs": [
        {
          "output_type": "stream",
          "name": "stdout",
          "text": [
            "+---+------+\n",
            "|Age|Gender|\n",
            "+---+------+\n",
            "| 41|Female|\n",
            "| 49|  Male|\n",
            "| 37|  Male|\n",
            "| 33|Female|\n",
            "| 27|  Male|\n",
            "| 32|  Male|\n",
            "| 59|Female|\n",
            "| 30|  Male|\n",
            "| 38|  Male|\n",
            "| 36|  Male|\n",
            "| 35|  Male|\n",
            "| 29|Female|\n",
            "| 31|  Male|\n",
            "| 34|  Male|\n",
            "| 28|  Male|\n",
            "| 29|Female|\n",
            "| 32|  Male|\n",
            "| 22|  Male|\n",
            "| 53|Female|\n",
            "| 38|  Male|\n",
            "+---+------+\n",
            "only showing top 20 rows\n",
            "\n"
          ]
        }
      ]
    },
    {
      "cell_type": "code",
      "source": [
        "result2=ibmdata.select(\"Age\",\"DailyRate\",ibmdata.Department.like(\"S%\")).show()"
      ],
      "metadata": {
        "colab": {
          "base_uri": "https://localhost:8080/"
        },
        "id": "wiGshwH_mdOM",
        "outputId": "8a0e2982-94a1-4967-ec38-23f5f87424cd"
      },
      "execution_count": 7,
      "outputs": [
        {
          "output_type": "stream",
          "name": "stdout",
          "text": [
            "+---+---------+------------------+\n",
            "|Age|DailyRate|Department LIKE S%|\n",
            "+---+---------+------------------+\n",
            "| 41|     1102|              true|\n",
            "| 49|      279|             false|\n",
            "| 37|     1373|             false|\n",
            "| 33|     1392|             false|\n",
            "| 27|      591|             false|\n",
            "| 32|     1005|             false|\n",
            "| 59|     1324|             false|\n",
            "| 30|     1358|             false|\n",
            "| 38|      216|             false|\n",
            "| 36|     1299|             false|\n",
            "| 35|      809|             false|\n",
            "| 29|      153|             false|\n",
            "| 31|      670|             false|\n",
            "| 34|     1346|             false|\n",
            "| 28|      103|             false|\n",
            "| 29|     1389|             false|\n",
            "| 32|      334|             false|\n",
            "| 22|     1123|             false|\n",
            "| 53|     1219|              true|\n",
            "| 38|      371|             false|\n",
            "+---+---------+------------------+\n",
            "only showing top 20 rows\n",
            "\n"
          ]
        }
      ]
    },
    {
      "cell_type": "code",
      "source": [
        "resul4=ibmdata.select(\"Gender\",ibmdata.JobRole.startswith(\"Sales\")).show()"
      ],
      "metadata": {
        "colab": {
          "base_uri": "https://localhost:8080/"
        },
        "id": "bwAt5Vj0mdTM",
        "outputId": "586ee94a-f7ca-4f71-90e9-d90d83dcd573"
      },
      "execution_count": 9,
      "outputs": [
        {
          "output_type": "stream",
          "name": "stdout",
          "text": [
            "+------+--------------------------+\n",
            "|Gender|startswith(JobRole, Sales)|\n",
            "+------+--------------------------+\n",
            "|Female|                      true|\n",
            "|  Male|                     false|\n",
            "|  Male|                     false|\n",
            "|Female|                     false|\n",
            "|  Male|                     false|\n",
            "|  Male|                     false|\n",
            "|Female|                     false|\n",
            "|  Male|                     false|\n",
            "|  Male|                     false|\n",
            "|  Male|                     false|\n",
            "|  Male|                     false|\n",
            "|Female|                     false|\n",
            "|  Male|                     false|\n",
            "|  Male|                     false|\n",
            "|  Male|                     false|\n",
            "|Female|                     false|\n",
            "|  Male|                     false|\n",
            "|  Male|                     false|\n",
            "|Female|                     false|\n",
            "|  Male|                     false|\n",
            "+------+--------------------------+\n",
            "only showing top 20 rows\n",
            "\n"
          ]
        }
      ]
    },
    {
      "cell_type": "code",
      "source": [
        "result5=ibmdata.select(\"Department\",ibmdata.Age.between(80,90)).show()"
      ],
      "metadata": {
        "colab": {
          "base_uri": "https://localhost:8080/"
        },
        "id": "KR4oJGn6mdVp",
        "outputId": "76fe2efa-2ad4-4813-d1bf-b7bdb2f40b12"
      },
      "execution_count": 10,
      "outputs": [
        {
          "output_type": "stream",
          "name": "stdout",
          "text": [
            "+--------------------+-----------------------------+\n",
            "|          Department|((Age >= 80) AND (Age <= 90))|\n",
            "+--------------------+-----------------------------+\n",
            "|               Sales|                        false|\n",
            "|Research & Develo...|                        false|\n",
            "|Research & Develo...|                        false|\n",
            "|Research & Develo...|                        false|\n",
            "|Research & Develo...|                        false|\n",
            "|Research & Develo...|                        false|\n",
            "|Research & Develo...|                        false|\n",
            "|Research & Develo...|                        false|\n",
            "|Research & Develo...|                        false|\n",
            "|Research & Develo...|                        false|\n",
            "|Research & Develo...|                        false|\n",
            "|Research & Develo...|                        false|\n",
            "|Research & Develo...|                        false|\n",
            "|Research & Develo...|                        false|\n",
            "|Research & Develo...|                        false|\n",
            "|Research & Develo...|                        false|\n",
            "|Research & Develo...|                        false|\n",
            "|Research & Develo...|                        false|\n",
            "|               Sales|                        false|\n",
            "|Research & Develo...|                        false|\n",
            "+--------------------+-----------------------------+\n",
            "only showing top 20 rows\n",
            "\n"
          ]
        }
      ]
    },
    {
      "cell_type": "code",
      "source": [
        "result6=ibmdata.select(\"Gender\",ibmdata.Department.isin(\"Sales\",\"Human Resources\")).show()"
      ],
      "metadata": {
        "colab": {
          "base_uri": "https://localhost:8080/"
        },
        "id": "vH-TG7pvmdYR",
        "outputId": "b402a3d7-8ae3-46ae-d8a2-bc0e077b7649"
      },
      "execution_count": 11,
      "outputs": [
        {
          "output_type": "stream",
          "name": "stdout",
          "text": [
            "+------+----------------------------------------+\n",
            "|Gender|(Department IN (Sales, Human Resources))|\n",
            "+------+----------------------------------------+\n",
            "|Female|                                    true|\n",
            "|  Male|                                   false|\n",
            "|  Male|                                   false|\n",
            "|Female|                                   false|\n",
            "|  Male|                                   false|\n",
            "|  Male|                                   false|\n",
            "|Female|                                   false|\n",
            "|  Male|                                   false|\n",
            "|  Male|                                   false|\n",
            "|  Male|                                   false|\n",
            "|  Male|                                   false|\n",
            "|Female|                                   false|\n",
            "|  Male|                                   false|\n",
            "|  Male|                                   false|\n",
            "|  Male|                                   false|\n",
            "|Female|                                   false|\n",
            "|  Male|                                   false|\n",
            "|  Male|                                   false|\n",
            "|Female|                                    true|\n",
            "|  Male|                                   false|\n",
            "+------+----------------------------------------+\n",
            "only showing top 20 rows\n",
            "\n"
          ]
        }
      ]
    },
    {
      "cell_type": "code",
      "source": [
        "result7=ibmdata.select(\"Attrition\",ibmdata.JobRole.endswith(\"Manager\"),\"JobRole\",\"Department\").show()"
      ],
      "metadata": {
        "colab": {
          "base_uri": "https://localhost:8080/"
        },
        "id": "kpfIRjrhmdaV",
        "outputId": "15176b62-6f73-4834-b07c-2f4138dee0b7"
      },
      "execution_count": 12,
      "outputs": [
        {
          "output_type": "stream",
          "name": "stdout",
          "text": [
            "+---------+--------------------------+--------------------+--------------------+\n",
            "|Attrition|endswith(JobRole, Manager)|             JobRole|          Department|\n",
            "+---------+--------------------------+--------------------+--------------------+\n",
            "|      Yes|                     false|     Sales Executive|               Sales|\n",
            "|       No|                     false|  Research Scientist|Research & Develo...|\n",
            "|      Yes|                     false|Laboratory Techni...|Research & Develo...|\n",
            "|       No|                     false|  Research Scientist|Research & Develo...|\n",
            "|       No|                     false|Laboratory Techni...|Research & Develo...|\n",
            "|       No|                     false|Laboratory Techni...|Research & Develo...|\n",
            "|       No|                     false|Laboratory Techni...|Research & Develo...|\n",
            "|       No|                     false|Laboratory Techni...|Research & Develo...|\n",
            "|       No|                     false|Manufacturing Dir...|Research & Develo...|\n",
            "|       No|                     false|Healthcare Repres...|Research & Develo...|\n",
            "|       No|                     false|Laboratory Techni...|Research & Develo...|\n",
            "|       No|                     false|Laboratory Techni...|Research & Develo...|\n",
            "|       No|                     false|  Research Scientist|Research & Develo...|\n",
            "|       No|                     false|Laboratory Techni...|Research & Develo...|\n",
            "|      Yes|                     false|Laboratory Techni...|Research & Develo...|\n",
            "|       No|                     false|Manufacturing Dir...|Research & Develo...|\n",
            "|       No|                     false|  Research Scientist|Research & Develo...|\n",
            "|       No|                     false|Laboratory Techni...|Research & Develo...|\n",
            "|       No|                      true|             Manager|               Sales|\n",
            "|       No|                     false|  Research Scientist|Research & Develo...|\n",
            "+---------+--------------------------+--------------------+--------------------+\n",
            "only showing top 20 rows\n",
            "\n"
          ]
        }
      ]
    },
    {
      "cell_type": "code",
      "source": [
        "result8=ibmdata.select(\"Gender\",ibmdata.JobRole.substr(1,4)).show()"
      ],
      "metadata": {
        "colab": {
          "base_uri": "https://localhost:8080/"
        },
        "id": "y7-RED3TmddG",
        "outputId": "3717cf83-3086-47ef-974c-747ee5759a38"
      },
      "execution_count": 13,
      "outputs": [
        {
          "output_type": "stream",
          "name": "stdout",
          "text": [
            "+------+------------------------+\n",
            "|Gender|substring(JobRole, 1, 4)|\n",
            "+------+------------------------+\n",
            "|Female|                    Sale|\n",
            "|  Male|                    Rese|\n",
            "|  Male|                    Labo|\n",
            "|Female|                    Rese|\n",
            "|  Male|                    Labo|\n",
            "|  Male|                    Labo|\n",
            "|Female|                    Labo|\n",
            "|  Male|                    Labo|\n",
            "|  Male|                    Manu|\n",
            "|  Male|                    Heal|\n",
            "|  Male|                    Labo|\n",
            "|Female|                    Labo|\n",
            "|  Male|                    Rese|\n",
            "|  Male|                    Labo|\n",
            "|  Male|                    Labo|\n",
            "|Female|                    Manu|\n",
            "|  Male|                    Rese|\n",
            "|  Male|                    Labo|\n",
            "|Female|                    Mana|\n",
            "|  Male|                    Rese|\n",
            "+------+------------------------+\n",
            "only showing top 20 rows\n",
            "\n"
          ]
        }
      ]
    },
    {
      "cell_type": "code",
      "source": [
        "#result9=ibmdata.select(\"Gender\",ibmdata.Age.when(ibmdata.Age >60,\"senior\")).show()"
      ],
      "metadata": {
        "id": "4nPZIR5Nmdfk"
      },
      "execution_count": 15,
      "outputs": []
    },
    {
      "cell_type": "code",
      "source": [
        "result10=ibmdata.filter((ibmdata[\"Gender\"]==\"Male\") & (ibmdata[\"MaritalStatus\"]==\"Married\") & (ibmdata[\"Age\"]==50)).show()"
      ],
      "metadata": {
        "colab": {
          "base_uri": "https://localhost:8080/"
        },
        "id": "k6OTm4VYmdiU",
        "outputId": "68a37673-b1e5-4660-9cf8-8f3a7d40349c"
      },
      "execution_count": 16,
      "outputs": [
        {
          "output_type": "stream",
          "name": "stdout",
          "text": [
            "+---+---------+-----------------+---------+--------------------+----------------+---------+----------------+-------------+--------------+-----------------------+------+----------+--------------+--------+--------------------+---------------+-------------+-------------+-----------+------------------+------+--------+-----------------+-----------------+------------------------+-------------+----------------+-----------------+---------------------+---------------+--------------+------------------+-----------------------+--------------------+\n",
            "|Age|Attrition|   BusinessTravel|DailyRate|          Department|DistanceFromHome|Education|  EducationField|EmployeeCount|EmployeeNumber|EnvironmentSatisfaction|Gender|HourlyRate|JobInvolvement|JobLevel|             JobRole|JobSatisfaction|MaritalStatus|MonthlyIncome|MonthlyRate|NumCompaniesWorked|Over18|OverTime|PercentSalaryHike|PerformanceRating|RelationshipSatisfaction|StandardHours|StockOptionLevel|TotalWorkingYears|TrainingTimesLastYear|WorkLifeBalance|YearsAtCompany|YearsInCurrentRole|YearsSinceLastPromotion|YearsWithCurrManager|\n",
            "+---+---------+-----------------+---------+--------------------+----------------+---------+----------------+-------------+--------------+-----------------------+------+----------+--------------+--------+--------------------+---------------+-------------+-------------+-----------+------------------+------+--------+-----------------+-----------------+------------------------+-------------+----------------+-----------------+---------------------+---------------+--------------+------------------+-----------------------+--------------------+\n",
            "| 50|      Yes|    Travel_Rarely|      869|               Sales|               3|        2|       Marketing|            1|            47|                      1|  Male|        86|             2|       1|Sales Representative|              3|      Married|         2683|       3810|                 1|     Y|     Yes|               14|                3|                       3|           80|               0|                3|                    2|              3|             3|                 2|                      0|                   2|\n",
            "| 50|       No|    Travel_Rarely|      328|Research & Develo...|               1|        3|         Medical|            1|           249|                      3|  Male|        86|             2|       1|Laboratory Techni...|              3|      Married|         3690|       3425|                 2|     Y|      No|               15|                3|                       4|           80|               1|                5|                    2|              2|             3|                 2|                      0|                   2|\n",
            "| 50|       No|    Travel_Rarely|     1099|Research & Develo...|              29|        4|   Life Sciences|            1|           569|                      2|  Male|        88|             2|       4|             Manager|              3|      Married|        17046|       9314|                 0|     Y|      No|               15|                3|                       2|           80|               1|               28|                    2|              3|            27|                10|                     15|                   7|\n",
            "| 50|       No|Travel_Frequently|     1246|     Human Resources|               3|        3|         Medical|            1|           644|                      1|  Male|        99|             3|       5|             Manager|              2|      Married|        18200|       7999|                 1|     Y|      No|               11|                3|                       3|           80|               1|               32|                    2|              3|            32|                 5|                     10|                   7|\n",
            "| 50|       No|    Travel_Rarely|     1207|Research & Develo...|              28|        1|         Medical|            1|           716|                      4|  Male|        74|             4|       1|Laboratory Techni...|              3|      Married|         3221|       3297|                 1|     Y|     Yes|               11|                3|                       3|           80|               3|               20|                    3|              3|            20|                 8|                      3|                   8|\n",
            "| 50|      Yes|Travel_Frequently|      562|               Sales|               8|        2|Technical Degree|            1|           723|                      2|  Male|        50|             3|       2|     Sales Executive|              3|      Married|         6796|      23452|                 3|     Y|     Yes|               14|                3|                       1|           80|               1|               18|                    4|              3|             4|                 3|                      1|                   3|\n",
            "| 50|       No|    Travel_Rarely|      316|               Sales|               8|        4|       Marketing|            1|           738|                      4|  Male|        54|             3|       1|Sales Representative|              2|      Married|         3875|       9983|                 7|     Y|      No|               15|                3|                       4|           80|               1|                4|                    2|              3|             2|                 2|                      2|                   2|\n",
            "| 50|       No|    Travel_Rarely|      691|Research & Develo...|               2|        3|         Medical|            1|           815|                      3|  Male|        64|             3|       4|   Research Director|              3|      Married|        17639|       6881|                 5|     Y|      No|               16|                3|                       4|           80|               0|               30|                    3|              3|             4|                 3|                      0|                   3|\n",
            "| 50|       No|    Travel_Rarely|      939|Research & Develo...|              24|        3|   Life Sciences|            1|          1005|                      4|  Male|        95|             3|       4|Manufacturing Dir...|              3|      Married|        13973|       4161|                 3|     Y|     Yes|               18|                3|                       4|           80|               1|               22|                    2|              3|            12|                11|                      1|                   5|\n",
            "| 50|       No|    Travel_Rarely|      804|Research & Develo...|               9|        3|   Life Sciences|            1|          1030|                      1|  Male|        64|             3|       1|Laboratory Techni...|              4|      Married|         2380|      20165|                 4|     Y|      No|               18|                3|                       2|           80|               0|                8|                    5|              3|             1|                 0|                      0|                   0|\n",
            "| 50|       No|    Travel_Rarely|     1464|Research & Develo...|               2|        4|         Medical|            1|          1061|                      2|  Male|        62|             3|       5|   Research Director|              3|      Married|        19237|      12853|                 2|     Y|     Yes|               11|                3|                       4|           80|               1|               29|                    2|              2|             8|                 1|                      7|                   7|\n",
            "| 50|       No|    Travel_Rarely|      264|               Sales|               9|        3|       Marketing|            1|          1591|                      3|  Male|        59|             3|       5|             Manager|              3|      Married|        19331|      19519|                 4|     Y|     Yes|               16|                3|                       3|           80|               1|               27|                    2|              3|             1|                 0|                      0|                   0|\n",
            "| 50|       No|Travel_Frequently|     1234|Research & Develo...|              20|        5|         Medical|            1|          1606|                      2|  Male|        41|             3|       4|Healthcare Repres...|              3|      Married|        11245|      20689|                 2|     Y|     Yes|               15|                3|                       3|           80|               1|               32|                    3|              3|            30|                 8|                     12|                  13|\n",
            "+---+---------+-----------------+---------+--------------------+----------------+---------+----------------+-------------+--------------+-----------------------+------+----------+--------------+--------+--------------------+---------------+-------------+-------------+-----------+------------------+------+--------+-----------------+-----------------+------------------------+-------------+----------------+-----------------+---------------------+---------------+--------------+------------------+-----------------------+--------------------+\n",
            "\n"
          ]
        }
      ]
    },
    {
      "cell_type": "code",
      "source": [
        "result10=ibmdata.filter((ibmdata[\"Gender\"]==\"Male\") & (ibmdata[\"MaritalStatus\"]==\"Married\") | (ibmdata[\"Age\"]>50)).show()"
      ],
      "metadata": {
        "colab": {
          "base_uri": "https://localhost:8080/"
        },
        "id": "fuPqto43mdkn",
        "outputId": "1e8afc64-099e-4a3e-aed2-7a3fe631c0f1"
      },
      "execution_count": 17,
      "outputs": [
        {
          "output_type": "stream",
          "name": "stdout",
          "text": [
            "+---+---------+-----------------+---------+--------------------+----------------+---------+----------------+-------------+--------------+-----------------------+------+----------+--------------+--------+--------------------+---------------+-------------+-------------+-----------+------------------+------+--------+-----------------+-----------------+------------------------+-------------+----------------+-----------------+---------------------+---------------+--------------+------------------+-----------------------+--------------------+\n",
            "|Age|Attrition|   BusinessTravel|DailyRate|          Department|DistanceFromHome|Education|  EducationField|EmployeeCount|EmployeeNumber|EnvironmentSatisfaction|Gender|HourlyRate|JobInvolvement|JobLevel|             JobRole|JobSatisfaction|MaritalStatus|MonthlyIncome|MonthlyRate|NumCompaniesWorked|Over18|OverTime|PercentSalaryHike|PerformanceRating|RelationshipSatisfaction|StandardHours|StockOptionLevel|TotalWorkingYears|TrainingTimesLastYear|WorkLifeBalance|YearsAtCompany|YearsInCurrentRole|YearsSinceLastPromotion|YearsWithCurrManager|\n",
            "+---+---------+-----------------+---------+--------------------+----------------+---------+----------------+-------------+--------------+-----------------------+------+----------+--------------+--------+--------------------+---------------+-------------+-------------+-----------+------------------+------+--------+-----------------+-----------------+------------------------+-------------+----------------+-----------------+---------------------+---------------+--------------+------------------+-----------------------+--------------------+\n",
            "| 49|       No|Travel_Frequently|      279|Research & Develo...|               8|        1|   Life Sciences|            1|             2|                      3|  Male|        61|             2|       2|  Research Scientist|              2|      Married|         5130|      24907|                 1|     Y|      No|               23|                4|                       4|           80|               1|               10|                    3|              3|            10|                 7|                      1|                   7|\n",
            "| 27|       No|    Travel_Rarely|      591|Research & Develo...|               2|        1|         Medical|            1|             7|                      1|  Male|        40|             3|       1|Laboratory Techni...|              2|      Married|         3468|      16632|                 9|     Y|      No|               12|                3|                       4|           80|               1|                6|                    3|              3|             2|                 2|                      2|                   2|\n",
            "| 59|       No|    Travel_Rarely|     1324|Research & Develo...|               3|        3|         Medical|            1|            10|                      3|Female|        81|             4|       1|Laboratory Techni...|              1|      Married|         2670|       9964|                 4|     Y|     Yes|               20|                4|                       1|           80|               3|               12|                    3|              2|             1|                 0|                      0|                   0|\n",
            "| 36|       No|    Travel_Rarely|     1299|Research & Develo...|              27|        3|         Medical|            1|            13|                      3|  Male|        94|             3|       2|Healthcare Repres...|              3|      Married|         5237|      16577|                 6|     Y|      No|               13|                3|                       2|           80|               2|               17|                    3|              2|             7|                 7|                      7|                   7|\n",
            "| 35|       No|    Travel_Rarely|      809|Research & Develo...|              16|        3|         Medical|            1|            14|                      1|  Male|        84|             4|       1|Laboratory Techni...|              2|      Married|         2426|      16479|                 0|     Y|      No|               13|                3|                       3|           80|               1|                6|                    5|              3|             5|                 4|                      0|                   3|\n",
            "| 53|       No|    Travel_Rarely|     1219|               Sales|               2|        4|   Life Sciences|            1|            23|                      1|Female|        78|             2|       4|             Manager|              4|      Married|        15427|      22021|                 2|     Y|      No|               16|                3|                       3|           80|               0|               31|                    3|              3|            25|                 8|                      3|                   7|\n",
            "| 53|       No|    Travel_Rarely|     1282|Research & Develo...|               5|        3|           Other|            1|            32|                      3|Female|        58|             3|       5|             Manager|              3|     Divorced|        19094|      10735|                 4|     Y|      No|               11|                3|                       4|           80|               1|               26|                    3|              2|            14|                13|                      4|                   8|\n",
            "| 42|       No|    Travel_Rarely|      691|               Sales|               8|        4|       Marketing|            1|            35|                      3|  Male|        48|             3|       2|     Sales Executive|              2|      Married|         6825|      21173|                 0|     Y|      No|               11|                3|                       4|           80|               1|               10|                    2|              3|             9|                 7|                      4|                   2|\n",
            "| 44|       No|    Travel_Rarely|     1459|Research & Develo...|              10|        4|           Other|            1|            40|                      4|  Male|        41|             3|       2|Healthcare Repres...|              4|      Married|         6465|      19121|                 2|     Y|     Yes|               13|                3|                       4|           80|               0|                9|                    5|              4|             4|                 2|                      1|                   3|\n",
            "| 39|      Yes|    Travel_Rarely|      895|               Sales|               5|        3|Technical Degree|            1|            42|                      4|  Male|        56|             3|       2|Sales Representative|              4|      Married|         2086|       3335|                 3|     Y|      No|               14|                3|                       3|           80|               1|               19|                    6|              4|             1|                 0|                      0|                   0|\n",
            "| 24|      Yes|    Travel_Rarely|      813|Research & Develo...|               1|        3|         Medical|            1|            45|                      2|  Male|        61|             3|       1|  Research Scientist|              4|      Married|         2293|       3020|                 2|     Y|     Yes|               16|                3|                       1|           80|               1|                6|                    2|              2|             2|                 0|                      2|                   0|\n",
            "| 50|      Yes|    Travel_Rarely|      869|               Sales|               3|        2|       Marketing|            1|            47|                      1|  Male|        86|             2|       1|Sales Representative|              3|      Married|         2683|       3810|                 1|     Y|     Yes|               14|                3|                       3|           80|               0|                3|                    2|              3|             3|                 2|                      0|                   2|\n",
            "| 37|       No|    Travel_Rarely|      408|Research & Develo...|              19|        2|   Life Sciences|            1|            61|                      2|  Male|        73|             3|       1|  Research Scientist|              2|      Married|         3022|      10227|                 4|     Y|      No|               21|                4|                       1|           80|               0|                8|                    1|              3|             1|                 0|                      0|                   0|\n",
            "| 35|       No|    Travel_Rarely|     1229|Research & Develo...|               8|        1|   Life Sciences|            1|            63|                      4|  Male|        36|             4|       1|Laboratory Techni...|              4|      Married|         2269|       4892|                 1|     Y|      No|               19|                3|                       4|           80|               0|                1|                    2|              3|             1|                 0|                      0|                   1|\n",
            "| 35|       No|       Non-Travel|     1097|Research & Develo...|              11|        2|         Medical|            1|            70|                      3|  Male|        79|             2|       3|Healthcare Repres...|              1|      Married|         9884|       8302|                 2|     Y|     Yes|               13|                3|                       3|           80|               1|               10|                    3|              3|             4|                 0|                      2|                   3|\n",
            "| 35|       No|Travel_Frequently|      853|               Sales|              18|        5|   Life Sciences|            1|            74|                      2|  Male|        71|             3|       3|     Sales Executive|              1|      Married|         9069|      11031|                 1|     Y|      No|               22|                4|                       4|           80|               1|                9|                    3|              2|             9|                 8|                      1|                   8|\n",
            "| 32|       No|    Travel_Rarely|      427|Research & Develo...|               1|        3|         Medical|            1|            78|                      1|  Male|        33|             3|       2|Manufacturing Dir...|              4|      Married|         6162|      10877|                 1|     Y|     Yes|               22|                4|                       2|           80|               1|                9|                    3|              3|             9|                 8|                      7|                   8|\n",
            "| 59|       No|    Travel_Rarely|     1435|               Sales|              25|        3|   Life Sciences|            1|            81|                      1|Female|        99|             3|       3|     Sales Executive|              1|       Single|         7637|       2354|                 7|     Y|      No|               11|                3|                       4|           80|               0|               28|                    3|              2|            21|                16|                      7|                   9|\n",
            "| 55|       No|    Travel_Rarely|      836|Research & Develo...|               8|        3|         Medical|            1|            84|                      4|Female|        33|             3|       4|             Manager|              3|     Divorced|        14756|      19730|                 2|     Y|     Yes|               14|                3|                       3|           80|               3|               21|                    2|              3|             5|                 0|                      0|                   2|\n",
            "| 35|       No|Travel_Frequently|      664|Research & Develo...|               1|        3|         Medical|            1|            88|                      2|  Male|        79|             3|       1|  Research Scientist|              1|      Married|         2194|       5868|                 4|     Y|      No|               13|                3|                       4|           80|               1|                5|                    2|              2|             3|                 2|                      1|                   2|\n",
            "+---+---------+-----------------+---------+--------------------+----------------+---------+----------------+-------------+--------------+-----------------------+------+----------+--------------+--------+--------------------+---------------+-------------+-------------+-----------+------------------+------+--------+-----------------+-----------------+------------------------+-------------+----------------+-----------------+---------------------+---------------+--------------+------------------+-----------------------+--------------------+\n",
            "only showing top 20 rows\n",
            "\n"
          ]
        }
      ]
    },
    {
      "cell_type": "code",
      "source": [
        "result12=ibmdata.filter((ibmdata[\"BusinessTravel\"]==\"Travel_Rarely\") & (ibmdata[\"Department\"]==\"Sales\") & (ibmdata[\"EducationField\"]==\"Other\"))\n",
        "result12.select(\"BusinessTravel\",\"Department\",\"EducationField\").show()"
      ],
      "metadata": {
        "colab": {
          "base_uri": "https://localhost:8080/"
        },
        "id": "rQk7tgd5mdnS",
        "outputId": "331d36d2-6a0e-4944-faf5-54dcced6436f"
      },
      "execution_count": 18,
      "outputs": [
        {
          "output_type": "stream",
          "name": "stdout",
          "text": [
            "+--------------+----------+--------------+\n",
            "|BusinessTravel|Department|EducationField|\n",
            "+--------------+----------+--------------+\n",
            "| Travel_Rarely|     Sales|         Other|\n",
            "| Travel_Rarely|     Sales|         Other|\n",
            "| Travel_Rarely|     Sales|         Other|\n",
            "| Travel_Rarely|     Sales|         Other|\n",
            "| Travel_Rarely|     Sales|         Other|\n",
            "| Travel_Rarely|     Sales|         Other|\n",
            "| Travel_Rarely|     Sales|         Other|\n",
            "| Travel_Rarely|     Sales|         Other|\n",
            "| Travel_Rarely|     Sales|         Other|\n",
            "+--------------+----------+--------------+\n",
            "\n"
          ]
        }
      ]
    },
    {
      "cell_type": "code",
      "source": [
        "#the filter function helps you to display the records according to the specifird criteria \n",
        "#the selct function helps you to display the selected columns \n",
        "#But I wanted to display the selected columns from the filtered \n",
        "# so we use filter and select together "
      ],
      "metadata": {
        "id": "OGejG9r4mdp8"
      },
      "execution_count": 29,
      "outputs": []
    },
    {
      "cell_type": "code",
      "source": [
        "result10=ibmdata.filter((ibmdata[\"Gender\"]==\"Male\") & (ibmdata[\"MaritalStatus\"]==\"Married\") & (ibmdata[\"Age\"]==50))\n",
        "result10.select(\"Gender\",\"MaritalStatus\",\"Age\").show()"
      ],
      "metadata": {
        "colab": {
          "base_uri": "https://localhost:8080/"
        },
        "id": "p3qLd-01mdsh",
        "outputId": "def7f639-699a-4ebe-ab89-7a8f1d35b984"
      },
      "execution_count": 28,
      "outputs": [
        {
          "output_type": "stream",
          "name": "stdout",
          "text": [
            "+------+-------------+---+\n",
            "|Gender|MaritalStatus|Age|\n",
            "+------+-------------+---+\n",
            "|  Male|      Married| 50|\n",
            "|  Male|      Married| 50|\n",
            "|  Male|      Married| 50|\n",
            "|  Male|      Married| 50|\n",
            "|  Male|      Married| 50|\n",
            "|  Male|      Married| 50|\n",
            "|  Male|      Married| 50|\n",
            "|  Male|      Married| 50|\n",
            "|  Male|      Married| 50|\n",
            "|  Male|      Married| 50|\n",
            "|  Male|      Married| 50|\n",
            "|  Male|      Married| 50|\n",
            "|  Male|      Married| 50|\n",
            "+------+-------------+---+\n",
            "\n"
          ]
        }
      ]
    },
    {
      "cell_type": "code",
      "source": [
        "ibmdata.filter(ibmdata[\"Age\"]>58).select(\"Age\",\"Gender\").show()"
      ],
      "metadata": {
        "colab": {
          "base_uri": "https://localhost:8080/"
        },
        "id": "Ve8rMECNmdvM",
        "outputId": "3437ca30-d1ad-4c07-ad19-de9c6aeba59f"
      },
      "execution_count": 27,
      "outputs": [
        {
          "output_type": "stream",
          "name": "stdout",
          "text": [
            "+---+------+\n",
            "|Age|Gender|\n",
            "+---+------+\n",
            "| 59|Female|\n",
            "| 59|Female|\n",
            "| 59|Female|\n",
            "| 59|Female|\n",
            "| 59|  Male|\n",
            "| 59|  Male|\n",
            "| 60|Female|\n",
            "| 60|Female|\n",
            "| 60|  Male|\n",
            "| 59|Female|\n",
            "| 59|  Male|\n",
            "| 60|  Male|\n",
            "| 59|Female|\n",
            "| 59|  Male|\n",
            "| 60|  Male|\n",
            "+---+------+\n",
            "\n"
          ]
        }
      ]
    },
    {
      "cell_type": "code",
      "source": [
        "ibmdata.filter(ibmdata[\"Attrition\"]==\"Yes\").select(\"Age\",\"Gender\").show()"
      ],
      "metadata": {
        "colab": {
          "base_uri": "https://localhost:8080/"
        },
        "id": "RvbC5_pTmdx_",
        "outputId": "ec3fdec6-88d3-4d78-8700-d0cfed7b5d1c"
      },
      "execution_count": 26,
      "outputs": [
        {
          "output_type": "stream",
          "name": "stdout",
          "text": [
            "+---+------+\n",
            "|Age|Gender|\n",
            "+---+------+\n",
            "| 41|Female|\n",
            "| 37|  Male|\n",
            "| 28|  Male|\n",
            "| 36|  Male|\n",
            "| 34|  Male|\n",
            "| 32|Female|\n",
            "| 39|  Male|\n",
            "| 24|  Male|\n",
            "| 50|  Male|\n",
            "| 26|  Male|\n",
            "| 41|Female|\n",
            "| 48|  Male|\n",
            "| 28|  Male|\n",
            "| 36|  Male|\n",
            "| 46|  Male|\n",
            "| 37|  Male|\n",
            "| 20|Female|\n",
            "| 25|  Male|\n",
            "| 34|  Male|\n",
            "| 56|Female|\n",
            "+---+------+\n",
            "only showing top 20 rows\n",
            "\n"
          ]
        }
      ]
    },
    {
      "cell_type": "code",
      "source": [
        "ibmdata.filter(ibmdata[\"DailyRate\"]>1000).select(\"Age\",\"Gender\",\"DailyRate\").orderBy(ibmdata[\"DailyRate\"],ibmdata[\"Age\"]).show()"
      ],
      "metadata": {
        "colab": {
          "base_uri": "https://localhost:8080/"
        },
        "id": "KD_QIAhvmd0j",
        "outputId": "6e9f5354-e728-435a-bc01-09ced66bf015"
      },
      "execution_count": 25,
      "outputs": [
        {
          "output_type": "stream",
          "name": "stdout",
          "text": [
            "+---+------+---------+\n",
            "|Age|Gender|DailyRate|\n",
            "+---+------+---------+\n",
            "| 43|Female|     1001|\n",
            "| 43|  Male|     1001|\n",
            "| 47|Female|     1001|\n",
            "| 49|  Male|     1002|\n",
            "| 31|  Male|     1003|\n",
            "| 34|  Male|     1003|\n",
            "| 46|Female|     1003|\n",
            "| 30|Female|     1005|\n",
            "| 32|  Male|     1005|\n",
            "| 45|Female|     1005|\n",
            "| 28|  Male|     1009|\n",
            "| 38|Female|     1009|\n",
            "| 46|  Male|     1009|\n",
            "| 29|Female|     1010|\n",
            "| 30|  Male|     1012|\n",
            "| 45|Female|     1015|\n",
            "| 33|  Male|     1017|\n",
            "| 35|  Male|     1017|\n",
            "| 37|Female|     1017|\n",
            "| 32|Female|     1018|\n",
            "+---+------+---------+\n",
            "only showing top 20 rows\n",
            "\n"
          ]
        }
      ]
    },
    {
      "cell_type": "code",
      "source": [
        "#Display Gender Departmeny jobrole of male employees belonging to sales dept\n",
        "\n",
        "ibmdata.filter((ibmdata[\"Department\"]==\"Sales\") & (ibmdata[\"Gender\"]==\"Male\")).select(\"DailyRate\",\"Gender\",\"Department\",\"JobRole\").show()"
      ],
      "metadata": {
        "colab": {
          "base_uri": "https://localhost:8080/"
        },
        "id": "MigjQtDWmd3M",
        "outputId": "ce7a6ea0-7cf6-4c3e-94c8-bb2d80095b3b"
      },
      "execution_count": 24,
      "outputs": [
        {
          "output_type": "stream",
          "name": "stdout",
          "text": [
            "+---------+------+----------+--------------------+\n",
            "|DailyRate|Gender|Department|             JobRole|\n",
            "+---------+------+----------+--------------------+\n",
            "|     1218|  Male|     Sales|Sales Representative|\n",
            "|      691|  Male|     Sales|     Sales Executive|\n",
            "|      895|  Male|     Sales|Sales Representative|\n",
            "|      869|  Male|     Sales|Sales Representative|\n",
            "|      994|  Male|     Sales|     Sales Executive|\n",
            "|     1065|  Male|     Sales|     Sales Executive|\n",
            "|     1211|  Male|     Sales|     Sales Executive|\n",
            "|      853|  Male|     Sales|     Sales Executive|\n",
            "|      776|  Male|     Sales|     Sales Executive|\n",
            "|      111|  Male|     Sales|     Sales Executive|\n",
            "|      541|  Male|     Sales|Sales Representative|\n",
            "|      669|  Male|     Sales|     Sales Executive|\n",
            "|      632|  Male|     Sales|     Sales Executive|\n",
            "|     1093|  Male|     Sales|     Sales Executive|\n",
            "|      120|  Male|     Sales|     Sales Executive|\n",
            "|      682|  Male|     Sales|     Sales Executive|\n",
            "|      240|  Male|     Sales|     Sales Executive|\n",
            "|     1189|  Male|     Sales|     Sales Executive|\n",
            "|      394|  Male|     Sales|             Manager|\n",
            "|      750|  Male|     Sales|     Sales Executive|\n",
            "+---------+------+----------+--------------------+\n",
            "only showing top 20 rows\n",
            "\n"
          ]
        }
      ]
    },
    {
      "cell_type": "code",
      "source": [
        "#Display age attrition jobrole marital status of married female employees whoose daily rate is >150 and age>50\n",
        "\n",
        "ibmdata.filter((ibmdata[\"MaritalStatus\"]==\"Married\") & (ibmdata[\"DailyRate\"]>150) & (ibmdata[\"Age\"]>50) & (ibmdata[\"Gender\"]==\"Female\")).select(\"Age\",\"Attrition\",\"JobRole\",\"MaritalStatus\").show()"
      ],
      "metadata": {
        "colab": {
          "base_uri": "https://localhost:8080/"
        },
        "id": "arDcRPGymd53",
        "outputId": "c7aae0fc-f9aa-4ad3-e842-7103acb7a502"
      },
      "execution_count": 23,
      "outputs": [
        {
          "output_type": "stream",
          "name": "stdout",
          "text": [
            "+---+---------+--------------------+-------------+\n",
            "|Age|Attrition|             JobRole|MaritalStatus|\n",
            "+---+---------+--------------------+-------------+\n",
            "| 59|       No|Laboratory Techni...|      Married|\n",
            "| 53|       No|             Manager|      Married|\n",
            "| 54|       No|   Research Director|      Married|\n",
            "| 59|       No|             Manager|      Married|\n",
            "| 56|      Yes|  Research Scientist|      Married|\n",
            "| 58|       No|  Research Scientist|      Married|\n",
            "| 54|       No|     Sales Executive|      Married|\n",
            "| 51|       No|     Sales Executive|      Married|\n",
            "| 56|       No|     Sales Executive|      Married|\n",
            "| 52|       No|             Manager|      Married|\n",
            "| 60|       No|             Manager|      Married|\n",
            "| 60|       No|     Sales Executive|      Married|\n",
            "| 52|       No|Laboratory Techni...|      Married|\n",
            "| 51|       No|             Manager|      Married|\n",
            "| 53|       No|     Sales Executive|      Married|\n",
            "| 52|       No|Manufacturing Dir...|      Married|\n",
            "| 54|       No|Manufacturing Dir...|      Married|\n",
            "| 52|      Yes|             Manager|      Married|\n",
            "| 54|       No|     Sales Executive|      Married|\n",
            "| 56|       No|  Research Scientist|      Married|\n",
            "+---+---------+--------------------+-------------+\n",
            "only showing top 20 rows\n",
            "\n"
          ]
        }
      ]
    },
    {
      "cell_type": "code",
      "source": [
        "ibmdata.filter((ibmdata[\"MaritalStatus\"]==\"Married\") & (ibmdata[\"DailyRate\"]>150) & (ibmdata[\"Age\"]>50) & (ibmdata[\"Gender\"]==\"Female\")).select(\"Age\",\"Attrition\",\"JobRole\",\"MaritalStatus\").limit(5).show()"
      ],
      "metadata": {
        "colab": {
          "base_uri": "https://localhost:8080/"
        },
        "id": "ll6f82DOmd8m",
        "outputId": "2f6aac5e-b5f8-43fb-cbe1-8b542b835590"
      },
      "execution_count": 22,
      "outputs": [
        {
          "output_type": "stream",
          "name": "stdout",
          "text": [
            "+---+---------+--------------------+-------------+\n",
            "|Age|Attrition|             JobRole|MaritalStatus|\n",
            "+---+---------+--------------------+-------------+\n",
            "| 59|       No|Laboratory Techni...|      Married|\n",
            "| 53|       No|             Manager|      Married|\n",
            "| 54|       No|   Research Director|      Married|\n",
            "| 59|       No|             Manager|      Married|\n",
            "| 56|      Yes|  Research Scientist|      Married|\n",
            "+---+---------+--------------------+-------------+\n",
            "\n"
          ]
        }
      ]
    },
    {
      "cell_type": "code",
      "source": [
        "#display ,jobrole,department,age of sales deaprtment employee whoose marital status is not married and \n",
        "#whose h=jobrole should starts with S\n",
        "\n",
        "ibmdata.filter((ibmdata[\"Department\"]==\"Sales\") & (ibmdata[\"MaritalStatus\"]!=\"Married\") & ibmdata.JobRole.like(\"S%\")).select(\"Age\",\"Department\",\"JobRole\").show()"
      ],
      "metadata": {
        "colab": {
          "base_uri": "https://localhost:8080/"
        },
        "id": "PSLgyerumd_A",
        "outputId": "ea3b9c48-3a5e-43c3-accb-0a3bf1b34481"
      },
      "execution_count": 21,
      "outputs": [
        {
          "output_type": "stream",
          "name": "stdout",
          "text": [
            "+---+----------+--------------------+\n",
            "|Age|Department|             JobRole|\n",
            "+---+----------+--------------------+\n",
            "| 41|     Sales|     Sales Executive|\n",
            "| 36|     Sales|Sales Representative|\n",
            "| 27|     Sales|     Sales Executive|\n",
            "| 34|     Sales|     Sales Executive|\n",
            "| 46|     Sales|     Sales Executive|\n",
            "| 44|     Sales|     Sales Executive|\n",
            "| 59|     Sales|     Sales Executive|\n",
            "| 59|     Sales|     Sales Executive|\n",
            "| 35|     Sales|     Sales Executive|\n",
            "| 23|     Sales|Sales Representative|\n",
            "| 46|     Sales|     Sales Executive|\n",
            "| 51|     Sales|     Sales Executive|\n",
            "| 30|     Sales|     Sales Executive|\n",
            "| 32|     Sales|     Sales Executive|\n",
            "| 58|     Sales|     Sales Executive|\n",
            "| 25|     Sales|     Sales Executive|\n",
            "| 37|     Sales|     Sales Executive|\n",
            "| 19|     Sales|Sales Representative|\n",
            "| 50|     Sales|     Sales Executive|\n",
            "| 41|     Sales|     Sales Executive|\n",
            "+---+----------+--------------------+\n",
            "only showing top 20 rows\n",
            "\n"
          ]
        }
      ]
    },
    {
      "cell_type": "code",
      "source": [
        "#jobrole starts with s ----\n",
        "data=ibmdata.filter((ibmdata[\"Department\"]==\"Sales\") & (ibmdata[\"MaritalStatus\"]!=\"Married\") & ibmdata[\"JobRole\"].like(\"S%\"))\n",
        "data.select(\"Age\",\"Department\",\"JobRole\",\"MaritalStatus\").show()"
      ],
      "metadata": {
        "colab": {
          "base_uri": "https://localhost:8080/"
        },
        "id": "rRSrIc5ImeBx",
        "outputId": "7be2458f-2db5-4a17-8367-78e63c0ae708"
      },
      "execution_count": 20,
      "outputs": [
        {
          "output_type": "stream",
          "name": "stdout",
          "text": [
            "+---+----------+--------------------+-------------+\n",
            "|Age|Department|             JobRole|MaritalStatus|\n",
            "+---+----------+--------------------+-------------+\n",
            "| 41|     Sales|     Sales Executive|       Single|\n",
            "| 36|     Sales|Sales Representative|       Single|\n",
            "| 27|     Sales|     Sales Executive|       Single|\n",
            "| 34|     Sales|     Sales Executive|       Single|\n",
            "| 46|     Sales|     Sales Executive|       Single|\n",
            "| 44|     Sales|     Sales Executive|     Divorced|\n",
            "| 59|     Sales|     Sales Executive|       Single|\n",
            "| 59|     Sales|     Sales Executive|       Single|\n",
            "| 35|     Sales|     Sales Executive|       Single|\n",
            "| 23|     Sales|Sales Representative|     Divorced|\n",
            "| 46|     Sales|     Sales Executive|       Single|\n",
            "| 51|     Sales|     Sales Executive|       Single|\n",
            "| 30|     Sales|     Sales Executive|     Divorced|\n",
            "| 32|     Sales|     Sales Executive|       Single|\n",
            "| 58|     Sales|     Sales Executive|       Single|\n",
            "| 25|     Sales|     Sales Executive|       Single|\n",
            "| 37|     Sales|     Sales Executive|       Single|\n",
            "| 19|     Sales|Sales Representative|       Single|\n",
            "| 50|     Sales|     Sales Executive|       Single|\n",
            "| 41|     Sales|     Sales Executive|     Divorced|\n",
            "+---+----------+--------------------+-------------+\n",
            "only showing top 20 rows\n",
            "\n"
          ]
        }
      ]
    },
    {
      "cell_type": "code",
      "source": [
        "#Jobrole should ends with executive \n",
        "data=ibmdata.filter((ibmdata[\"Department\"]==\"Sales\") & (ibmdata[\"MaritalStatus\"]!=\"Married\") & ibmdata[\"JobRole\"].like(\"%Executive\"))\n",
        "data.select(\"Age\",\"Department\",\"JobRole\",\"MaritalStatus\").show()"
      ],
      "metadata": {
        "colab": {
          "base_uri": "https://localhost:8080/"
        },
        "id": "0z9co7TameEp",
        "outputId": "3914a9dc-a873-41ad-afff-c1e99fc20106"
      },
      "execution_count": 19,
      "outputs": [
        {
          "output_type": "stream",
          "name": "stdout",
          "text": [
            "+---+----------+---------------+-------------+\n",
            "|Age|Department|        JobRole|MaritalStatus|\n",
            "+---+----------+---------------+-------------+\n",
            "| 41|     Sales|Sales Executive|       Single|\n",
            "| 27|     Sales|Sales Executive|       Single|\n",
            "| 34|     Sales|Sales Executive|       Single|\n",
            "| 46|     Sales|Sales Executive|       Single|\n",
            "| 44|     Sales|Sales Executive|     Divorced|\n",
            "| 59|     Sales|Sales Executive|       Single|\n",
            "| 59|     Sales|Sales Executive|       Single|\n",
            "| 35|     Sales|Sales Executive|       Single|\n",
            "| 46|     Sales|Sales Executive|       Single|\n",
            "| 51|     Sales|Sales Executive|       Single|\n",
            "| 30|     Sales|Sales Executive|     Divorced|\n",
            "| 32|     Sales|Sales Executive|       Single|\n",
            "| 58|     Sales|Sales Executive|       Single|\n",
            "| 25|     Sales|Sales Executive|       Single|\n",
            "| 37|     Sales|Sales Executive|       Single|\n",
            "| 50|     Sales|Sales Executive|       Single|\n",
            "| 41|     Sales|Sales Executive|     Divorced|\n",
            "| 32|     Sales|Sales Executive|     Divorced|\n",
            "| 32|     Sales|Sales Executive|       Single|\n",
            "| 38|     Sales|Sales Executive|       Single|\n",
            "+---+----------+---------------+-------------+\n",
            "only showing top 20 rows\n",
            "\n"
          ]
        }
      ]
    },
    {
      "cell_type": "markdown",
      "source": [
        "date 24/04/2022"
      ],
      "metadata": {
        "id": "u20MJuVfw4H6"
      }
    },
    {
      "cell_type": "code",
      "source": [
        "ibmdata.count()"
      ],
      "metadata": {
        "id": "cgQSc7yumeHk",
        "colab": {
          "base_uri": "https://localhost:8080/"
        },
        "outputId": "f3b9c59d-0e93-437f-d1fa-1afb5ed15ed8"
      },
      "execution_count": 30,
      "outputs": [
        {
          "output_type": "execute_result",
          "data": {
            "text/plain": [
              "1470"
            ]
          },
          "metadata": {},
          "execution_count": 30
        }
      ]
    },
    {
      "cell_type": "code",
      "source": [
        "ibmdata.select(\"*\").show(4)"
      ],
      "metadata": {
        "id": "es9wAZPPmeKF",
        "colab": {
          "base_uri": "https://localhost:8080/"
        },
        "outputId": "94bf07b5-efe3-4ec8-f29f-d63764a2240f"
      },
      "execution_count": 31,
      "outputs": [
        {
          "output_type": "stream",
          "name": "stdout",
          "text": [
            "+---+---------+-----------------+---------+--------------------+----------------+---------+--------------+-------------+--------------+-----------------------+------+----------+--------------+--------+--------------------+---------------+-------------+-------------+-----------+------------------+------+--------+-----------------+-----------------+------------------------+-------------+----------------+-----------------+---------------------+---------------+--------------+------------------+-----------------------+--------------------+\n",
            "|Age|Attrition|   BusinessTravel|DailyRate|          Department|DistanceFromHome|Education|EducationField|EmployeeCount|EmployeeNumber|EnvironmentSatisfaction|Gender|HourlyRate|JobInvolvement|JobLevel|             JobRole|JobSatisfaction|MaritalStatus|MonthlyIncome|MonthlyRate|NumCompaniesWorked|Over18|OverTime|PercentSalaryHike|PerformanceRating|RelationshipSatisfaction|StandardHours|StockOptionLevel|TotalWorkingYears|TrainingTimesLastYear|WorkLifeBalance|YearsAtCompany|YearsInCurrentRole|YearsSinceLastPromotion|YearsWithCurrManager|\n",
            "+---+---------+-----------------+---------+--------------------+----------------+---------+--------------+-------------+--------------+-----------------------+------+----------+--------------+--------+--------------------+---------------+-------------+-------------+-----------+------------------+------+--------+-----------------+-----------------+------------------------+-------------+----------------+-----------------+---------------------+---------------+--------------+------------------+-----------------------+--------------------+\n",
            "| 41|      Yes|    Travel_Rarely|     1102|               Sales|               1|        2| Life Sciences|            1|             1|                      2|Female|        94|             3|       2|     Sales Executive|              4|       Single|         5993|      19479|                 8|     Y|     Yes|               11|                3|                       1|           80|               0|                8|                    0|              1|             6|                 4|                      0|                   5|\n",
            "| 49|       No|Travel_Frequently|      279|Research & Develo...|               8|        1| Life Sciences|            1|             2|                      3|  Male|        61|             2|       2|  Research Scientist|              2|      Married|         5130|      24907|                 1|     Y|      No|               23|                4|                       4|           80|               1|               10|                    3|              3|            10|                 7|                      1|                   7|\n",
            "| 37|      Yes|    Travel_Rarely|     1373|Research & Develo...|               2|        2|         Other|            1|             4|                      4|  Male|        92|             2|       1|Laboratory Techni...|              3|       Single|         2090|       2396|                 6|     Y|     Yes|               15|                3|                       2|           80|               0|                7|                    3|              3|             0|                 0|                      0|                   0|\n",
            "| 33|       No|Travel_Frequently|     1392|Research & Develo...|               3|        4| Life Sciences|            1|             5|                      4|Female|        56|             3|       1|  Research Scientist|              3|      Married|         2909|      23159|                 1|     Y|     Yes|               11|                3|                       3|           80|               0|                8|                    3|              3|             8|                 7|                      3|                   0|\n",
            "+---+---------+-----------------+---------+--------------------+----------------+---------+--------------+-------------+--------------+-----------------------+------+----------+--------------+--------+--------------------+---------------+-------------+-------------+-----------+------------------+------+--------+-----------------+-----------------+------------------------+-------------+----------------+-----------------+---------------------+---------------+--------------+------------------+-----------------------+--------------------+\n",
            "only showing top 4 rows\n",
            "\n"
          ]
        }
      ]
    },
    {
      "cell_type": "code",
      "source": [
        "ibmdata.printschema()#to print the structure of data\n",
        "ibmdata.schema #to print header name under list \n",
        "ibmdata.columns #tp print column"
      ],
      "metadata": {
        "id": "jlmxq7U5meMy",
        "colab": {
          "base_uri": "https://localhost:8080/"
        },
        "outputId": "1724400b-8d38-4e06-f173-56ba34ab2168"
      },
      "execution_count": 34,
      "outputs": [
        {
          "output_type": "execute_result",
          "data": {
            "text/plain": [
              "['Age',\n",
              " 'Attrition',\n",
              " 'BusinessTravel',\n",
              " 'DailyRate',\n",
              " 'Department',\n",
              " 'DistanceFromHome',\n",
              " 'Education',\n",
              " 'EducationField',\n",
              " 'EmployeeCount',\n",
              " 'EmployeeNumber',\n",
              " 'EnvironmentSatisfaction',\n",
              " 'Gender',\n",
              " 'HourlyRate',\n",
              " 'JobInvolvement',\n",
              " 'JobLevel',\n",
              " 'JobRole',\n",
              " 'JobSatisfaction',\n",
              " 'MaritalStatus',\n",
              " 'MonthlyIncome',\n",
              " 'MonthlyRate',\n",
              " 'NumCompaniesWorked',\n",
              " 'Over18',\n",
              " 'OverTime',\n",
              " 'PercentSalaryHike',\n",
              " 'PerformanceRating',\n",
              " 'RelationshipSatisfaction',\n",
              " 'StandardHours',\n",
              " 'StockOptionLevel',\n",
              " 'TotalWorkingYears',\n",
              " 'TrainingTimesLastYear',\n",
              " 'WorkLifeBalance',\n",
              " 'YearsAtCompany',\n",
              " 'YearsInCurrentRole',\n",
              " 'YearsSinceLastPromotion',\n",
              " 'YearsWithCurrManager']"
            ]
          },
          "metadata": {},
          "execution_count": 34
        }
      ]
    },
    {
      "cell_type": "code",
      "source": [
        "ibmdata.take(3)"
      ],
      "metadata": {
        "id": "-r6LrvS3mePK",
        "colab": {
          "base_uri": "https://localhost:8080/"
        },
        "outputId": "96aa7877-9861-4cd0-9689-f0dba0173cd3"
      },
      "execution_count": 35,
      "outputs": [
        {
          "output_type": "execute_result",
          "data": {
            "text/plain": [
              "[Row(Age=41, Attrition='Yes', BusinessTravel='Travel_Rarely', DailyRate=1102, Department='Sales', DistanceFromHome=1, Education=2, EducationField='Life Sciences', EmployeeCount=1, EmployeeNumber=1, EnvironmentSatisfaction=2, Gender='Female', HourlyRate=94, JobInvolvement=3, JobLevel=2, JobRole='Sales Executive', JobSatisfaction=4, MaritalStatus='Single', MonthlyIncome=5993, MonthlyRate=19479, NumCompaniesWorked=8, Over18='Y', OverTime='Yes', PercentSalaryHike=11, PerformanceRating=3, RelationshipSatisfaction=1, StandardHours=80, StockOptionLevel=0, TotalWorkingYears=8, TrainingTimesLastYear=0, WorkLifeBalance=1, YearsAtCompany=6, YearsInCurrentRole=4, YearsSinceLastPromotion=0, YearsWithCurrManager=5),\n",
              " Row(Age=49, Attrition='No', BusinessTravel='Travel_Frequently', DailyRate=279, Department='Research & Development', DistanceFromHome=8, Education=1, EducationField='Life Sciences', EmployeeCount=1, EmployeeNumber=2, EnvironmentSatisfaction=3, Gender='Male', HourlyRate=61, JobInvolvement=2, JobLevel=2, JobRole='Research Scientist', JobSatisfaction=2, MaritalStatus='Married', MonthlyIncome=5130, MonthlyRate=24907, NumCompaniesWorked=1, Over18='Y', OverTime='No', PercentSalaryHike=23, PerformanceRating=4, RelationshipSatisfaction=4, StandardHours=80, StockOptionLevel=1, TotalWorkingYears=10, TrainingTimesLastYear=3, WorkLifeBalance=3, YearsAtCompany=10, YearsInCurrentRole=7, YearsSinceLastPromotion=1, YearsWithCurrManager=7),\n",
              " Row(Age=37, Attrition='Yes', BusinessTravel='Travel_Rarely', DailyRate=1373, Department='Research & Development', DistanceFromHome=2, Education=2, EducationField='Other', EmployeeCount=1, EmployeeNumber=4, EnvironmentSatisfaction=4, Gender='Male', HourlyRate=92, JobInvolvement=2, JobLevel=1, JobRole='Laboratory Technician', JobSatisfaction=3, MaritalStatus='Single', MonthlyIncome=2090, MonthlyRate=2396, NumCompaniesWorked=6, Over18='Y', OverTime='Yes', PercentSalaryHike=15, PerformanceRating=3, RelationshipSatisfaction=2, StandardHours=80, StockOptionLevel=0, TotalWorkingYears=7, TrainingTimesLastYear=3, WorkLifeBalance=3, YearsAtCompany=0, YearsInCurrentRole=0, YearsSinceLastPromotion=0, YearsWithCurrManager=0)]"
            ]
          },
          "metadata": {},
          "execution_count": 35
        }
      ]
    },
    {
      "cell_type": "code",
      "source": [
        "type(ibmdata)\n",
        "#the base of spark is RDD but all the function of rdd are also applicable to\n",
        "#the dataframe"
      ],
      "metadata": {
        "id": "Pa_4z_H2meRw",
        "colab": {
          "base_uri": "https://localhost:8080/"
        },
        "outputId": "5eebb6d5-45da-4ab1-c78e-5af153e5c5c9"
      },
      "execution_count": 36,
      "outputs": [
        {
          "output_type": "execute_result",
          "data": {
            "text/plain": [
              "pyspark.sql.dataframe.DataFrame"
            ]
          },
          "metadata": {},
          "execution_count": 36
        }
      ]
    },
    {
      "cell_type": "code",
      "source": [
        "ibmdata.describe().show() #it will generate statistical summary "
      ],
      "metadata": {
        "id": "pwEnQhJKmeUE",
        "colab": {
          "base_uri": "https://localhost:8080/"
        },
        "outputId": "88be3597-a35e-473a-b51e-f78f7fed8267"
      },
      "execution_count": 37,
      "outputs": [
        {
          "output_type": "stream",
          "name": "stdout",
          "text": [
            "+-------+------------------+---------+--------------+------------------+---------------+----------------+------------------+----------------+-------------+-----------------+-----------------------+------+------------------+------------------+------------------+--------------------+------------------+-------------+-----------------+------------------+------------------+------+--------+------------------+-------------------+------------------------+-------------+------------------+------------------+---------------------+------------------+------------------+------------------+-----------------------+--------------------+\n",
            "|summary|               Age|Attrition|BusinessTravel|         DailyRate|     Department|DistanceFromHome|         Education|  EducationField|EmployeeCount|   EmployeeNumber|EnvironmentSatisfaction|Gender|        HourlyRate|    JobInvolvement|          JobLevel|             JobRole|   JobSatisfaction|MaritalStatus|    MonthlyIncome|       MonthlyRate|NumCompaniesWorked|Over18|OverTime| PercentSalaryHike|  PerformanceRating|RelationshipSatisfaction|StandardHours|  StockOptionLevel| TotalWorkingYears|TrainingTimesLastYear|   WorkLifeBalance|    YearsAtCompany|YearsInCurrentRole|YearsSinceLastPromotion|YearsWithCurrManager|\n",
            "+-------+------------------+---------+--------------+------------------+---------------+----------------+------------------+----------------+-------------+-----------------+-----------------------+------+------------------+------------------+------------------+--------------------+------------------+-------------+-----------------+------------------+------------------+------+--------+------------------+-------------------+------------------------+-------------+------------------+------------------+---------------------+------------------+------------------+------------------+-----------------------+--------------------+\n",
            "|  count|              1470|     1470|          1470|              1470|           1470|            1470|              1470|            1470|         1470|             1470|                   1470|  1470|              1470|              1470|              1470|                1470|              1470|         1470|             1470|              1470|              1470|  1470|    1470|              1470|               1470|                    1470|         1470|              1470|              1470|                 1470|              1470|              1470|              1470|                   1470|                1470|\n",
            "|   mean|36.923809523809524|     null|          null| 802.4857142857143|           null|9.19251700680272| 2.912925170068027|            null|          1.0|1024.865306122449|      2.721768707482993|  null| 65.89115646258503|2.7299319727891156|2.0639455782312925|                null|2.7285714285714286|         null|6502.931292517007|14313.103401360544|2.6931972789115646|  null|    null|15.209523809523809| 3.1537414965986397|      2.7122448979591836|         80.0|0.7938775510204081|11.279591836734694|   2.7993197278911564|2.7612244897959184|7.0081632653061225| 4.229251700680272|     2.1877551020408164|    4.12312925170068|\n",
            "| stddev| 9.135373489136729|     null|          null|403.50909994352804|           null|8.10686443566608|1.0241649445978718|            null|          0.0|602.0243348474752|     1.0930822146350003|  null|20.329427593996176|0.7115611429632297|1.1069398989351202|                null|1.1028461230547213|         null|4707.956783097992| 7117.786044059972|2.4980090060707463|  null|    null|3.6599377165396385|0.36082352460434397|      1.0812088864403517|          0.0|0.8520766679308381| 7.780781675514995|   1.2892706207958466|0.7064758297141507| 6.126525152403571| 3.623137034670627|     3.2224302791379693|  3.5681361205404363|\n",
            "|    min|                18|       No|    Non-Travel|               102|Human Resources|               1|                 1| Human Resources|            1|                1|                      1|Female|                30|                 1|                 1|Healthcare Repres...|                 1|     Divorced|             1009|              2094|                 0|     Y|      No|                11|                  3|                       1|           80|                 0|                 0|                    0|                 1|                 0|                 0|                      0|                   0|\n",
            "|    max|                60|      Yes| Travel_Rarely|              1499|          Sales|              29|                 5|Technical Degree|            1|             2068|                      4|  Male|               100|                 4|                 5|Sales Representative|                 4|       Single|            19999|             26999|                 9|     Y|     Yes|                25|                  4|                       4|           80|                 3|                40|                    6|                 4|                40|                18|                     15|                  17|\n",
            "+-------+------------------+---------+--------------+------------------+---------------+----------------+------------------+----------------+-------------+-----------------+-----------------------+------+------------------+------------------+------------------+--------------------+------------------+-------------+-----------------+------------------+------------------+------+--------+------------------+-------------------+------------------------+-------------+------------------+------------------+---------------------+------------------+------------------+------------------+-----------------------+--------------------+\n",
            "\n"
          ]
        }
      ]
    },
    {
      "cell_type": "code",
      "source": [
        "ibmdata.distinct().show() #it will not print repeated data"
      ],
      "metadata": {
        "id": "pNeU0UtwmeWZ",
        "colab": {
          "base_uri": "https://localhost:8080/"
        },
        "outputId": "b0fa99d3-adc5-41d4-892d-e56a0c640ec4"
      },
      "execution_count": 39,
      "outputs": [
        {
          "output_type": "stream",
          "name": "stdout",
          "text": [
            "+---+---------+-----------------+---------+--------------------+----------------+---------+----------------+-------------+--------------+-----------------------+------+----------+--------------+--------+--------------------+---------------+-------------+-------------+-----------+------------------+------+--------+-----------------+-----------------+------------------------+-------------+----------------+-----------------+---------------------+---------------+--------------+------------------+-----------------------+--------------------+\n",
            "|Age|Attrition|   BusinessTravel|DailyRate|          Department|DistanceFromHome|Education|  EducationField|EmployeeCount|EmployeeNumber|EnvironmentSatisfaction|Gender|HourlyRate|JobInvolvement|JobLevel|             JobRole|JobSatisfaction|MaritalStatus|MonthlyIncome|MonthlyRate|NumCompaniesWorked|Over18|OverTime|PercentSalaryHike|PerformanceRating|RelationshipSatisfaction|StandardHours|StockOptionLevel|TotalWorkingYears|TrainingTimesLastYear|WorkLifeBalance|YearsAtCompany|YearsInCurrentRole|YearsSinceLastPromotion|YearsWithCurrManager|\n",
            "+---+---------+-----------------+---------+--------------------+----------------+---------+----------------+-------------+--------------+-----------------------+------+----------+--------------+--------+--------------------+---------------+-------------+-------------+-----------+------------------+------+--------+-----------------+-----------------+------------------------+-------------+----------------+-----------------+---------------------+---------------+--------------+------------------+-----------------------+--------------------+\n",
            "| 27|       No|    Travel_Rarely|      608|Research & Develo...|               1|        2|   Life Sciences|            1|           725|                      3|Female|        68|             3|       3|Manufacturing Dir...|              1|      Married|         7412|       6009|                 1|     Y|      No|               11|                3|                       4|           80|               0|                9|                    3|              3|             9|                 7|                      0|                   7|\n",
            "| 41|       No|    Travel_Rarely|      314|     Human Resources|               1|        3| Human Resources|            1|           734|                      4|  Male|        59|             2|       5|             Manager|              3|      Married|        19189|      19562|                 1|     Y|      No|               12|                3|                       2|           80|               1|               22|                    3|              3|            22|                 7|                      2|                  10|\n",
            "| 25|       No|    Travel_Rarely|      141|               Sales|               3|        1|           Other|            1|           879|                      3|  Male|        98|             3|       2|     Sales Executive|              1|      Married|         4194|      14363|                 1|     Y|     Yes|               18|                3|                       4|           80|               0|                5|                    3|              3|             5|                 3|                      0|                   3|\n",
            "| 21|      Yes|    Travel_Rarely|     1427|Research & Develo...|              18|        1|           Other|            1|           923|                      4|Female|        65|             3|       1|  Research Scientist|              4|       Single|         2693|       8870|                 1|     Y|      No|               19|                3|                       1|           80|               0|                1|                    3|              2|             1|                 0|                      0|                   0|\n",
            "| 56|       No|    Travel_Rarely|      718|Research & Develo...|               4|        4|Technical Degree|            1|          1191|                      4|Female|        92|             3|       5|             Manager|              1|     Divorced|        19943|      18575|                 4|     Y|      No|               13|                3|                       4|           80|               1|               28|                    2|              3|             5|                 2|                      4|                   2|\n",
            "| 25|       No|    Travel_Rarely|      949|Research & Develo...|               1|        3|Technical Degree|            1|          1415|                      1|  Male|        81|             3|       1|Laboratory Techni...|              4|      Married|         3229|       4910|                 4|     Y|      No|               11|                3|                       2|           80|               1|                7|                    2|              2|             3|                 2|                      0|                   2|\n",
            "| 27|       No|    Travel_Rarely|      591|Research & Develo...|               2|        1|         Medical|            1|             7|                      1|  Male|        40|             3|       1|Laboratory Techni...|              2|      Married|         3468|      16632|                 9|     Y|      No|               12|                3|                       4|           80|               1|                6|                    3|              3|             2|                 2|                      2|                   2|\n",
            "| 34|       No|       Non-Travel|     1065|               Sales|              23|        4|       Marketing|            1|            60|                      2|  Male|        72|             3|       2|     Sales Executive|              3|       Single|         4568|      10034|                 0|     Y|      No|               20|                4|                       3|           80|               0|               10|                    2|              3|             9|                 5|                      8|                   7|\n",
            "| 50|       No|    Travel_Rarely|      328|Research & Develo...|               1|        3|         Medical|            1|           249|                      3|  Male|        86|             2|       1|Laboratory Techni...|              3|      Married|         3690|       3425|                 2|     Y|      No|               15|                3|                       4|           80|               1|                5|                    2|              2|             3|                 2|                      0|                   2|\n",
            "| 25|       No|       Non-Travel|      675|Research & Develo...|               5|        2|   Life Sciences|            1|           369|                      2|  Male|        85|             4|       2|Healthcare Repres...|              1|     Divorced|         4000|      18384|                 1|     Y|      No|               12|                3|                       4|           80|               2|                6|                    2|              3|             6|                 3|                      1|                   5|\n",
            "| 18|      Yes|Travel_Frequently|     1306|               Sales|               5|        3|       Marketing|            1|           614|                      2|  Male|        69|             3|       1|Sales Representative|              2|       Single|         1878|       8059|                 1|     Y|     Yes|               14|                3|                       4|           80|               0|                0|                    3|              3|             0|                 0|                      0|                   0|\n",
            "| 36|       No|    Travel_Rarely|     1425|Research & Develo...|              14|        1|   Life Sciences|            1|           924|                      3|  Male|        68|             3|       2|Healthcare Repres...|              4|      Married|         6586|       4821|                 0|     Y|     Yes|               17|                3|                       1|           80|               1|               17|                    2|              2|            16|                 8|                      4|                  11|\n",
            "| 28|       No|    Travel_Rarely|      950|Research & Develo...|               3|        3|         Medical|            1|          1121|                      4|Female|        93|             3|       3|Manufacturing Dir...|              2|     Divorced|         7655|       8039|                 0|     Y|      No|               17|                3|                       2|           80|               3|               10|                    3|              2|             9|                 7|                      1|                   7|\n",
            "| 30|       No|    Travel_Rarely|      634|Research & Develo...|              17|        4|         Medical|            1|          1321|                      2|Female|        95|             3|       3|             Manager|              1|      Married|        11916|      25927|                 1|     Y|     Yes|               23|                4|                       4|           80|               2|                9|                    2|              3|             9|                 1|                      0|                   8|\n",
            "| 28|       No|    Travel_Rarely|      736|               Sales|              26|        3|   Life Sciences|            1|          1387|                      3|  Male|        48|             2|       2|     Sales Executive|              1|      Married|         4724|      24232|                 1|     Y|      No|               11|                3|                       3|           80|               1|                5|                    0|              3|             5|                 3|                      0|                   4|\n",
            "| 37|       No|    Travel_Rarely|      589|               Sales|               9|        2|       Marketing|            1|          1787|                      2|  Male|        46|             2|       2|     Sales Executive|              2|      Married|         4189|       8800|                 1|     Y|      No|               14|                3|                       1|           80|               2|                5|                    2|              3|             5|                 2|                      0|                   3|\n",
            "| 32|      Yes|Travel_Frequently|      238|Research & Develo...|               5|        2|   Life Sciences|            1|          1939|                      1|Female|        47|             4|       1|  Research Scientist|              3|       Single|         2432|      15318|                 3|     Y|     Yes|               14|                3|                       1|           80|               0|                8|                    2|              3|             4|                 1|                      0|                   3|\n",
            "| 33|       No|Travel_Frequently|      515|Research & Develo...|               1|        2|   Life Sciences|            1|            73|                      1|Female|        98|             3|       3|   Research Director|              4|       Single|        13458|      15146|                 1|     Y|     Yes|               12|                3|                       3|           80|               0|               15|                    1|              3|            15|                14|                      8|                  12|\n",
            "| 45|       No|    Travel_Rarely|     1268|               Sales|               4|        2|   Life Sciences|            1|           240|                      3|Female|        30|             3|       2|     Sales Executive|              1|     Divorced|         5006|       6319|                 4|     Y|     Yes|               11|                3|                       1|           80|               1|                9|                    3|              4|             5|                 4|                      0|                   3|\n",
            "| 29|       No|    Travel_Rarely|     1107|Research & Develo...|              28|        4|   Life Sciences|            1|          1120|                      3|Female|        93|             3|       1|  Research Scientist|              4|     Divorced|         2514|      26968|                 4|     Y|      No|               22|                4|                       1|           80|               1|               11|                    1|              3|             7|                 5|                      1|                   7|\n",
            "+---+---------+-----------------+---------+--------------------+----------------+---------+----------------+-------------+--------------+-----------------------+------+----------+--------------+--------+--------------------+---------------+-------------+-------------+-----------+------------------+------+--------+-----------------+-----------------+------------------------+-------------+----------------+-----------------+---------------------+---------------+--------------+------------------+-----------------------+--------------------+\n",
            "only showing top 20 rows\n",
            "\n"
          ]
        }
      ]
    },
    {
      "cell_type": "code",
      "source": [
        "ibmdata.count()#"
      ],
      "metadata": {
        "colab": {
          "base_uri": "https://localhost:8080/"
        },
        "id": "mSUEoN8VFWeY",
        "outputId": "52960538-eca9-4d18-cf9d-1d72c13b7d70"
      },
      "execution_count": 84,
      "outputs": [
        {
          "output_type": "execute_result",
          "data": {
            "text/plain": [
              "1470"
            ]
          },
          "metadata": {},
          "execution_count": 84
        }
      ]
    },
    {
      "cell_type": "code",
      "source": [
        "print(ibmdata.distinct().count())  #distinct work with only particular column "
      ],
      "metadata": {
        "id": "1_-KCK6imeY5",
        "colab": {
          "base_uri": "https://localhost:8080/"
        },
        "outputId": "9fae57cc-99c5-45b6-8b39-6a8a3c8fd5bc"
      },
      "execution_count": 40,
      "outputs": [
        {
          "output_type": "stream",
          "name": "stdout",
          "text": [
            "1470\n"
          ]
        }
      ]
    },
    {
      "cell_type": "code",
      "source": [
        "from pyspark.sql.functions import substring, sum,max,min,skewness,variance,rank,mean,countDistinct,first,last,kurtosis,stddev"
      ],
      "metadata": {
        "id": "-dKmpKzfmebb"
      },
      "execution_count": 59,
      "outputs": []
    },
    {
      "cell_type": "code",
      "source": [
        "print(ibmdata.select(min(\"Age\")).show())\n",
        "print(ibmdata.filter(ibmdata[\"Gender\"]==\"Male\").select(min(\"Age\")).show())\n",
        "print(ibmdata.select(max(\"DailyRate\")).show())\n",
        "print(ibmdata.filter(ibmdata[\"Gender\"]==\"Male\").select(max(\"DailyRate\")).show())\n",
        "print(ibmdata.select(max(\"DistanceFromHome\"),mean(\"DistanceFromHome\")).show())\n",
        "print(ibmdata.select(sum(\"MonthlyRate\")).show())\n",
        "print(ibmdata.filter(ibmdata[\"Gender\"]==\"Male\").select(sum(\"MonthlyRate\")).show())\n",
        "print(ibmdata.select(skewness(\"DailyRate\"),kurtosis(\"DailyRate\")).show())\n",
        "print(ibmdata.filter(ibmdata[\"Gender\"]==\"Male\").select(skewness(\"DailyRate\"),kurtosis(\"DailyRate\")).show())\n",
        "print(ibmdata.select(stddev(\"HourlyRate\"),variance(\"HourlyRate\")).show())\n",
        "print(ibmdata.filter(ibmdata[\"Gender\"]==\"Male\").select(stddev(\"HourlyRate\"),variance(\"HourlyRate\")).show())"
      ],
      "metadata": {
        "id": "diCqyS-Tmed9",
        "colab": {
          "base_uri": "https://localhost:8080/"
        },
        "outputId": "db405b40-93c1-4c9b-caae-3aae972c6ba7"
      },
      "execution_count": 52,
      "outputs": [
        {
          "output_type": "stream",
          "name": "stdout",
          "text": [
            "+--------+\n",
            "|min(Age)|\n",
            "+--------+\n",
            "|      18|\n",
            "+--------+\n",
            "\n",
            "None\n",
            "+--------+\n",
            "|min(Age)|\n",
            "+--------+\n",
            "|      18|\n",
            "+--------+\n",
            "\n",
            "None\n",
            "+--------------+\n",
            "|max(DailyRate)|\n",
            "+--------------+\n",
            "|          1499|\n",
            "+--------------+\n",
            "\n",
            "None\n",
            "+--------------+\n",
            "|max(DailyRate)|\n",
            "+--------------+\n",
            "|          1498|\n",
            "+--------------+\n",
            "\n",
            "None\n",
            "+---------------------+---------------------+\n",
            "|max(DistanceFromHome)|avg(DistanceFromHome)|\n",
            "+---------------------+---------------------+\n",
            "|                   29|     9.19251700680272|\n",
            "+---------------------+---------------------+\n",
            "\n",
            "None\n",
            "+----------------+\n",
            "|sum(MonthlyRate)|\n",
            "+----------------+\n",
            "|        21040262|\n",
            "+----------------+\n",
            "\n",
            "None\n",
            "+----------------+\n",
            "|sum(MonthlyRate)|\n",
            "+----------------+\n",
            "|        12411597|\n",
            "+----------------+\n",
            "\n",
            "None\n",
            "+--------------------+-------------------+\n",
            "| skewness(DailyRate)|kurtosis(DailyRate)|\n",
            "+--------------------+-------------------+\n",
            "|-0.00351497695829...|-1.2038109279028495|\n",
            "+--------------------+-------------------+\n",
            "\n",
            "None\n",
            "+--------------------+-------------------+\n",
            "| skewness(DailyRate)|kurtosis(DailyRate)|\n",
            "+--------------------+-------------------+\n",
            "|0.036694660988628655|-1.2035820780347832|\n",
            "+--------------------+-------------------+\n",
            "\n",
            "None\n",
            "+-----------------------+--------------------+\n",
            "|stddev_samp(HourlyRate)|var_samp(HourlyRate)|\n",
            "+-----------------------+--------------------+\n",
            "|     20.329427593996176|  413.28562629953313|\n",
            "+-----------------------+--------------------+\n",
            "\n",
            "None\n",
            "+-----------------------+--------------------+\n",
            "|stddev_samp(HourlyRate)|var_samp(HourlyRate)|\n",
            "+-----------------------+--------------------+\n",
            "|      20.17232715404153|   406.9227828096812|\n",
            "+-----------------------+--------------------+\n",
            "\n",
            "None\n"
          ]
        }
      ]
    },
    {
      "cell_type": "code",
      "source": [
        "print(ibmdata.select(first(\"Age\")).show())\n",
        "print(ibmdata.select(first(\"Age\").alias(\"FIRST\"),last(\"Age\").alias(\"LAST\")).show())"
      ],
      "metadata": {
        "id": "XqB8zmfJmehU",
        "colab": {
          "base_uri": "https://localhost:8080/"
        },
        "outputId": "c4389ea4-1c6b-46ad-aea1-8a012dc6b645"
      },
      "execution_count": 54,
      "outputs": [
        {
          "output_type": "stream",
          "name": "stdout",
          "text": [
            "+----------+\n",
            "|first(Age)|\n",
            "+----------+\n",
            "|        41|\n",
            "+----------+\n",
            "\n",
            "None\n",
            "+-----+----+\n",
            "|FIRST|LAST|\n",
            "+-----+----+\n",
            "|   41|  34|\n",
            "+-----+----+\n",
            "\n",
            "None\n"
          ]
        }
      ]
    },
    {
      "cell_type": "code",
      "source": [
        "print(ibmdata.select(substring(\"JobRole\",1,5)).show(5))"
      ],
      "metadata": {
        "colab": {
          "base_uri": "https://localhost:8080/"
        },
        "id": "kYr_rK1Pu82o",
        "outputId": "f4a3efd5-059e-4f58-e7dd-3902fe9f6cd7"
      },
      "execution_count": 56,
      "outputs": [
        {
          "output_type": "stream",
          "name": "stdout",
          "text": [
            "+------------------------+\n",
            "|substring(JobRole, 1, 5)|\n",
            "+------------------------+\n",
            "|                   Sales|\n",
            "|                   Resea|\n",
            "|                   Labor|\n",
            "|                   Resea|\n",
            "|                   Labor|\n",
            "+------------------------+\n",
            "only showing top 5 rows\n",
            "\n",
            "None\n"
          ]
        }
      ]
    },
    {
      "cell_type": "code",
      "source": [
        "ibmdata.filter((ibmdata[\"Department\"]==\"Sales\") & (ibmdata[\"Age\"]>58)).show()\n",
        "ibmdata.filter((ibmdata[\"Department\"]==\"Sales\") & (ibmdata[\"Age\"]>58)).select(countDistinct(\"Department\")).show()"
      ],
      "metadata": {
        "colab": {
          "base_uri": "https://localhost:8080/"
        },
        "id": "ZCNjWmWpu865",
        "outputId": "1ab5ca6e-4bca-4a6f-816a-e6d61b07dd14"
      },
      "execution_count": 61,
      "outputs": [
        {
          "output_type": "stream",
          "name": "stdout",
          "text": [
            "+---+---------+-----------------+---------+----------+----------------+---------+----------------+-------------+--------------+-----------------------+------+----------+--------------+--------+---------------+---------------+-------------+-------------+-----------+------------------+------+--------+-----------------+-----------------+------------------------+-------------+----------------+-----------------+---------------------+---------------+--------------+------------------+-----------------------+--------------------+\n",
            "|Age|Attrition|   BusinessTravel|DailyRate|Department|DistanceFromHome|Education|  EducationField|EmployeeCount|EmployeeNumber|EnvironmentSatisfaction|Gender|HourlyRate|JobInvolvement|JobLevel|        JobRole|JobSatisfaction|MaritalStatus|MonthlyIncome|MonthlyRate|NumCompaniesWorked|Over18|OverTime|PercentSalaryHike|PerformanceRating|RelationshipSatisfaction|StandardHours|StockOptionLevel|TotalWorkingYears|TrainingTimesLastYear|WorkLifeBalance|YearsAtCompany|YearsInCurrentRole|YearsSinceLastPromotion|YearsWithCurrManager|\n",
            "+---+---------+-----------------+---------+----------+----------------+---------+----------------+-------------+--------------+-----------------------+------+----------+--------------+--------+---------------+---------------+-------------+-------------+-----------+------------------+------+--------+-----------------+-----------------+------------------------+-------------+----------------+-----------------+---------------------+---------------+--------------+------------------+-----------------------+--------------------+\n",
            "| 59|       No|    Travel_Rarely|     1435|     Sales|              25|        3|   Life Sciences|            1|            81|                      1|Female|        99|             3|       3|Sales Executive|              1|       Single|         7637|       2354|                 7|     Y|      No|               11|                3|                       4|           80|               0|               28|                    3|              2|            21|                16|                      7|                   9|\n",
            "| 59|       No|Travel_Frequently|     1225|     Sales|               1|        1|   Life Sciences|            1|            91|                      1|Female|        57|             2|       2|Sales Executive|              3|       Single|         5473|      24668|                 7|     Y|      No|               11|                3|                       4|           80|               0|               20|                    2|              2|             4|                 3|                      1|                   3|\n",
            "| 60|       No|Travel_Frequently|     1499|     Sales|              28|        3|       Marketing|            1|           573|                      3|Female|        80|             2|       3|Sales Executive|              1|      Married|        10266|       2845|                 4|     Y|      No|               19|                3|                       4|           80|               0|               22|                    5|              4|            18|                13|                     13|                  11|\n",
            "| 60|       No|    Travel_Rarely|     1179|     Sales|              16|        4|       Marketing|            1|           732|                      1|  Male|        84|             3|       2|Sales Executive|              1|       Single|         5405|      11924|                 8|     Y|      No|               14|                3|                       4|           80|               0|               10|                    1|              3|             2|                 2|                      2|                   2|\n",
            "| 59|       No|    Travel_Rarely|     1089|     Sales|               1|        2|Technical Degree|            1|          1048|                      2|  Male|        66|             3|       3|        Manager|              4|      Married|        11904|      11038|                 3|     Y|     Yes|               14|                3|                       3|           80|               1|               14|                    1|              1|             6|                 4|                      0|                   4|\n",
            "| 60|       No|    Travel_Rarely|      696|     Sales|               7|        4|       Marketing|            1|          1233|                      2|  Male|        52|             4|       2|Sales Executive|              4|     Divorced|         5220|      10893|                 0|     Y|     Yes|               18|                3|                       2|           80|               1|               12|                    3|              3|            11|                 7|                      1|                   9|\n",
            "| 59|       No|    Travel_Rarely|      326|     Sales|               3|        3|   Life Sciences|            1|          1254|                      3|Female|        48|             2|       2|Sales Executive|              4|       Single|         5171|      16490|                 5|     Y|      No|               17|                3|                       4|           80|               0|               13|                    2|              3|             6|                 1|                      0|                   5|\n",
            "+---+---------+-----------------+---------+----------+----------------+---------+----------------+-------------+--------------+-----------------------+------+----------+--------------+--------+---------------+---------------+-------------+-------------+-----------+------------------+------+--------+-----------------+-----------------+------------------------+-------------+----------------+-----------------+---------------------+---------------+--------------+------------------+-----------------------+--------------------+\n",
            "\n",
            "+--------------------------+\n",
            "|count(DISTINCT Department)|\n",
            "+--------------------------+\n",
            "|                         1|\n",
            "+--------------------------+\n",
            "\n"
          ]
        }
      ]
    },
    {
      "cell_type": "code",
      "source": [
        "from pyspark.sql.functions import sumDistinct,collect_list"
      ],
      "metadata": {
        "id": "KenjV449u88g"
      },
      "execution_count": 62,
      "outputs": []
    },
    {
      "cell_type": "code",
      "source": [
        "#it will display unique list of all department\n",
        "print(ibmdata.select(collect_list(\"Department\")).show(truncate=False))\n",
        "print(ibmdata.select(\"Department\").distinct().show(truncate=False)) #sumDistinct(\"\")\n"
      ],
      "metadata": {
        "colab": {
          "base_uri": "https://localhost:8080/"
        },
        "id": "ViNY6wOyu8-W",
        "outputId": "5d0deade-bd7c-452d-d2a0-c31ad3b1fb16"
      },
      "execution_count": 67,
      "outputs": [
        {
          "output_type": "stream",
          "name": "stdout",
          "text": [
            "+-----------------------------------------------------------------------------------------------------------------------------------------------------------------------------------------------------------------------------------------------------------------------------------------------------------------------------------------------------------------------------------------------------------------------------------------------------------------------------------------------------------------------------------------------------------------------------------------------------------------------------------------------------------------------------------------------------------------------------------------------------------------------------------------------------------------------------------------------------------------------------------------------------------------------------------------------------------------------------------------------------------------------------------------------------------------------------------------------------------------------------------------------------------------------------------------------------------------------------------------------------------------------------------------------------------------------------------------------------------------------------------------------------------------------------------------------------------------------------------------------------------------------------------------------------------------------------------------------------------------------------------------------------------------------------------------------------------------------------------------------------------------------------------------------------------------------------------------------------------------------------------------------------------------------------------------------------------------------------------------------------------------------------------------------------------------------------------------------------------------------------------------------------------------------------------------------------------------------------------------------------------------------------------------------------------------------------------------------------------------------------------------------------------------------------------------------------------------------------------------------------------------------------------------------------------------------------------------------------------------------------------------------------------------------------------------------------------------------------------------------------------------------------------------------------------------------------------------------------------------------------------------------------------------------------------------------------------------------------------------------------------------------------------------------------------------------------------------------------------------------------------------------------------------------------------------------------------------------------------------------------------------------------------------------------------------------------------------------------------------------------------------------------------------------------------------------------------------------------------------------------------------------------------------------------------------------------------------------------------------------------------------------------------------------------------------------------------------------------------------------------------------------------------------------------------------------------------------------------------------------------------------------------------------------------------------------------------------------------------------------------------------------------------------------------------------------------------------------------------------------------------------------------------------------------------------------------------------------------------------------------------------------------------------------------------------------------------------------------------------------------------------------------------------------------------------------------------------------------------------------------------------------------------------------------------------------------------------------------------------------------------------------------------------------------------------------------------------------------------------------------------------------------------------------------------------------------------------------------------------------------------------------------------------------------------------------------------------------------------------------------------------------------------------------------------------------------------------------------------------------------------------------------------------------------------------------------------------------------------------------------------------------------------------------------------------------------------------------------------------------------------------------------------------------------------------------------------------------------------------------------------------------------------------------------------------------------------------------------------------------------------------------------------------------------------------------------------------------------------------------------------------------------------------------------------------------------------------------------------------------------------------------------------------------------------------------------------------------------------------------------------------------------------------------------------------------------------------------------------------------------------------------------------------------------------------------------------------------------------------------------------------------------------------------------------------------------------------------------------------------------------------------------------------------------------------------------------------------------------------------------------------------------------------------------------------------------------------------------------------------------------------------------------------------------------------------------------------------------------------------------------------------------------------------------------------------------------------------------------------------------------------------------------------------------------------------------------------------------------------------------------------------------------------------------------------------------------------------------------------------------------------------------------------------------------------------------------------------------------------------------------------------------------------------------------------------------------------------------------------------------------------------------------------------------------------------------------------------------------------------------------------------------------------------------------------------------------------------------------------------------------------------------------------------------------------------------------------------------------------------------------------------------------------------------------------------------------------------------------------------------------------------------------------------------------------------------------------------------------------------------------------------------------------------------------------------------------------------------------------------------------------------------------------------------------------------------------------------------------------------------------------------------------------------------------------------------------------------------------------------------------------------------------------------------------------------------------------------------------------------------------------------------------------------------------------------------------------------------------------------------------------------------------------------------------------------------------------------------------------------------------------------------------------------------------------------------------------------------------------------------------------------------------------------------------------------------------------------------------------------------------------------------------------------------------------------------------------------------------------------------------------------------------------------------------------------------------------------------------------------------------------------------------------------------------------------------------------------------------------------------------------------------------------------------------------------------------------------------------------------------------------------------------------------------------------------------------------------------------------------------------------------------------------------------------------------------------------------------------------------------------------------------------------------------------------------------------------------------------------------------------------------------------------------------------------------------------------------------------------------------------------------------------------------------------------------------------------------------------------------------------------------------------------------------------------------------------------------------------------------------------------------------------------------------------------------------------------------------------------------------------------------------------------------------------------------------------------------------------------------------------------------------------------------------------------------------------------------------------------------------------------------------------------------------------------------------------------------------------------------------------------------------------------------------------------------------------------------------------------------------------------------------------------------------------------------------------------------------------------------------------------------------------------------------------------------------------------------------------------------------------------------------------------------------------------------------------------------------------------------------------------------------------------------------------------------------------------------------------------------------------------------------------------------------------------------------------------------------------------------------------------------------------------------------------------------------------------------------------------------------------------------------------------------------------------------------------------------------------------------------------------------------------------------------------------------------------------------------------------------------------------------------------------------------------------------------------------------------------------------------------------------------------------------------------------------------------------------------------------------------------------------------------------------------------------------------------------------------------------------------------------------------------------------------------------------------------------------------------------------------------------------------------------------------------------------------------------------------------------------------------------------------------------------------------------------------------------------------------------------------------------------------------------------------------------------------------------------------------------------------------------------------------------------------------------------------------------------------------------------------------------------------------------------------------------------------------------------------------------------------------------------------------------------------------------------------------------------------------------------------------------------------------------------------------------------------------------------------------------------------------------------------------------------------------------------------------------------------------------------------------------------------------------------------------------------------------------------------------------------------------------------------------------------------------------------------------------------------------------------------------------------------------------------------------------------------------------------------------------------------------------------------------------------------------------------------------------------------------------------------------------------------------------------------------------------------------------------------------------------------------------------------------------------------------------------------------------------------------------------------------------------------------------------------------------------------------------------------------------------------------------------------------------------------------------------------------------------------------------------------------------------------------------------------------------------------------------------------------------------------------------------------------------------------------------------------------------------------------------------------------------------------------------------------------------------------------------------------------------------------------------------------------------------------------------------------------------------------------------------------------------------------------------------------------------------------------------------------------------------------------------------------------------------------------------------------------------------------------------------------------------------------------------------------------------------------------------------------------------------------------------------------------------------------------------------------------------------------------------------------------------------------------------------------------------------------------------------------------------------------------------------------------------------------------------------------------------------------------------------------------------------------------------------------------------------------------------------------------------------------------------------------------------------------------------------------------------------------------------------------------------------------------------------------------------------------------------------------------------------------------------------------------------------------------------------------------------------------------------------------------------------------------------------------------------------------------------------------------------------------------------------------------------------------------------------------------------------------------------------------------------------------------------------------------------------------------------------------------------------------------------------------------------------------------------------------------------------------------------------------------------------------------------------------------------------------------------------------------------------------------------------------------------------------------------------------------------------------------------------------------------------------------------------------------------------------------------------------------------------------------------------------------------------------------------------------------------------------------------------------------------------------------------------------------------------------------------------------------------------------------------------------------------------------------------------------------------------------------------------------------------------------------------------------------------------------------------------------------------------------------------------------------------------------------------------------------------------------------------------------------------------------------------------------------------------------------------------------------------------------------------------------------------------------------------------------------------------------------------------------------------------------------------------------------------------------------------------------------------------------------------------------------------------------------------------------------------------------------------------------------------------------------------------------------------------------------------------------------------------------------------------------------------------------------------------------------------------------------------------------------------------------------------------------------------------------------------------------------------------------------------------------------------------------------------------------------------------------------------------------------------------------------------------------------------------------------------------------------------------------------------------------------------------------------------------------------------------------------------------------------------------------------------------------------------------------------------------------------------------------------------------------------------------------------------------------------------------------------------------------------------------------------------------------------------------------------------------------------------------------------------------------------------------------------------------------------------------------------------------------------------------------------------------------------------------------------------------------------------------------------------------------------------------------------------------------------------------------------------------------------------------------------------------------------------------------------------------------------------------------------------------------------------------------------------------------------------------------------------------------------------------------------------------------------------------------------------------------------------------------------------------------------------------------------------------------------------------------------------------------------------------------------------------------------------------------------------------------------------------------------------------------------------------------------------------------------------------------------------------------------------------------------------------------------------------------------------------------------------------------------------------------------------------------------------------------------------------------------------------------------------------------------------------------------------------------------------------------------------------------------------------------------------------------------------------------------------------------------------------------------------------------------------------------------------------------------------------------------------------------------------------------------------------------------------------------------------------------------------------------------------------------------------------------------------------------------------------------------------------------------------------------------------------------------------------------------------------------------------------------------------------------------------------------------------------------------------------------------------------------------------------------------------------------------------------------------------------------------------------------------------------------------------------------------------------------------------------------------------------------------------------------------------------------------------------------------------------------------------------------------------------------------------------------------------------------------------------------------------------------------------------------------------------------------------------------------------------------------------------------------------------------------------------------------------------------------------------------------------------------------------------------------------------------------------------------------------------------------------------------------------------------------------------------------------------------------------------------------------------------------------------------------------------------------------------------------------------------------------------------------------------------------------------------------------------------------------------------------------------------------------------------------------------------------------------------------------------------------------------------------------------------------------------------------------------------------------------------------------------------------------------------------------------------------------------------------------------------------------------------------------------------------------------------------------------------------------------------------------------------------------------------------------------------------------------------------------------------------------------------------------------------------------------------------------------------------------------------------------------------------------------------------------------------------------------------------------------------------------------------------------------------------------------------------------------------------------------------------------------------------------------------------------------------------------------------------------------------------------------------------------------------------------------------------------------------------------------------------------------------------------------------------------------------------------------------------------------------------------------------------------------------------------------------------------------------------------------------------------------------------------------------------------------------------------------------------------------------------------------------------------------------------------------------------------------------------------------------------------------------------------------------------------------------------------------------------------------------------------------------------------------------------------------------------------------------------------------------------------------------------------------------------------------------------------------------------------------------------------------------------------------------------------------------------------------------------------------------------------------------------------------------------------------------------------------------------------------------------------------------------------------------------------------------------------------------------------------------------------------------------------------------------------------------------------------------------------------------------------------------------------------------------------------------------------------------------------------------------------------------------------------------------------------------------------------------------------------------------------------------------------------------------------------------------------------------------------------------------------------------------------------------------------------------------------------------------------------------------------------------------------------------------------------------------------------------------------------------------------------------------------------------------------------------------------------------------------------------------------------------------------------------------------------------------------------------------------------------------------------------------------------------------------------------------------------------------------------------------------------------------------------------------------------------------------------------------------------------------------------------------------------------------------------------------------------------------------------------------------------------------------------------------------------------------------------------------------------------------------------------------------------------------------------------------------------------------------------------------------------------------------------------------------------------------------------------------------------------------------------------------------------------------------------------------------------------------------------------------------------------------------------------------------------------------------------------------------------------------------------------------------------------------------------------------------------------------------------------------------------------------------------------------------------------------------------------------------------------------------------------------------------------------------------------------------------------------------------------------------------------------------------------------------------------------------------------------------------------------------------------------------------------------------------------------------------------------------------------------------------------------------------------------------------------------------------------------------------------------------------------------------------------------------------------------------------------------------------------------------------------------------------------------------------------------------------------------------------------------------------------------------------------------------------------------------------------------------------------------------------------------------+\n",
            "|collect_list(Department)                                                                                                                                                                                                                                                                                                                                                                                                                                                                                                                                                                                                                                                                                                                                                                                                                                                                                                                                                                                                                                                                                                                                                                                                                                                                                                                                                                                                                                                                                                                                                                                                                                                                                                                                                                                                                                                                                                                                                                                                                                                                                                                                                                                                                                                                                                                                                                                                                                                                                                                                                                                                                                                                                                                                                                                                                                                                                                                                                                                                                                                                                                                                                                                                                                                                                                                                                                                                                                                                                                                                                                                                                                                                                                                                                                                                                                                                                                                                                                                                                                                                                                                                                                                                                                                                                                                                                                                                                                                                                                                                                                                                                                                                                                                                                                                                                                                                                                                                                                                                                                                                                                                                                                                                                                                                                                                                                                                                                                                                                                                                                                                                                                                                                                                                                                                                                                                                                                                                                                                                                                                                                                                                                                                                                                                                                                                                                                                                                                                                                                                                                                                                                                                                                                                                                                                                                                                                                                                                                                                                                                                                                                                                                                                                                                                                                                                                                                                                                                                                                                                                                                                                                                                                                                                                                                                                                                                                                                                                                                                                                                                                                                                                                                                                                                                                                                                                                                                                                                                                                                                                                                                                                                                                                                                                                                                                                                                                                                                                                                                                                                                                                                                                                                                                                                                                                                                                                                                                                                                                                                                                                                                                                                                                                                                                                                                                                                                                                                                                                                                                                                                                                                                                                                                                                                                                                                                                                                                                                                                                                                                                                                                                                                                                                                                                                                                                                                                                                                                                                                                                                                                                                                                                                                                                                                                                                                                                                                                                                                                                                                                                                                                                                                                                                                                                                                                                                                                                                                                                                                                                                                                                                                                                                                                                                                                                                                                                                                                                                                                                                                                                                                                                                                                                                                                                                                                                                                                                                                                                                                                                                                                                                                                                                                                                                                                                                                                                                                                                                                                                                                                                                                                                                                                                                                                                                                                                                                                                                                                                                                                                                                                                                                                                                                                                                                                                                                                                                                                                                                                                                                                                                                                                                                                                                                                                                                                                                                                                                                                                                                                                                                                                                                                                                                                                                                                                                                                                                                                                                                                                                                                                                                                                                                                                                                                                                                                                                                                                                                                                                                                                                                                                                                                                                                                                                                                                                                                                                                                                                                                                                                                                                                                                                                                                                                                                                                                                                                                                                                                                                                                                                                                                                                                                                                                                                                                                                                                                                                                                                                                                                                                                                                                                                                                                                                                                                                                                                                                                                                                                                                                                                                                                                                                                                                                                                                                                                                                                                                                                                                                                                                                                                                                                                                                                                                                                                                                                                                                                                                                                                                                                                                                                                                                                                                                                                                                                                                                                                                                                                                                                                                                                                                                                                                                                                                                                                                                                                                                                                                                                                                                                                                                                                                                                                                                                                                                                                                                                                                                                                                                                                                                                                                                                                                                                                                                                                                                                                                                                                                                                                                                                                                                                                                                                                                                                                                                                                                                                                                                                                                                                                                                                                                                                                                                                                                                                                                                                                                                                                                                                                                                                                                                                                                                                                                                                                                                                                                                                                                                                                                                                                                                                                                                                                                                                                                                                                                                                                                                                                                                                                                                                                                                                                                                                                                                                                                                                                                                                                                                                                                                                                                                                                                                                                                                                                                                                                                                                                                                                                                                                                                                                                                                                                                                                                                                                                                                                                                                                                                                                                                                                                                                                                                                                                                                                                                                                                                                                                                                                                                                                                                                                                                                                                                                                                                                                                                                                                                                                                                                                                                                                                                                                                                                                                                                                                                                                                                                                                                                                                                                                                                                                                                                                                                                                                                                                                                                                                                                                                                                                                                                                                                                                                                                                                                                                                                                                                                                                                                                                                                                                                                                                                                                                                                                                                                                                                                                                                                                                                                                                                                                                                                                                                                                                                                                                                                                                                                                                                                                                                                                                                                                                                                                                                                                                                                                                                                                                                                                                                                 |\n",
            "+-----------------------------------------------------------------------------------------------------------------------------------------------------------------------------------------------------------------------------------------------------------------------------------------------------------------------------------------------------------------------------------------------------------------------------------------------------------------------------------------------------------------------------------------------------------------------------------------------------------------------------------------------------------------------------------------------------------------------------------------------------------------------------------------------------------------------------------------------------------------------------------------------------------------------------------------------------------------------------------------------------------------------------------------------------------------------------------------------------------------------------------------------------------------------------------------------------------------------------------------------------------------------------------------------------------------------------------------------------------------------------------------------------------------------------------------------------------------------------------------------------------------------------------------------------------------------------------------------------------------------------------------------------------------------------------------------------------------------------------------------------------------------------------------------------------------------------------------------------------------------------------------------------------------------------------------------------------------------------------------------------------------------------------------------------------------------------------------------------------------------------------------------------------------------------------------------------------------------------------------------------------------------------------------------------------------------------------------------------------------------------------------------------------------------------------------------------------------------------------------------------------------------------------------------------------------------------------------------------------------------------------------------------------------------------------------------------------------------------------------------------------------------------------------------------------------------------------------------------------------------------------------------------------------------------------------------------------------------------------------------------------------------------------------------------------------------------------------------------------------------------------------------------------------------------------------------------------------------------------------------------------------------------------------------------------------------------------------------------------------------------------------------------------------------------------------------------------------------------------------------------------------------------------------------------------------------------------------------------------------------------------------------------------------------------------------------------------------------------------------------------------------------------------------------------------------------------------------------------------------------------------------------------------------------------------------------------------------------------------------------------------------------------------------------------------------------------------------------------------------------------------------------------------------------------------------------------------------------------------------------------------------------------------------------------------------------------------------------------------------------------------------------------------------------------------------------------------------------------------------------------------------------------------------------------------------------------------------------------------------------------------------------------------------------------------------------------------------------------------------------------------------------------------------------------------------------------------------------------------------------------------------------------------------------------------------------------------------------------------------------------------------------------------------------------------------------------------------------------------------------------------------------------------------------------------------------------------------------------------------------------------------------------------------------------------------------------------------------------------------------------------------------------------------------------------------------------------------------------------------------------------------------------------------------------------------------------------------------------------------------------------------------------------------------------------------------------------------------------------------------------------------------------------------------------------------------------------------------------------------------------------------------------------------------------------------------------------------------------------------------------------------------------------------------------------------------------------------------------------------------------------------------------------------------------------------------------------------------------------------------------------------------------------------------------------------------------------------------------------------------------------------------------------------------------------------------------------------------------------------------------------------------------------------------------------------------------------------------------------------------------------------------------------------------------------------------------------------------------------------------------------------------------------------------------------------------------------------------------------------------------------------------------------------------------------------------------------------------------------------------------------------------------------------------------------------------------------------------------------------------------------------------------------------------------------------------------------------------------------------------------------------------------------------------------------------------------------------------------------------------------------------------------------------------------------------------------------------------------------------------------------------------------------------------------------------------------------------------------------------------------------------------------------------------------------------------------------------------------------------------------------------------------------------------------------------------------------------------------------------------------------------------------------------------------------------------------------------------------------------------------------------------------------------------------------------------------------------------------------------------------------------------------------------------------------------------------------------------------------------------------------------------------------------------------------------------------------------------------------------------------------------------------------------------------------------------------------------------------------------------------------------------------------------------------------------------------------------------------------------------------------------------------------------------------------------------------------------------------------------------------------------------------------------------------------------------------------------------------------------------------------------------------------------------------------------------------------------------------------------------------------------------------------------------------------------------------------------------------------------------------------------------------------------------------------------------------------------------------------------------------------------------------------------------------------------------------------------------------------------------------------------------------------------------------------------------------------------------------------------------------------------------------------------------------------------------------------------------------------------------------------------------------------------------------------------------------------------------------------------------------------------------------------------------------------------------------------------------------------------------------------------------------------------------------------------------------------------------------------------------------------------------------------------------------------------------------------------------------------------------------------------------------------------------------------------------------------------------------------------------------------------------------------------------------------------------------------------------------------------------------------------------------------------------------------------------------------------------------------------------------------------------------------------------------------------------------------------------------------------------------------------------------------------------------------------------------------------------------------------------------------------------------------------------------------------------------------------------------------------------------------------------------------------------------------------------------------------------------------------------------------------------------------------------------------------------------------------------------------------------------------------------------------------------------------------------------------------------------------------------------------------------------------------------------------------------------------------------------------------------------------------------------------------------------------------------------------------------------------------------------------------------------------------------------------------------------------------------------------------------------------------------------------------------------------------------------------------------------------------------------------------------------------------------------------------------------------------------------------------------------------------------------------------------------------------------------------------------------------------------------------------------------------------------------------------------------------------------------------------------------------------------------------------------------------------------------------------------------------------------------------------------------------------------------------------------------------------------------------------------------------------------------------------------------------------------------------------------------------------------------------------------------------------------------------------------------------------------------------------------------------------------------------------------------------------------------------------------------------------------------------------------------------------------------------------------------------------------------------------------------------------------------------------------------------------------------------------------------------------------------------------------------------------------------------------------------------------------------------------------------------------------------------------------------------------------------------------------------------------------------------------------------------------------------------------------------------------------------------------------------------------------------------------------------------------------------------------------------------------------------------------------------------------------------------------------------------------------------------------------------------------------------------------------------------------------------------------------------------------------------------------------------------------------------------------------------------------------------------------------------------------------------------------------------------------------------------------------------------------------------------------------------------------------------------------------------------------------------------------------------------------------------------------------------------------------------------------------------------------------------------------------------------------------------------------------------------------------------------------------------------------------------------------------------------------------------------------------------------------------------------------------------------------------------------------------------------------------------------------------------------------------------------------------------------------------------------------------------------------------------------------------------------------------------------------------------------------------------------------------------------------------------------------------------------------------------------------------------------------------------------------------------------------------------------------------------------------------------------------------------------------------------------------------------------------------------------------------------------------------------------------------------------------------------------------------------------------------------------------------------------------------------------------------------------------------------------------------------------------------------------------------------------------------------------------------------------------------------------------------------------------------------------------------------------------------------------------------------------------------------------------------------------------------------------------------------------------------------------------------------------------------------------------------------------------------------------------------------------------------------------------------------------------------------------------------------------------------------------------------------------------------------------------------------------------------------------------------------------------------------------------------------------------------------------------------------------------------------------------------------------------------------------------------------------------------------------------------------------------------------------------------------------------------------------------------------------------------------------------------------------------------------------------------------------------------------------------------------------------------------------------------------------------------------------------------------------------------------------------------------------------------------------------------------------------------------------------------------------------------------------------------------------------------------------------------------------------------------------------------------------------------------------------------------------------------------------------------------------------------------------------------------------------------------------------------------------------------------------------------------------------------------------------------------------------------------------------------------------------------------------------------------------------------------------------------------------------------------------------------------------------------------------------------------------------------------------------------------------------------------------------------------------------------------------------------------------------------------------------------------------------------------------------------------------------------------------------------------------------------------------------------------------------------------------------------------------------------------------------------------------------------------------------------------------------------------------------------------------------------------------------------------------------------------------------------------------------------------------------------------------------------------------------------------------------------------------------------------------------------------------------------------------------------------------------------------------------------------------------------------------------------------------------------------------------------------------------------------------------------------------------------------------------------------------------------------------------------------------------------------------------------------------------------------------------------------------------------------------------------------------------------------------------------------------------------------------------------------------------------------------------------------------------------------------------------------------------------------------------------------------------------------------------------------------------------------------------------------------------------------------------------------------------------------------------------------------------------------------------------------------------------------------------------------------------------------------------------------------------------------------------------------------------------------------------------------------------------------------------------------------------------------------------------------------------------------------------------------------------------------------------------------------------------------------------------------------------------------------------------------------------------------------------------------------------------------------------------------------------------------------------------------------------------------------------------------------------------------------------------------------------------------------------------------------------------------------------------------------------------------------------------------------------------------------------------------------------------------------------------------------------------------------------------------------------------------------------------------------------------------------------------------------------------------------------------------------------------------------------------------------------------------------------------------------------------------------------------------------------------------------------------------------------------------------------------------------------------------------------------------------------------------------------------------------------------------------------------------------------------------------------------------------------------------------------------------------------------------------------------------------------------------------------------------------------------------------------------------------------------------------------------------------------------------------------------------------------------------------------------------------------------------------------------------------------------------------------------------------------------------------------------------------------------------------------------------------------------------------------------------------------------------------------------------------------------------------------------------------------------------------------------------------------------------------------------------------------------------------------------------------------------------------------------------------------------------------------------------------------------------------------------------------------------------------------------------------------------------------------------------------------------------------------------------------------------------------------------------------------------------------------------------------------------------------------------------------------------------------------------------------------------------------------------------------------------------------------------------------------------------------------------------------------------------------------------------------------------------------------------------------------------------------------------------------------------------------------------------------------------------------------------------------------------------------------------------------------------------------------------------------------------------------------------------------------------------------------------------------------------------------------------------------------------------------------------------------------------------------------------------------------------------------------------------------------------------------------------------------------------------------------------------------------------------------------------------------------------------------------------------------------------------------------------------------------------------------------------------------------------------------------------------------------------------------------------------------------------------------------------------------------------------------------------------------------------------------------------------------------------------------------------------------------------------------------------------------------------------------------------------------------------------------------------------------------------------------------------------------------------------------------------------------------------------------------------------------------------------------------------------------------------------------------------------------------------------------------------------------------------------------------------------------------------------------------------------------------------------------------------------------------------------------------------------------------------------------------------------------------------------------------------------------------------------------------------------------------------------------------------------------------------------------------------------------------------------------------------------------------------------------------------------------------------------------------------------------------------------------------------------------------------------------------------------------------------------------------------------------------------------------------------------------------------------------------------------------------------------------------------------------------------------------------------------------------------------------------------------------------------------------------------------------------------------------------------------------------------------------------------------------------------------------------------------------------------------------------------------------------------------------------------------------------------------------------------------------------------------------------------------------------------------------------------------------------------------------------------------------------------------------------------------------------------------------------------------------------------------------------------------------------------------------------------------------------------------------------------------------------------------------------------------------------------------------------------------------------------------------------------------------------------------------------------------------------------------------------------------------------------------------------------------------------------------------------------------------------------------------------------------------------------------------------------------------------------------------------------------------------------------------------------------------------------------------------------------------------------------------------------------------------------------------------------------------------------------------------------------------------------------------------------------------------------------------------------------------------------------------------------------------------------------------------------------------------------------------------------------------------------------------------------------------------------------------------------------------------------------------------------------------------------------------------------------------------------------------------------------------------------------------------------------------------------------------------------------------------------------------------------------------------------------------------------------------------------------------------------------------------------------------------------------------------------------------------------------------------------------------------------------------------------------------------------------------------------------------------------------------------------------------------------------------------------------------------------------------------------------------------------------------------------------------------------------------------------------------------------------------------------------------------------------------------------------------------------------------------------------------------------------------------------------------------------------------------------------------------------------------------------------------------+\n",
            "|[Sales, Research & Development, Research & Development, Research & Development, Research & Development, Research & Development, Research & Development, Research & Development, Research & Development, Research & Development, Research & Development, Research & Development, Research & Development, Research & Development, Research & Development, Research & Development, Research & Development, Research & Development, Sales, Research & Development, Research & Development, Sales, Research & Development, Research & Development, Research & Development, Research & Development, Research & Development, Sales, Research & Development, Sales, Research & Development, Research & Development, Research & Development, Sales, Research & Development, Research & Development, Sales, Sales, Research & Development, Sales, Research & Development, Research & Development, Research & Development, Sales, Research & Development, Research & Development, Sales, Research & Development, Sales, Research & Development, Research & Development, Research & Development, Sales, Research & Development, Sales, Research & Development, Sales, Research & Development, Research & Development, Research & Development, Research & Development, Research & Development, Research & Development, Sales, Research & Development, Research & Development, Research & Development, Research & Development, Research & Development, Research & Development, Sales, Research & Development, Research & Development, Research & Development, Research & Development, Research & Development, Sales, Research & Development, Research & Development, Human Resources, Research & Development, Research & Development, Sales, Research & Development, Research & Development, Research & Development, Sales, Research & Development, Research & Development, Sales, Research & Development, Sales, Sales, Research & Development, Sales, Research & Development, Sales, Sales, Sales, Research & Development, Human Resources, Research & Development, Research & Development, Research & Development, Research & Development, Human Resources, Research & Development, Sales, Research & Development, Research & Development, Research & Development, Research & Development, Human Resources, Research & Development, Research & Development, Sales, Research & Development, Sales, Research & Development, Sales, Research & Development, Sales, Research & Development, Research & Development, Sales, Research & Development, Research & Development, Sales, Research & Development, Research & Development, Research & Development, Sales, Sales, Sales, Human Resources, Research & Development, Research & Development, Sales, Sales, Human Resources, Research & Development, Research & Development, Research & Development, Research & Development, Sales, Research & Development, Research & Development, Research & Development, Research & Development, Research & Development, Research & Development, Sales, Sales, Research & Development, Sales, Research & Development, Research & Development, Research & Development, Sales, Sales, Research & Development, Research & Development, Research & Development, Research & Development, Research & Development, Research & Development, Research & Development, Sales, Sales, Research & Development, Research & Development, Sales, Research & Development, Research & Development, Sales, Research & Development, Research & Development, Research & Development, Sales, Research & Development, Research & Development, Research & Development, Sales, Research & Development, Research & Development, Research & Development, Research & Development, Research & Development, Research & Development, Research & Development, Research & Development, Research & Development, Research & Development, Research & Development, Research & Development, Research & Development, Research & Development, Research & Development, Research & Development, Research & Development, Research & Development, Research & Development, Research & Development, Research & Development, Research & Development, Sales, Research & Development, Research & Development, Research & Development, Research & Development, Sales, Research & Development, Sales, Research & Development, Research & Development, Sales, Sales, Research & Development, Sales, Sales, Research & Development, Research & Development, Research & Development, Sales, Research & Development, Research & Development, Sales, Sales, Sales, Research & Development, Research & Development, Research & Development, Human Resources, Sales, Research & Development, Sales, Research & Development, Sales, Sales, Research & Development, Research & Development, Sales, Research & Development, Research & Development, Research & Development, Research & Development, Research & Development, Research & Development, Research & Development, Research & Development, Research & Development, Research & Development, Research & Development, Research & Development, Sales, Research & Development, Research & Development, Research & Development, Research & Development, Research & Development, Research & Development, Sales, Research & Development, Sales, Research & Development, Sales, Research & Development, Research & Development, Research & Development, Research & Development, Research & Development, Research & Development, Research & Development, Sales, Research & Development, Research & Development, Research & Development, Sales, Research & Development, Research & Development, Research & Development, Sales, Sales, Research & Development, Research & Development, Research & Development, Research & Development, Research & Development, Research & Development, Research & Development, Research & Development, Research & Development, Sales, Sales, Research & Development, Sales, Research & Development, Sales, Research & Development, Research & Development, Sales, Sales, Research & Development, Sales, Research & Development, Research & Development, Sales, Research & Development, Research & Development, Research & Development, Human Resources, Research & Development, Research & Development, Research & Development, Research & Development, Research & Development, Research & Development, Research & Development, Research & Development, Sales, Sales, Sales, Research & Development, Research & Development, Research & Development, Research & Development, Research & Development, Sales, Sales, Research & Development, Research & Development, Sales, Research & Development, Research & Development, Research & Development, Sales, Research & Development, Research & Development, Sales, Sales, Research & Development, Research & Development, Research & Development, Sales, Research & Development, Research & Development, Research & Development, Sales, Research & Development, Sales, Human Resources, Research & Development, Sales, Research & Development, Sales, Sales, Research & Development, Sales, Sales, Sales, Research & Development, Research & Development, Sales, Sales, Research & Development, Research & Development, Sales, Research & Development, Sales, Research & Development, Sales, Research & Development, Research & Development, Research & Development, Sales, Research & Development, Sales, Research & Development, Sales, Research & Development, Sales, Sales, Research & Development, Research & Development, Sales, Research & Development, Research & Development, Sales, Research & Development, Research & Development, Research & Development, Research & Development, Research & Development, Sales, Research & Development, Research & Development, Research & Development, Sales, Research & Development, Research & Development, Research & Development, Sales, Sales, Sales, Research & Development, Research & Development, Research & Development, Research & Development, Research & Development, Research & Development, Research & Development, Research & Development, Research & Development, Research & Development, Sales, Sales, Research & Development, Sales, Research & Development, Research & Development, Research & Development, Research & Development, Human Resources, Sales, Sales, Research & Development, Research & Development, Sales, Research & Development, Research & Development, Research & Development, Research & Development, Research & Development, Sales, Research & Development, Research & Development, Research & Development, Sales, Research & Development, Research & Development, Human Resources, Research & Development, Sales, Research & Development, Sales, Sales, Sales, Sales, Research & Development, Research & Development, Sales, Research & Development, Sales, Human Resources, Research & Development, Research & Development, Sales, Sales, Sales, Research & Development, Sales, Sales, Sales, Research & Development, Research & Development, Research & Development, Sales, Sales, Research & Development, Sales, Sales, Research & Development, Research & Development, Research & Development, Research & Development, Sales, Research & Development, Human Resources, Sales, Research & Development, Sales, Research & Development, Sales, Research & Development, Sales, Research & Development, Sales, Research & Development, Research & Development, Research & Development, Research & Development, Research & Development, Research & Development, Human Resources, Sales, Sales, Sales, Research & Development, Research & Development, Sales, Research & Development, Research & Development, Sales, Research & Development, Sales, Research & Development, Research & Development, Sales, Research & Development, Research & Development, Human Resources, Research & Development, Research & Development, Research & Development, Research & Development, Research & Development, Research & Development, Sales, Sales, Research & Development, Sales, Sales, Research & Development, Research & Development, Research & Development, Sales, Research & Development, Sales, Sales, Research & Development, Research & Development, Research & Development, Sales, Sales, Research & Development, Human Resources, Sales, Research & Development, Human Resources, Sales, Research & Development, Research & Development, Research & Development, Research & Development, Sales, Sales, Sales, Research & Development, Sales, Research & Development, Research & Development, Human Resources, Research & Development, Research & Development, Research & Development, Sales, Research & Development, Research & Development, Research & Development, Research & Development, Research & Development, Sales, Research & Development, Sales, Sales, Research & Development, Sales, Sales, Research & Development, Sales, Research & Development, Research & Development, Research & Development, Sales, Research & Development, Research & Development, Sales, Research & Development, Research & Development, Research & Development, Sales, Research & Development, Research & Development, Sales, Research & Development, Research & Development, Research & Development, Research & Development, Research & Development, Research & Development, Research & Development, Sales, Research & Development, Research & Development, Research & Development, Research & Development, Research & Development, Research & Development, Research & Development, Human Resources, Research & Development, Research & Development, Research & Development, Research & Development, Research & Development, Research & Development, Research & Development, Sales, Sales, Research & Development, Research & Development, Research & Development, Sales, Human Resources, Research & Development, Research & Development, Sales, Research & Development, Research & Development, Sales, Research & Development, Sales, Sales, Research & Development, Sales, Sales, Research & Development, Research & Development, Sales, Human Resources, Research & Development, Research & Development, Research & Development, Human Resources, Sales, Research & Development, Research & Development, Research & Development, Sales, Research & Development, Research & Development, Sales, Sales, Research & Development, Research & Development, Sales, Sales, Research & Development, Sales, Research & Development, Research & Development, Sales, Sales, Research & Development, Human Resources, Human Resources, Research & Development, Research & Development, Research & Development, Sales, Research & Development, Research & Development, Sales, Research & Development, Research & Development, Sales, Research & Development, Research & Development, Research & Development, Research & Development, Research & Development, Research & Development, Sales, Research & Development, Research & Development, Sales, Research & Development, Research & Development, Research & Development, Sales, Research & Development, Research & Development, Research & Development, Sales, Sales, Sales, Research & Development, Research & Development, Sales, Research & Development, Research & Development, Research & Development, Research & Development, Sales, Research & Development, Sales, Research & Development, Sales, Sales, Research & Development, Research & Development, Sales, Sales, Sales, Sales, Sales, Sales, Research & Development, Sales, Research & Development, Sales, Research & Development, Research & Development, Research & Development, Research & Development, Research & Development, Research & Development, Research & Development, Research & Development, Sales, Research & Development, Research & Development, Research & Development, Research & Development, Research & Development, Research & Development, Research & Development, Research & Development, Research & Development, Research & Development, Research & Development, Research & Development, Research & Development, Research & Development, Research & Development, Research & Development, Research & Development, Research & Development, Research & Development, Research & Development, Research & Development, Sales, Research & Development, Research & Development, Research & Development, Research & Development, Research & Development, Sales, Sales, Sales, Sales, Sales, Research & Development, Research & Development, Sales, Sales, Research & Development, Sales, Sales, Human Resources, Sales, Research & Development, Research & Development, Sales, Sales, Research & Development, Research & Development, Research & Development, Sales, Research & Development, Research & Development, Sales, Research & Development, Research & Development, Research & Development, Sales, Sales, Research & Development, Research & Development, Research & Development, Research & Development, Research & Development, Research & Development, Research & Development, Research & Development, Research & Development, Research & Development, Research & Development, Research & Development, Human Resources, Research & Development, Sales, Research & Development, Research & Development, Research & Development, Sales, Research & Development, Research & Development, Research & Development, Research & Development, Research & Development, Sales, Sales, Research & Development, Research & Development, Sales, Research & Development, Sales, Research & Development, Research & Development, Sales, Sales, Research & Development, Research & Development, Research & Development, Research & Development, Research & Development, Research & Development, Sales, Research & Development, Sales, Sales, Research & Development, Research & Development, Research & Development, Research & Development, Human Resources, Research & Development, Research & Development, Sales, Research & Development, Research & Development, Research & Development, Research & Development, Sales, Human Resources, Sales, Research & Development, Sales, Sales, Research & Development, Research & Development, Research & Development, Research & Development, Sales, Research & Development, Research & Development, Research & Development, Research & Development, Sales, Sales, Research & Development, Research & Development, Research & Development, Research & Development, Research & Development, Research & Development, Research & Development, Research & Development, Research & Development, Research & Development, Sales, Research & Development, Human Resources, Research & Development, Sales, Sales, Research & Development, Research & Development, Research & Development, Sales, Research & Development, Sales, Research & Development, Research & Development, Research & Development, Sales, Research & Development, Human Resources, Sales, Research & Development, Research & Development, Research & Development, Research & Development, Sales, Sales, Research & Development, Research & Development, Sales, Research & Development, Research & Development, Research & Development, Research & Development, Research & Development, Research & Development, Research & Development, Research & Development, Sales, Research & Development, Research & Development, Research & Development, Research & Development, Research & Development, Research & Development, Research & Development, Research & Development, Research & Development, Sales, Sales, Research & Development, Research & Development, Sales, Research & Development, Sales, Research & Development, Research & Development, Sales, Sales, Sales, Research & Development, Research & Development, Research & Development, Research & Development, Human Resources, Research & Development, Research & Development, Sales, Research & Development, Research & Development, Research & Development, Research & Development, Research & Development, Research & Development, Research & Development, Research & Development, Sales, Research & Development, Research & Development, Research & Development, Research & Development, Research & Development, Research & Development, Research & Development, Human Resources, Research & Development, Research & Development, Sales, Sales, Research & Development, Research & Development, Sales, Sales, Sales, Research & Development, Research & Development, Research & Development, Human Resources, Research & Development, Research & Development, Research & Development, Sales, Research & Development, Human Resources, Sales, Sales, Research & Development, Research & Development, Research & Development, Sales, Research & Development, Sales, Research & Development, Research & Development, Research & Development, Sales, Sales, Research & Development, Research & Development, Research & Development, Research & Development, Sales, Sales, Research & Development, Research & Development, Sales, Research & Development, Sales, Sales, Research & Development, Research & Development, Sales, Sales, Research & Development, Sales, Research & Development, Research & Development, Sales, Research & Development, Research & Development, Human Resources, Research & Development, Research & Development, Research & Development, Research & Development, Research & Development, Human Resources, Research & Development, Research & Development, Research & Development, Research & Development, Research & Development, Sales, Sales, Sales, Research & Development, Research & Development, Research & Development, Research & Development, Research & Development, Sales, Research & Development, Sales, Research & Development, Research & Development, Research & Development, Sales, Sales, Research & Development, Research & Development, Research & Development, Sales, Sales, Research & Development, Research & Development, Research & Development, Human Resources, Research & Development, Research & Development, Sales, Human Resources, Research & Development, Sales, Research & Development, Research & Development, Research & Development, Research & Development, Research & Development, Sales, Sales, Sales, Research & Development, Sales, Research & Development, Research & Development, Research & Development, Research & Development, Sales, Sales, Sales, Sales, Research & Development, Sales, Research & Development, Sales, Human Resources, Research & Development, Research & Development, Sales, Research & Development, Research & Development, Sales, Research & Development, Research & Development, Research & Development, Research & Development, Research & Development, Research & Development, Research & Development, Research & Development, Research & Development, Sales, Research & Development, Research & Development, Research & Development, Sales, Research & Development, Research & Development, Sales, Research & Development, Research & Development, Research & Development, Research & Development, Research & Development, Research & Development, Sales, Research & Development, Human Resources, Research & Development, Research & Development, Research & Development, Sales, Research & Development, Sales, Sales, Research & Development, Sales, Sales, Human Resources, Research & Development, Sales, Research & Development, Research & Development, Research & Development, Research & Development, Research & Development, Research & Development, Sales, Research & Development, Research & Development, Sales, Sales, Sales, Research & Development, Research & Development, Sales, Research & Development, Sales, Research & Development, Research & Development, Research & Development, Research & Development, Research & Development, Sales, Research & Development, Research & Development, Sales, Research & Development, Research & Development, Research & Development, Research & Development, Research & Development, Research & Development, Research & Development, Sales, Sales, Research & Development, Research & Development, Research & Development, Research & Development, Research & Development, Research & Development, Research & Development, Research & Development, Sales, Human Resources, Research & Development, Research & Development, Research & Development, Research & Development, Research & Development, Research & Development, Research & Development, Sales, Research & Development, Research & Development, Human Resources, Research & Development, Sales, Research & Development, Research & Development, Research & Development, Research & Development, Sales, Research & Development, Research & Development, Research & Development, Research & Development, Research & Development, Sales, Research & Development, Research & Development, Research & Development, Research & Development, Research & Development, Research & Development, Research & Development, Sales, Research & Development, Sales, Sales, Research & Development, Sales, Research & Development, Research & Development, Sales, Research & Development, Sales, Sales, Sales, Research & Development, Human Resources, Research & Development, Research & Development, Research & Development, Sales, Research & Development, Research & Development, Research & Development, Research & Development, Research & Development, Research & Development, Sales, Research & Development, Sales, Research & Development, Research & Development, Sales, Research & Development, Sales, Research & Development, Sales, Research & Development, Human Resources, Sales, Research & Development, Research & Development, Research & Development, Research & Development, Human Resources, Research & Development, Research & Development, Research & Development, Research & Development, Research & Development, Sales, Sales, Sales, Sales, Research & Development, Research & Development, Research & Development, Sales, Sales, Human Resources, Research & Development, Human Resources, Human Resources, Sales, Research & Development, Sales, Research & Development, Sales, Research & Development, Sales, Sales, Sales, Research & Development, Sales, Research & Development, Research & Development, Research & Development, Research & Development, Research & Development, Research & Development, Research & Development, Research & Development, Research & Development, Sales, Research & Development, Human Resources, Sales, Sales, Research & Development, Research & Development, Sales, Research & Development, Sales, Research & Development, Research & Development, Research & Development, Human Resources, Sales, Research & Development, Research & Development, Research & Development, Sales, Research & Development, Research & Development, Research & Development, Human Resources, Research & Development, Research & Development, Sales, Research & Development, Research & Development, Sales, Research & Development, Human Resources, Research & Development, Research & Development, Sales, Sales, Research & Development, Research & Development, Research & Development, Research & Development, Sales, Research & Development, Sales, Sales, Research & Development, Research & Development, Human Resources, Human Resources, Sales, Research & Development, Sales, Research & Development, Research & Development, Sales, Research & Development, Research & Development, Research & Development, Human Resources, Research & Development, Research & Development, Sales, Sales, Sales, Human Resources, Research & Development, Research & Development, Research & Development, Sales, Research & Development, Research & Development, Research & Development, Sales, Sales, Research & Development, Sales, Research & Development, Sales, Research & Development, Research & Development, Research & Development, Research & Development, Human Resources, Research & Development, Research & Development, Sales, Research & Development, Research & Development, Research & Development, Research & Development, Sales, Sales, Research & Development, Sales, Sales, Research & Development, Research & Development, Research & Development, Sales, Sales, Sales, Sales, Research & Development, Research & Development, Sales, Research & Development, Sales, Research & Development, Research & Development, Sales, Research & Development, Research & Development, Research & Development, Sales, Human Resources, Sales, Research & Development, Research & Development, Research & Development, Sales, Sales, Research & Development, Research & Development, Research & Development, Research & Development, Research & Development, Sales, Sales, Sales, Research & Development, Sales, Sales, Research & Development, Research & Development, Research & Development, Human Resources, Human Resources, Research & Development, Sales, Research & Development, Research & Development, Research & Development, Research & Development, Research & Development, Research & Development, Sales, Human Resources, Research & Development, Research & Development, Research & Development, Research & Development, Sales, Sales, Research & Development, Research & Development, Research & Development, Research & Development, Research & Development, Research & Development, Research & Development, Research & Development, Research & Development, Research & Development, Sales, Research & Development, Research & Development, Sales, Research & Development, Sales, Sales, Research & Development, Sales, Research & Development, Sales, Sales, Research & Development, Research & Development, Research & Development, Research & Development, Research & Development, Research & Development, Sales, Sales, Sales, Research & Development, Human Resources, Sales, Sales, Sales, Sales, Research & Development, Research & Development, Research & Development, Research & Development, Research & Development, Research & Development, Sales, Sales, Research & Development, Sales, Research & Development, Research & Development, Research & Development, Sales, Research & Development]|\n",
            "+-----------------------------------------------------------------------------------------------------------------------------------------------------------------------------------------------------------------------------------------------------------------------------------------------------------------------------------------------------------------------------------------------------------------------------------------------------------------------------------------------------------------------------------------------------------------------------------------------------------------------------------------------------------------------------------------------------------------------------------------------------------------------------------------------------------------------------------------------------------------------------------------------------------------------------------------------------------------------------------------------------------------------------------------------------------------------------------------------------------------------------------------------------------------------------------------------------------------------------------------------------------------------------------------------------------------------------------------------------------------------------------------------------------------------------------------------------------------------------------------------------------------------------------------------------------------------------------------------------------------------------------------------------------------------------------------------------------------------------------------------------------------------------------------------------------------------------------------------------------------------------------------------------------------------------------------------------------------------------------------------------------------------------------------------------------------------------------------------------------------------------------------------------------------------------------------------------------------------------------------------------------------------------------------------------------------------------------------------------------------------------------------------------------------------------------------------------------------------------------------------------------------------------------------------------------------------------------------------------------------------------------------------------------------------------------------------------------------------------------------------------------------------------------------------------------------------------------------------------------------------------------------------------------------------------------------------------------------------------------------------------------------------------------------------------------------------------------------------------------------------------------------------------------------------------------------------------------------------------------------------------------------------------------------------------------------------------------------------------------------------------------------------------------------------------------------------------------------------------------------------------------------------------------------------------------------------------------------------------------------------------------------------------------------------------------------------------------------------------------------------------------------------------------------------------------------------------------------------------------------------------------------------------------------------------------------------------------------------------------------------------------------------------------------------------------------------------------------------------------------------------------------------------------------------------------------------------------------------------------------------------------------------------------------------------------------------------------------------------------------------------------------------------------------------------------------------------------------------------------------------------------------------------------------------------------------------------------------------------------------------------------------------------------------------------------------------------------------------------------------------------------------------------------------------------------------------------------------------------------------------------------------------------------------------------------------------------------------------------------------------------------------------------------------------------------------------------------------------------------------------------------------------------------------------------------------------------------------------------------------------------------------------------------------------------------------------------------------------------------------------------------------------------------------------------------------------------------------------------------------------------------------------------------------------------------------------------------------------------------------------------------------------------------------------------------------------------------------------------------------------------------------------------------------------------------------------------------------------------------------------------------------------------------------------------------------------------------------------------------------------------------------------------------------------------------------------------------------------------------------------------------------------------------------------------------------------------------------------------------------------------------------------------------------------------------------------------------------------------------------------------------------------------------------------------------------------------------------------------------------------------------------------------------------------------------------------------------------------------------------------------------------------------------------------------------------------------------------------------------------------------------------------------------------------------------------------------------------------------------------------------------------------------------------------------------------------------------------------------------------------------------------------------------------------------------------------------------------------------------------------------------------------------------------------------------------------------------------------------------------------------------------------------------------------------------------------------------------------------------------------------------------------------------------------------------------------------------------------------------------------------------------------------------------------------------------------------------------------------------------------------------------------------------------------------------------------------------------------------------------------------------------------------------------------------------------------------------------------------------------------------------------------------------------------------------------------------------------------------------------------------------------------------------------------------------------------------------------------------------------------------------------------------------------------------------------------------------------------------------------------------------------------------------------------------------------------------------------------------------------------------------------------------------------------------------------------------------------------------------------------------------------------------------------------------------------------------------------------------------------------------------------------------------------------------------------------------------------------------------------------------------------------------------------------------------------------------------------------------------------------------------------------------------------------------------------------------------------------------------------------------------------------------------------------------------------------------------------------------------------------------------------------------------------------------------------------------------------------------------------------------------------------------------------------------------------------------------------------------------------------------------------------------------------------------------------------------------------------------------------------------------------------------------------------------------------------------------------------------------------------------------------------------------------------------------------------------------------------------------------------------------------------------------------------------------------------------------------------------------------------------------------------------------------------------------------------------------------------------------------------------------------------------------------------------------------------------------------------------------------------------------------------------------------------------------------------------------------------------------------------------------------------------------------------------------------------------------------------------------------------------------------------------------------------------------------------------------------------------------------------------------------------------------------------------------------------------------------------------------------------------------------------------------------------------------------------------------------------------------------------------------------------------------------------------------------------------------------------------------------------------------------------------------------------------------------------------------------------------------------------------------------------------------------------------------------------------------------------------------------------------------------------------------------------------------------------------------------------------------------------------------------------------------------------------------------------------------------------------------------------------------------------------------------------------------------------------------------------------------------------------------------------------------------------------------------------------------------------------------------------------------------------------------------------------------------------------------------------------------------------------------------------------------------------------------------------------------------------------------------------------------------------------------------------------------------------------------------------------------------------------------------------------------------------------------------------------------------------------------------------------------------------------------------------------------------------------------------------------------------------------------------------------------------------------------------------------------------------------------------------------------------------------------------------------------------------------------------------------------------------------------------------------------------------------------------------------------------------------------------------------------------------------------------------------------------------------------------------------------------------------------------------------------------------------------------------------------------------------------------------------------------------------------------------------------------------------------------------------------------------------------------------------------------------------------------------------------------------------------------------------------------------------------------------------------------------------------------------------------------------------------------------------------------------------------------------------------------------------------------------------------------------------------------------------------------------------------------------------------------------------------------------------------------------------------------------------------------------------------------------------------------------------------------------------------------------------------------------------------------------------------------------------------------------------------------------------------------------------------------------------------------------------------------------------------------------------------------------------------------------------------------------------------------------------------------------------------------------------------------------------------------------------------------------------------------------------------------------------------------------------------------------------------------------------------------------------------------------------------------------------------------------------------------------------------------------------------------------------------------------------------------------------------------------------------------------------------------------------------------------------------------------------------------------------------------------------------------------------------------------------------------------------------------------------------------------------------------------------------------------------------------------------------------------------------------------------------------------------------------------------------------------------------------------------------------------------------------------------------------------------------------------------------------------------------------------------------------------------------------------------------------------------------------------------------------------------------------------------------------------------------------------------------------------------------------------------------------------------------------------------------------------------------------------------------------------------------------------------------------------------------------------------------------------------------------------------------------------------------------------------------------------------------------------------------------------------------------------------------------------------------------------------------------------------------------------------------------------------------------------------------------------------------------------------------------------------------------------------------------------------------------------------------------------------------------------------------------------------------------------------------------------------------------------------------------------------------------------------------------------------------------------------------------------------------------------------------------------------------------------------------------------------------------------------------------------------------------------------------------------------------------------------------------------------------------------------------------------------------------------------------------------------------------------------------------------------------------------------------------------------------------------------------------------------------------------------------------------------------------------------------------------------------------------------------------------------------------------------------------------------------------------------------------------------------------------------------------------------------------------------------------------------------------------------------------------------------------------------------------------------------------------------------------------------------------------------------------------------------------------------------------------------------------------------------------------------------------------------------------------------------------------------------------------------------------------------------------------------------------------------------------------------------------------------------------------------------------------------------------------------------------------------------------------------------------------------------------------------------------------------------------------------------------------------------------------------------------------------------------------------------------------------------------------------------------------------------------------------------------------------------------------------------------------------------------------------------------------------------------------------------------------------------------------------------------------------------------------------------------------------------------------------------------------------------------------------------------------------------------------------------------------------------------------------------------------------------------------------------------------------------------------------------------------------------------------------------------------------------------------------------------------------------------------------------------------------------------------------------------------------------------------------------------------------------------------------------------------------------------------------------------------------------------------------------------------------------------------------------------------------------------------------------------------------------------------------------------------------------------------------------------------------------------------------------------------------------------------------------------------------------------------------------------------------------------------------------------------------------------------------------------------------------------------------------------------------------------------------------------------------------------------------------------------------------------------------------------------------------------------------------------------------------------------------------------------------------------------------------------------------------------------------------------------------------------------------------------------------------------------------------------------------------------------------------------------------------------------------------------------------------------------------------------------------------------------------------------------------------------------------------------------------------------------------------------------------------------------------------------------------------------------------------------------------------------------------------------------------------------------------------------------------------------------------------------------------------------------------------------------------------------------------------------------------------------------------------------------------------------------------------------------------------------------------------------------------------------------------------------------------------------------------------------------------------------------------------------------------------------------------------------------------------------------------------------------------------------------------------------------------------------------------------------------------------------------------------------------------------------------------------------------------------------------------------------------------------------------------------------------------------------------------------------------------------------------------------------------------------------------------------------------------------------------------------------------------------------------------------------------------------------------------------------------------------------------------------------------------------------------------------------------------------------------------------------------------------------------------------------------------------------------------------------------------------------------------------------------------------------------------------------------------------------------------------------------------------------------------------------------------------------------------------------------------------------------------------------------------------------------------------------------------------------------------------------------------------------------------------------------------------------------------------------------------------------------------------------------------------------------------------------------------------------------------------------------------------------------------------------------------------------------------------------------------------------------------------------------------------------------------------------------------------------------------------------------------------------------------------------------------------------------------------------------------------------------------------------------------------------------------------------------------------------------------------------------------------------------------------------------------------------------------------------------------------------------------------------------------------------------------------------------------------------------------------------------------------------------------------------------------------------------------------------------------------------------------------------------------------------------------------------------------------------------------------------------------------------------------------------------------------------------------------------------------------------------------------------------------------------------------------------------------------------------------------------------------------------------------------------------------------------------------------------------------------------------------------------------------------------------------------------------------------------------------------------------------------------------------------------------------------------------------------------------------------------------------------------------------------------------------------------------------------------------------------------------------------------------------------------------------------------------------------------------------------------------------------------------------------------------------------------------------------------------------------------------------------------------------------------------------------------------------------------------------------------------------------------------------------------------------------------------------------------------------------------------------------------------------------------------------------------------------------------------------------------------------------------------------------------------------------------------------------------------------------------------------------------------------------------------------------------------------------------------------------------------------------------------------------------------------------------------------------------------------------------------------------------------------------------------------------------------------------------------------------------------------------------------------------------------------------------------------------------------------------------------------------------------------------------------------------------------------------------------------------------------------------------------------------------------------------------------------------------------------------------------------------------------------------------------------------------------------------------------------------------------------------------------------------------------------------------------------------------------------------------------------------------------------------------------------------------------------------------------------------------------------------------------------------------------------------------------------------------------------------------------------------------------------------------------------------------------------------------------------------------------------------------------------------------------------------------------------------------------------------------------------------------------------------------------------------------------------------------------------------------------------------------------------------------------------------------------------------------------------------------------------------------------------------------------------------------------------------------------------------------------------------------------------------------------------------------------------------------------------------------------------------------------------------------------------------------------------------------------------------------------------------------------------------------------------------------------------------------------------------------------------------------------------------------------------------------------------------------------------------------------------------------------------------------------------------------------------------------------------------------------------------------------------------------------------------------------------------------------------------------------------------------------------------------------------------------------------------------------------------------------------------------------------------------------------------------------------------------------------------------------------------------------------------------------------------------------------------------------------------------------------------------------------------------------------------------------------------------------------------------------------------------------------------------------------------------+\n",
            "\n",
            "None\n",
            "+----------------------+\n",
            "|Department            |\n",
            "+----------------------+\n",
            "|Sales                 |\n",
            "|Research & Development|\n",
            "|Human Resources       |\n",
            "+----------------------+\n",
            "\n",
            "None\n"
          ]
        }
      ]
    },
    {
      "cell_type": "code",
      "source": [
        "#using Aggregate functions \n",
        "#---agg({\"column name\":operation})\n",
        "#agg can used to perform operations simultaneously on different columns \n",
        "#a operation performs only one column at a time --no repeate of same column\n",
        "print(ibmdata.agg({\"Age\":\"min\"}).show())\n",
        "print(ibmdata.agg({\"Age\":\"min\",\"DailyRate\":\"max\",\"MonthlyRate\":\"mean\",\"Department\":\"sum\",\"DistanceFromHome\":\"count\"}).show())"
      ],
      "metadata": {
        "colab": {
          "base_uri": "https://localhost:8080/"
        },
        "id": "B9Ns_We9u9BN",
        "outputId": "ae30ca14-7191-4b01-86e9-3ab0c3c02f5a"
      },
      "execution_count": 73,
      "outputs": [
        {
          "output_type": "stream",
          "name": "stdout",
          "text": [
            "+--------+\n",
            "|min(Age)|\n",
            "+--------+\n",
            "|      18|\n",
            "+--------+\n",
            "\n",
            "None\n",
            "+---------------+--------------+--------+-----------------------+------------------+\n",
            "|sum(Department)|max(DailyRate)|min(Age)|count(DistanceFromHome)|  avg(MonthlyRate)|\n",
            "+---------------+--------------+--------+-----------------------+------------------+\n",
            "|           null|          1499|      18|                   1470|14313.103401360544|\n",
            "+---------------+--------------+--------+-----------------------+------------------+\n",
            "\n",
            "None\n"
          ]
        }
      ]
    },
    {
      "cell_type": "code",
      "source": [
        "#\n",
        "#print(ibmdata.groupBy(\"Department\").show())\n",
        "print(ibmdata.groupBy(\"Department\").agg({\"DailyRate\":\"sum\",\"Age\":\"min\",\"MonthlyRate\":\"max\"}).show())"
      ],
      "metadata": {
        "colab": {
          "base_uri": "https://localhost:8080/"
        },
        "id": "ixMBZQuku9Dl",
        "outputId": "3e20a313-6a26-4967-c016-f725806b0568"
      },
      "execution_count": 76,
      "outputs": [
        {
          "output_type": "stream",
          "name": "stdout",
          "text": [
            "+--------------------+--------------+----------------+--------+\n",
            "|          Department|sum(DailyRate)|max(MonthlyRate)|min(Age)|\n",
            "+--------------------+--------------+----------------+--------+\n",
            "|               Sales|        356923|           26997|      18|\n",
            "|Research & Develo...|        775384|           26999|      18|\n",
            "|     Human Resources|         47347|           26894|      19|\n",
            "+--------------------+--------------+----------------+--------+\n",
            "\n",
            "None\n"
          ]
        }
      ]
    },
    {
      "cell_type": "code",
      "source": [
        "print(ibmdata.orderBy(\"Age\").show(5))\n",
        "print(ibmdata.orderBy(\"DailyRate\").show(5))\n",
        "print(ibmdata.orderBy(\"DailyRate\").select(\"DailyRate\",\"Gender\").show(5))"
      ],
      "metadata": {
        "colab": {
          "base_uri": "https://localhost:8080/"
        },
        "id": "dp5rwGUTu9GZ",
        "outputId": "089ece78-828b-4dc4-fdc9-c4b93910b8b3"
      },
      "execution_count": 81,
      "outputs": [
        {
          "output_type": "stream",
          "name": "stdout",
          "text": [
            "+---+---------+-----------------+---------+--------------------+----------------+---------+--------------+-------------+--------------+-----------------------+------+----------+--------------+--------+--------------------+---------------+-------------+-------------+-----------+------------------+------+--------+-----------------+-----------------+------------------------+-------------+----------------+-----------------+---------------------+---------------+--------------+------------------+-----------------------+--------------------+\n",
            "|Age|Attrition|   BusinessTravel|DailyRate|          Department|DistanceFromHome|Education|EducationField|EmployeeCount|EmployeeNumber|EnvironmentSatisfaction|Gender|HourlyRate|JobInvolvement|JobLevel|             JobRole|JobSatisfaction|MaritalStatus|MonthlyIncome|MonthlyRate|NumCompaniesWorked|Over18|OverTime|PercentSalaryHike|PerformanceRating|RelationshipSatisfaction|StandardHours|StockOptionLevel|TotalWorkingYears|TrainingTimesLastYear|WorkLifeBalance|YearsAtCompany|YearsInCurrentRole|YearsSinceLastPromotion|YearsWithCurrManager|\n",
            "+---+---------+-----------------+---------+--------------------+----------------+---------+--------------+-------------+--------------+-----------------------+------+----------+--------------+--------+--------------------+---------------+-------------+-------------+-----------+------------------+------+--------+-----------------+-----------------+------------------------+-------------+----------------+-----------------+---------------------+---------------+--------------+------------------+-----------------------+--------------------+\n",
            "| 18|      Yes|    Travel_Rarely|      230|Research & Develo...|               3|        3| Life Sciences|            1|           405|                      3|  Male|        54|             3|       1|Laboratory Techni...|              3|       Single|         1420|      25233|                 1|     Y|      No|               13|                3|                       3|           80|               0|                0|                    2|              3|             0|                 0|                      0|                   0|\n",
            "| 18|      Yes|Travel_Frequently|     1306|               Sales|               5|        3|     Marketing|            1|           614|                      2|  Male|        69|             3|       1|Sales Representative|              2|       Single|         1878|       8059|                 1|     Y|     Yes|               14|                3|                       4|           80|               0|                0|                    3|              3|             0|                 0|                      0|                   0|\n",
            "| 18|       No|    Travel_Rarely|      812|               Sales|              10|        3|       Medical|            1|           411|                      4|Female|        69|             2|       1|Sales Representative|              3|       Single|         1200|       9724|                 1|     Y|      No|               12|                3|                       1|           80|               0|                0|                    2|              3|             0|                 0|                      0|                   0|\n",
            "| 18|       No|       Non-Travel|      287|Research & Develo...|               5|        2| Life Sciences|            1|          1012|                      2|  Male|        73|             3|       1|  Research Scientist|              4|       Single|         1051|      13493|                 1|     Y|      No|               15|                3|                       4|           80|               0|                0|                    2|              3|             0|                 0|                      0|                   0|\n",
            "| 18|      Yes|       Non-Travel|      247|Research & Develo...|               8|        1|       Medical|            1|          1156|                      3|  Male|        80|             3|       1|Laboratory Techni...|              3|       Single|         1904|      13556|                 1|     Y|      No|               12|                3|                       4|           80|               0|                0|                    0|              3|             0|                 0|                      0|                   0|\n",
            "+---+---------+-----------------+---------+--------------------+----------------+---------+--------------+-------------+--------------+-----------------------+------+----------+--------------+--------+--------------------+---------------+-------------+-------------+-----------+------------------+------+--------+-----------------+-----------------+------------------------+-------------+----------------+-----------------+---------------------+---------------+--------------+------------------+-----------------------+--------------------+\n",
            "only showing top 5 rows\n",
            "\n",
            "None\n",
            "+---+---------+--------------+---------+--------------------+----------------+---------+---------------+-------------+--------------+-----------------------+------+----------+--------------+--------+--------------------+---------------+-------------+-------------+-----------+------------------+------+--------+-----------------+-----------------+------------------------+-------------+----------------+-----------------+---------------------+---------------+--------------+------------------+-----------------------+--------------------+\n",
            "|Age|Attrition|BusinessTravel|DailyRate|          Department|DistanceFromHome|Education| EducationField|EmployeeCount|EmployeeNumber|EnvironmentSatisfaction|Gender|HourlyRate|JobInvolvement|JobLevel|             JobRole|JobSatisfaction|MaritalStatus|MonthlyIncome|MonthlyRate|NumCompaniesWorked|Over18|OverTime|PercentSalaryHike|PerformanceRating|RelationshipSatisfaction|StandardHours|StockOptionLevel|TotalWorkingYears|TrainingTimesLastYear|WorkLifeBalance|YearsAtCompany|YearsInCurrentRole|YearsSinceLastPromotion|YearsWithCurrManager|\n",
            "+---+---------+--------------+---------+--------------------+----------------+---------+---------------+-------------+--------------+-----------------------+------+----------+--------------+--------+--------------------+---------------+-------------+-------------+-----------+------------------+------+--------+-----------------+-----------------+------------------------+-------------+----------------+-----------------+---------------------+---------------+--------------+------------------+-----------------------+--------------------+\n",
            "| 53|       No| Travel_Rarely|      102|Research & Develo...|              23|        4|  Life Sciences|            1|           901|                      4|Female|        72|             3|       4|   Research Director|              4|       Single|        14275|      20206|                 6|     Y|      No|               18|                3|                       3|           80|               0|               33|                    0|              3|            12|                 9|                      3|                   8|\n",
            "| 28|      Yes| Travel_Rarely|      103|Research & Develo...|              24|        3|  Life Sciences|            1|            19|                      3|  Male|        50|             2|       1|Laboratory Techni...|              3|       Single|         2028|      12947|                 5|     Y|     Yes|               14|                3|                       2|           80|               0|                6|                    4|              3|             4|                 2|                      0|                   3|\n",
            "| 35|      Yes| Travel_Rarely|      104|Research & Develo...|               2|        3|  Life Sciences|            1|          1569|                      1|Female|        69|             3|       1|Laboratory Techni...|              1|     Divorced|         2074|      26619|                 1|     Y|     Yes|               12|                3|                       4|           80|               1|                1|                    2|              3|             1|                 0|                      0|                   0|\n",
            "| 39|       No|    Non-Travel|      105|Research & Develo...|               9|        3|  Life Sciences|            1|          2022|                      4|  Male|        87|             3|       5|             Manager|              4|       Single|        19431|      15302|                 2|     Y|      No|               13|                3|                       3|           80|               0|               21|                    3|              2|             6|                 0|                      1|                   3|\n",
            "| 31|       No| Travel_Rarely|      106|     Human Resources|               2|        3|Human Resources|            1|           424|                      1|  Male|        62|             2|       2|     Human Resources|              1|      Married|         6410|      17822|                 3|     Y|      No|               12|                3|                       4|           80|               0|                9|                    1|              3|             2|                 2|                      1|                   0|\n",
            "+---+---------+--------------+---------+--------------------+----------------+---------+---------------+-------------+--------------+-----------------------+------+----------+--------------+--------+--------------------+---------------+-------------+-------------+-----------+------------------+------+--------+-----------------+-----------------+------------------------+-------------+----------------+-----------------+---------------------+---------------+--------------+------------------+-----------------------+--------------------+\n",
            "only showing top 5 rows\n",
            "\n",
            "None\n",
            "+---------+------+\n",
            "|DailyRate|Gender|\n",
            "+---------+------+\n",
            "|      102|Female|\n",
            "|      103|  Male|\n",
            "|      104|Female|\n",
            "|      105|  Male|\n",
            "|      106|  Male|\n",
            "+---------+------+\n",
            "only showing top 5 rows\n",
            "\n",
            "None\n"
          ]
        }
      ]
    },
    {
      "cell_type": "markdown",
      "source": [
        "Handling na values\n",
        "\n",
        "Don't you dare to run the code after this warning----it will give series of error"
      ],
      "metadata": {
        "id": "BuLNvqKeC5ge"
      }
    },
    {
      "cell_type": "code",
      "source": [
        "#student csv contains name with null values and marks with null values\n",
        "#cause of mera mood nahi hai....I have not created the file   \n",
        "data2=readdata.read.csv(\"student.csv\",header=True,inferSchema=True)"
      ],
      "metadata": {
        "id": "4wDMU4F2u9JK"
      },
      "execution_count": null,
      "outputs": []
    },
    {
      "cell_type": "code",
      "source": [
        "#na.drop()\n",
        "result2=data2.na.drop()\n",
        "result.show()"
      ],
      "metadata": {
        "id": "_MufL4Cau9MF"
      },
      "execution_count": null,
      "outputs": []
    },
    {
      "cell_type": "code",
      "source": [
        "#to fill the missing value\n",
        "result3=data2.na.fill(\"xx\") #\"\"this replace all the string value replace with given string\n",
        "result3.show()\n",
        "\n",
        "#result3=data2.na.fill(int value)---all missing value of int type column will replaced with int value"
      ],
      "metadata": {
        "id": "EnNcxevhu9PC"
      },
      "execution_count": null,
      "outputs": []
    },
    {
      "cell_type": "code",
      "source": [
        "#particular column\n",
        "result4=data2.na.fil(\"CC\",subset=[\"Name\"]) #subset to select the column\n",
        "result4.show()\n",
        "\n",
        "#drop particular null value from column\n",
        "result4=data2.na.drop(subset=[\"Name\"])"
      ],
      "metadata": {
        "id": "BQSeHqmNu9SC"
      },
      "execution_count": null,
      "outputs": []
    },
    {
      "cell_type": "code",
      "source": [
        ""
      ],
      "metadata": {
        "id": "CGw7ww-9u9VM"
      },
      "execution_count": null,
      "outputs": []
    },
    {
      "cell_type": "code",
      "source": [
        ""
      ],
      "metadata": {
        "id": "bX8q9X8Iu9Xc"
      },
      "execution_count": null,
      "outputs": []
    },
    {
      "cell_type": "code",
      "source": [
        ""
      ],
      "metadata": {
        "id": "Xm0yagGRu9Z8"
      },
      "execution_count": null,
      "outputs": []
    },
    {
      "cell_type": "code",
      "source": [
        ""
      ],
      "metadata": {
        "id": "2vRnqJyju9cx"
      },
      "execution_count": null,
      "outputs": []
    },
    {
      "cell_type": "code",
      "source": [
        ""
      ],
      "metadata": {
        "id": "wFZBdqUVu9fc"
      },
      "execution_count": null,
      "outputs": []
    },
    {
      "cell_type": "code",
      "source": [
        ""
      ],
      "metadata": {
        "id": "CcPr0T-Du9iC"
      },
      "execution_count": null,
      "outputs": []
    },
    {
      "cell_type": "code",
      "source": [
        ""
      ],
      "metadata": {
        "id": "3w9QFIdTu9lC"
      },
      "execution_count": null,
      "outputs": []
    },
    {
      "cell_type": "code",
      "source": [
        ""
      ],
      "metadata": {
        "id": "5uy-WqNvu9n3"
      },
      "execution_count": null,
      "outputs": []
    },
    {
      "cell_type": "code",
      "source": [
        ""
      ],
      "metadata": {
        "id": "DiSrVYdmu9q_"
      },
      "execution_count": null,
      "outputs": []
    },
    {
      "cell_type": "code",
      "source": [
        ""
      ],
      "metadata": {
        "id": "QHQPXW-Bu9tv"
      },
      "execution_count": null,
      "outputs": []
    },
    {
      "cell_type": "code",
      "source": [
        ""
      ],
      "metadata": {
        "id": "jHQmrdwGu9wk"
      },
      "execution_count": null,
      "outputs": []
    },
    {
      "cell_type": "code",
      "source": [
        ""
      ],
      "metadata": {
        "id": "rX97YGWau9zZ"
      },
      "execution_count": null,
      "outputs": []
    },
    {
      "cell_type": "code",
      "source": [
        ""
      ],
      "metadata": {
        "id": "aNrD1Y81u92R"
      },
      "execution_count": null,
      "outputs": []
    },
    {
      "cell_type": "code",
      "source": [
        ""
      ],
      "metadata": {
        "id": "vRKAwb8lu95g"
      },
      "execution_count": null,
      "outputs": []
    },
    {
      "cell_type": "code",
      "source": [
        ""
      ],
      "metadata": {
        "id": "lVdsBhlru98H"
      },
      "execution_count": null,
      "outputs": []
    },
    {
      "cell_type": "code",
      "source": [
        ""
      ],
      "metadata": {
        "id": "5vnnR511u9-s"
      },
      "execution_count": null,
      "outputs": []
    },
    {
      "cell_type": "code",
      "source": [
        ""
      ],
      "metadata": {
        "id": "hsC2IVcqu-B1"
      },
      "execution_count": null,
      "outputs": []
    },
    {
      "cell_type": "code",
      "source": [
        ""
      ],
      "metadata": {
        "id": "25_S-YPQu-Ez"
      },
      "execution_count": null,
      "outputs": []
    },
    {
      "cell_type": "code",
      "source": [
        ""
      ],
      "metadata": {
        "id": "Tw-U8o4eu-H7"
      },
      "execution_count": null,
      "outputs": []
    },
    {
      "cell_type": "code",
      "source": [
        ""
      ],
      "metadata": {
        "id": "9dsc-95Ku-Ko"
      },
      "execution_count": null,
      "outputs": []
    },
    {
      "cell_type": "code",
      "source": [
        ""
      ],
      "metadata": {
        "id": "Pbi6eRF4u-NB"
      },
      "execution_count": null,
      "outputs": []
    },
    {
      "cell_type": "code",
      "source": [
        ""
      ],
      "metadata": {
        "id": "BsrLPzpRu-QW"
      },
      "execution_count": null,
      "outputs": []
    },
    {
      "cell_type": "code",
      "source": [
        ""
      ],
      "metadata": {
        "id": "7OUAF6dru-TC"
      },
      "execution_count": null,
      "outputs": []
    },
    {
      "cell_type": "code",
      "source": [
        ""
      ],
      "metadata": {
        "id": "Fh6SczOwu-Vu"
      },
      "execution_count": null,
      "outputs": []
    },
    {
      "cell_type": "code",
      "source": [
        ""
      ],
      "metadata": {
        "id": "hz3koBELu-Ys"
      },
      "execution_count": null,
      "outputs": []
    }
  ]
}