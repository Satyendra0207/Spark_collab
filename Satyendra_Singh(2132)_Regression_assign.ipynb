{
  "nbformat": 4,
  "nbformat_minor": 0,
  "metadata": {
    "colab": {
      "name": "Satyendra Singh(2132)_Regression_assign.ipynb",
      "provenance": [],
      "collapsed_sections": [],
      "authorship_tag": "ABX9TyM5EVma4lkcUPDD3B5AwSSj",
      "include_colab_link": true
    },
    "kernelspec": {
      "name": "python3",
      "display_name": "Python 3"
    },
    "language_info": {
      "name": "python"
    }
  },
  "cells": [
    {
      "cell_type": "markdown",
      "metadata": {
        "id": "view-in-github",
        "colab_type": "text"
      },
      "source": [
        "<a href=\"https://colab.research.google.com/github/Satyendra0207/Spark_collab/blob/main/Satyendra_Singh(2132)_Regression_assign.ipynb\" target=\"_parent\"><img src=\"https://colab.research.google.com/assets/colab-badge.svg\" alt=\"Open In Colab\"/></a>"
      ]
    },
    {
      "cell_type": "code",
      "execution_count": 1,
      "metadata": {
        "colab": {
          "base_uri": "https://localhost:8080/"
        },
        "id": "Brm_U2dvVvxS",
        "outputId": "00151b08-d5d1-47fb-8d9a-4d1aab701963"
      },
      "outputs": [
        {
          "output_type": "stream",
          "name": "stdout",
          "text": [
            "Collecting pyspark\n",
            "  Downloading pyspark-3.2.1.tar.gz (281.4 MB)\n",
            "\u001b[K     |████████████████████████████████| 281.4 MB 35 kB/s \n",
            "\u001b[?25hCollecting py4j==0.10.9.3\n",
            "  Downloading py4j-0.10.9.3-py2.py3-none-any.whl (198 kB)\n",
            "\u001b[K     |████████████████████████████████| 198 kB 52.7 MB/s \n",
            "\u001b[?25hBuilding wheels for collected packages: pyspark\n",
            "  Building wheel for pyspark (setup.py) ... \u001b[?25l\u001b[?25hdone\n",
            "  Created wheel for pyspark: filename=pyspark-3.2.1-py2.py3-none-any.whl size=281853642 sha256=da8aca722f2ebdd3a9dfc466fe63813476060079efa5efdd9f22937e06d3d3c0\n",
            "  Stored in directory: /root/.cache/pip/wheels/9f/f5/07/7cd8017084dce4e93e84e92efd1e1d5334db05f2e83bcef74f\n",
            "Successfully built pyspark\n",
            "Installing collected packages: py4j, pyspark\n",
            "Successfully installed py4j-0.10.9.3 pyspark-3.2.1\n"
          ]
        }
      ],
      "source": [
        "!pip install pyspark"
      ]
    },
    {
      "cell_type": "code",
      "source": [
        "from pyspark.sql import SparkSession\n",
        "session=SparkSession.builder.appName(\"regression_project\").getOrCreate()"
      ],
      "metadata": {
        "id": "qZ3fTuygVwdN"
      },
      "execution_count": 3,
      "outputs": []
    },
    {
      "cell_type": "code",
      "source": [
        "#importing data set \n",
        "data=session.read.csv(\"automobile2.csv\",header=True,inferSchema=True)\n",
        "data.show(5)"
      ],
      "metadata": {
        "colab": {
          "base_uri": "https://localhost:8080/"
        },
        "id": "PVO6FFmjWkbm",
        "outputId": "4b6646ec-56c0-4a55-be39-b18971e5b448"
      },
      "execution_count": 6,
      "outputs": [
        {
          "output_type": "stream",
          "name": "stdout",
          "text": [
            "+---+-----------+---------+------------+-----------+------------+---------------+----------+------+-----+------+-----------+-----------+----------------+-----------+-----------+-----------------+----------+--------+-----------+-----+\n",
            "|_c0|       make|fuel_type|num_of_doors| body_style|drive_wheels|engine_location|wheel_base|length|width|height|curb_weight|engine_type|num_of_cylinders|engine_size|fuel_system|compression_ratio|horsepower|city_mpg|highway_mpg|price|\n",
            "+---+-----------+---------+------------+-----------+------------+---------------+----------+------+-----+------+-----------+-----------+----------------+-----------+-----------+-----------------+----------+--------+-----------+-----+\n",
            "|  0|alfa-romero|      gas|         two|convertible|         rwd|          front|      88.6| 168.8| 64.1|  48.8|       2548|       dohc|            four|        130|       mpfi|              9.0|       111|      21|         27|13495|\n",
            "|  1|alfa-romero|      gas|         two|convertible|         rwd|          front|      88.6| 168.8| 64.1|  48.8|       2548|       dohc|            four|        130|       mpfi|              9.0|       111|      21|         27|16500|\n",
            "|  2|alfa-romero|      gas|         two|  hatchback|         rwd|          front|      94.5| 171.2| 65.5|  52.4|       2823|       ohcv|             six|        152|       mpfi|              9.0|       154|      19|         26|16500|\n",
            "|  3|       audi|      gas|        four|      sedan|         fwd|          front|      99.8| 176.6| 66.2|  54.3|       2337|        ohc|            four|        109|       mpfi|             70.0|       102|      24|         30|13950|\n",
            "|  4|       audi|      gas|        four|      sedan|        4wd |          front|      99.4| 176.6| 66.4|  54.3|       2824|        ohc|            five|        136|       mpfi|              8.0|       115|      18|         22|17450|\n",
            "+---+-----------+---------+------------+-----------+------------+---------------+----------+------+-----+------+-----------+-----------+----------------+-----------+-----------+-----------------+----------+--------+-----------+-----+\n",
            "only showing top 5 rows\n",
            "\n"
          ]
        }
      ]
    },
    {
      "cell_type": "code",
      "source": [
        "data.columns"
      ],
      "metadata": {
        "colab": {
          "base_uri": "https://localhost:8080/"
        },
        "id": "nm3i3UlpVwfg",
        "outputId": "dfe6c705-e7a6-44fa-94c8-ad7fb13c5de3"
      },
      "execution_count": 7,
      "outputs": [
        {
          "output_type": "execute_result",
          "data": {
            "text/plain": [
              "['_c0',\n",
              " 'make',\n",
              " 'fuel_type',\n",
              " 'num_of_doors',\n",
              " 'body_style',\n",
              " 'drive_wheels',\n",
              " 'engine_location',\n",
              " 'wheel_base',\n",
              " 'length',\n",
              " 'width',\n",
              " 'height',\n",
              " 'curb_weight',\n",
              " 'engine_type',\n",
              " 'num_of_cylinders',\n",
              " 'engine_size',\n",
              " 'fuel_system',\n",
              " 'compression_ratio',\n",
              " 'horsepower',\n",
              " 'city_mpg',\n",
              " 'highway_mpg',\n",
              " 'price']"
            ]
          },
          "metadata": {},
          "execution_count": 7
        }
      ]
    },
    {
      "cell_type": "code",
      "source": [
        "#checking data types \n",
        "data.printSchema()"
      ],
      "metadata": {
        "colab": {
          "base_uri": "https://localhost:8080/"
        },
        "id": "BuZ2V8nIVwh3",
        "outputId": "0b6742f5-f40b-4ad4-9a4e-7262f95d89f0"
      },
      "execution_count": 8,
      "outputs": [
        {
          "output_type": "stream",
          "name": "stdout",
          "text": [
            "root\n",
            " |-- _c0: integer (nullable = true)\n",
            " |-- make: string (nullable = true)\n",
            " |-- fuel_type: string (nullable = true)\n",
            " |-- num_of_doors: string (nullable = true)\n",
            " |-- body_style: string (nullable = true)\n",
            " |-- drive_wheels: string (nullable = true)\n",
            " |-- engine_location: string (nullable = true)\n",
            " |-- wheel_base: double (nullable = true)\n",
            " |-- length: double (nullable = true)\n",
            " |-- width: double (nullable = true)\n",
            " |-- height: double (nullable = true)\n",
            " |-- curb_weight: integer (nullable = true)\n",
            " |-- engine_type: string (nullable = true)\n",
            " |-- num_of_cylinders: string (nullable = true)\n",
            " |-- engine_size: integer (nullable = true)\n",
            " |-- fuel_system: string (nullable = true)\n",
            " |-- compression_ratio: double (nullable = true)\n",
            " |-- horsepower: integer (nullable = true)\n",
            " |-- city_mpg: integer (nullable = true)\n",
            " |-- highway_mpg: integer (nullable = true)\n",
            " |-- price: integer (nullable = true)\n",
            "\n"
          ]
        }
      ]
    },
    {
      "cell_type": "code",
      "source": [
        "#importing required functions \n",
        "from pyspark.ml.feature import VectorAssembler,StringIndexer,OneHotEncoder\n",
        "\n",
        "##Changing string datatype of attruibutes using StringIndexer\n",
        "str_idx=StringIndexer(inputCols=['make','fuel_type','num_of_doors','body_style',\"num_of_cylinders\",\"drive_wheels\"],outputCols=['make_2','fuel_type_2','num_of_doors_2','body_style_2',\"num_of_cylinders2\",\"drive_wheels2\"],handleInvalid=\"skip\",stringOrderType=\"frequencyDesc\")"
      ],
      "metadata": {
        "id": "lX0EWkZNVwkZ"
      },
      "execution_count": 85,
      "outputs": []
    },
    {
      "cell_type": "code",
      "source": [
        "#assembling features using Vector Assembler\n",
        "#vec_assem=VectorAssembler(inputCols=[\"new_make\",\"new_fuel_type\",\"new_num_of_doors2\",\"new_num_of_cylinders\"],outputCol=\"allfeatures\")\n",
        "vec_assem=VectorAssembler(inputCols=['make_2','fuel_type_2','num_of_doors_2','body_style_2',\"num_of_cylinders2\",\"drive_wheels2\",\"wheel_base\",'length','width','height','curb_weight','engine_size','horsepower','city_mpg','highway_mpg'],outputCol=\"allfeatures\")"
      ],
      "metadata": {
        "id": "gKO6NIXsVwm2"
      },
      "execution_count": 86,
      "outputs": []
    },
    {
      "cell_type": "code",
      "source": [
        "#importing model \n",
        "from pyspark.ml.regression import LinearRegression\n",
        "lr=LinearRegression(featuresCol=\"allfeatures\",labelCol=\"price\")"
      ],
      "metadata": {
        "id": "PT9_458mVwpZ"
      },
      "execution_count": 87,
      "outputs": []
    },
    {
      "cell_type": "code",
      "source": [
        "from pyspark.ml import Pipeline\n",
        "mypipe=Pipeline(stages=[str_idx,vec_assem,lr])"
      ],
      "metadata": {
        "id": "5RzpD4CuVwr7"
      },
      "execution_count": 88,
      "outputs": []
    },
    {
      "cell_type": "code",
      "source": [
        "training,test=data.randomSplit([0.8,0.2])"
      ],
      "metadata": {
        "id": "S0uoy6lGVwuq"
      },
      "execution_count": 89,
      "outputs": []
    },
    {
      "cell_type": "code",
      "source": [
        "training.show(5)"
      ],
      "metadata": {
        "colab": {
          "base_uri": "https://localhost:8080/"
        },
        "id": "gSw6YBT-Xria",
        "outputId": "23ce32ce-7aec-461f-83c0-93bba11bcd6b"
      },
      "execution_count": 90,
      "outputs": [
        {
          "output_type": "stream",
          "name": "stdout",
          "text": [
            "+---+-----------+---------+------------+-----------+------------+---------------+----------+------+-----+------+-----------+-----------+----------------+-----------+-----------+-----------------+----------+--------+-----------+-----+\n",
            "|_c0|       make|fuel_type|num_of_doors| body_style|drive_wheels|engine_location|wheel_base|length|width|height|curb_weight|engine_type|num_of_cylinders|engine_size|fuel_system|compression_ratio|horsepower|city_mpg|highway_mpg|price|\n",
            "+---+-----------+---------+------------+-----------+------------+---------------+----------+------+-----+------+-----------+-----------+----------------+-----------+-----------+-----------------+----------+--------+-----------+-----+\n",
            "|  0|alfa-romero|      gas|         two|convertible|         rwd|          front|      88.6| 168.8| 64.1|  48.8|       2548|       dohc|            four|        130|       mpfi|              9.0|       111|      21|         27|13495|\n",
            "|  1|alfa-romero|      gas|         two|convertible|         rwd|          front|      88.6| 168.8| 64.1|  48.8|       2548|       dohc|            four|        130|       mpfi|              9.0|       111|      21|         27|16500|\n",
            "|  2|alfa-romero|      gas|         two|  hatchback|         rwd|          front|      94.5| 171.2| 65.5|  52.4|       2823|       ohcv|             six|        152|       mpfi|              9.0|       154|      19|         26|16500|\n",
            "|  3|       audi|      gas|        four|      sedan|         fwd|          front|      99.8| 176.6| 66.2|  54.3|       2337|        ohc|            four|        109|       mpfi|             70.0|       102|      24|         30|13950|\n",
            "|  5|       audi|      gas|         two|      sedan|         fwd|          front|      99.8| 177.3| 66.3|  53.1|       2507|        ohc|            five|        136|       mpfi|              8.5|       110|      19|         25|15250|\n",
            "+---+-----------+---------+------------+-----------+------------+---------------+----------+------+-----+------+-----------+-----------+----------------+-----------+-----------+-----------------+----------+--------+-----------+-----+\n",
            "only showing top 5 rows\n",
            "\n"
          ]
        }
      ]
    },
    {
      "cell_type": "code",
      "source": [
        "fitmodel=mypipe.fit(training)\n",
        "result = fitmodel.transform(test)\n",
        "result.show(5)"
      ],
      "metadata": {
        "colab": {
          "base_uri": "https://localhost:8080/"
        },
        "id": "1IWU7o9cXrlZ",
        "outputId": "2ac1a09b-736a-4955-9839-6538343e2691"
      },
      "execution_count": 91,
      "outputs": [
        {
          "output_type": "stream",
          "name": "stdout",
          "text": [
            "+---+----+---------+------------+----------+------------+---------------+----------+------+-----+------+-----------+-----------+----------------+-----------+-----------+-----------------+----------+--------+-----------+-----+------+-----------+--------------+------------+-----------------+-------------+--------------------+------------------+\n",
            "|_c0|make|fuel_type|num_of_doors|body_style|drive_wheels|engine_location|wheel_base|length|width|height|curb_weight|engine_type|num_of_cylinders|engine_size|fuel_system|compression_ratio|horsepower|city_mpg|highway_mpg|price|make_2|fuel_type_2|num_of_doors_2|body_style_2|num_of_cylinders2|drive_wheels2|         allfeatures|        prediction|\n",
            "+---+----+---------+------------+----------+------------+---------------+----------+------+-----+------+-----------+-----------+----------------+-----------+-----------+-----------------+----------+--------+-----------+-----+------+-----------+--------------+------------+-----------------+-------------+--------------------+------------------+\n",
            "|  4|audi|      gas|        four|     sedan|        4wd |          front|      99.4| 176.6| 66.4|  54.3|       2824|        ohc|            five|        136|       mpfi|              8.0|       115|      18|         22|17450|  13.0|        0.0|           0.0|         0.0|              3.0|          3.0|[13.0,0.0,0.0,0.0...|19962.278253668344|\n",
            "|  8|audi|      gas|        four|     sedan|         fwd|          front|     105.8| 192.7| 71.4|  55.9|       3086|        ohc|            five|        131|       mpfi|              8.3|       140|      17|         20|23875|  13.0|        0.0|           0.0|         0.0|              3.0|          0.0|[13.0,0.0,0.0,0.0...|19842.059455272232|\n",
            "|  9|audi|      gas|         two| hatchback|        4wd |          front|      99.5| 178.2| 67.9|  52.0|       3053|        ohc|            five|        131|       mpfi|              7.0|       160|      16|         22|23875|  13.0|        0.0|           1.0|         1.0|              3.0|          3.0|[13.0,0.0,1.0,1.0...|19694.188868911842|\n",
            "| 13| bmw|      gas|        four|     sedan|         rwd|          front|     101.2| 176.8| 64.8|  54.3|       2765|        ohc|             six|        164|       mpfi|              9.0|       121|      21|         28|21105|  14.0|        0.0|           0.0|         0.0|              1.0|          1.0|[14.0,0.0,0.0,0.0...| 19778.50973160031|\n",
            "| 14| bmw|      gas|        four|     sedan|         rwd|          front|     103.5| 189.0| 66.9|  55.7|       3055|        ohc|             six|        164|       mpfi|              9.0|       121|      20|         25|24565|  14.0|        0.0|           0.0|         0.0|              1.0|          1.0|[14.0,0.0,0.0,0.0...|20810.914475270438|\n",
            "+---+----+---------+------------+----------+------------+---------------+----------+------+-----+------+-----------+-----------+----------------+-----------+-----------+-----------------+----------+--------+-----------+-----+------+-----------+--------------+------------+-----------------+-------------+--------------------+------------------+\n",
            "only showing top 5 rows\n",
            "\n"
          ]
        }
      ]
    },
    {
      "cell_type": "code",
      "source": [
        "from pyspark.ml.evaluation import RegressionEvaluator\n",
        "eval_obj=RegressionEvaluator(predictionCol=\"prediction\",labelCol=\"price\",metricName=\"r2\")\n",
        "accuracy=eval_obj.evaluate(result)\n",
        "print(accuracy)"
      ],
      "metadata": {
        "colab": {
          "base_uri": "https://localhost:8080/"
        },
        "id": "WfZIbcuvXrnr",
        "outputId": "90b2f95a-7eb1-415a-b2f7-b2357652eae9"
      },
      "execution_count": 92,
      "outputs": [
        {
          "output_type": "stream",
          "name": "stdout",
          "text": [
            "0.8085450582623148\n"
          ]
        }
      ]
    },
    {
      "cell_type": "code",
      "source": [
        "metric_l=[\"rmse\",\"mse\",\"mae\",\"r2\"]\n",
        "for metric in metric_l:\n",
        "  reg_eval=RegressionEvaluator(predictionCol=\"prediction\",labelCol=\"price\",metricName=metric)\n",
        "  accuracy=reg_eval.evaluate(result)\n",
        "  print(metric,\":\",accuracy)\n"
      ],
      "metadata": {
        "colab": {
          "base_uri": "https://localhost:8080/"
        },
        "id": "PmIXyOttXrqT",
        "outputId": "c1df2b46-aeb0-4002-a4d2-01e1f5d250d3"
      },
      "execution_count": 93,
      "outputs": [
        {
          "output_type": "stream",
          "name": "stdout",
          "text": [
            "rmse : 3944.8165139125504\n",
            "mse : 15561577.328437168\n",
            "mae : 2547.248795292363\n",
            "r2 : 0.8085450582623148\n"
          ]
        }
      ]
    },
    {
      "cell_type": "code",
      "source": [
        ""
      ],
      "metadata": {
        "id": "IY4ktRqtXrsU"
      },
      "execution_count": 56,
      "outputs": []
    },
    {
      "cell_type": "code",
      "source": [
        ""
      ],
      "metadata": {
        "id": "4dFqdoeBXrvm"
      },
      "execution_count": null,
      "outputs": []
    }
  ]
}