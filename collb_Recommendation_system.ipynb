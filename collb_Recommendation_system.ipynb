{
  "nbformat": 4,
  "nbformat_minor": 0,
  "metadata": {
    "colab": {
      "name": "collb_Recommendation_system.ipynb",
      "provenance": [],
      "authorship_tag": "ABX9TyNvwxSE+4QLMG8sa5ArVmz4",
      "include_colab_link": true
    },
    "kernelspec": {
      "name": "python3",
      "display_name": "Python 3"
    },
    "language_info": {
      "name": "python"
    }
  },
  "cells": [
    {
      "cell_type": "markdown",
      "metadata": {
        "id": "view-in-github",
        "colab_type": "text"
      },
      "source": [
        "<a href=\"https://colab.research.google.com/github/Satyendra0207/Spark_collab/blob/main/collb_Recommendation_system.ipynb\" target=\"_parent\"><img src=\"https://colab.research.google.com/assets/colab-badge.svg\" alt=\"Open In Colab\"/></a>"
      ]
    },
    {
      "cell_type": "code",
      "execution_count": null,
      "metadata": {
        "colab": {
          "base_uri": "https://localhost:8080/"
        },
        "id": "oeULkkzB1v96",
        "outputId": "88e50119-417a-4d4b-b97a-0c7af7048371"
      },
      "outputs": [
        {
          "output_type": "stream",
          "name": "stdout",
          "text": [
            "Collecting pyspark\n",
            "  Downloading pyspark-3.2.1.tar.gz (281.4 MB)\n",
            "\u001b[K     |████████████████████████████████| 281.4 MB 33 kB/s \n",
            "\u001b[?25hCollecting py4j==0.10.9.3\n",
            "  Downloading py4j-0.10.9.3-py2.py3-none-any.whl (198 kB)\n",
            "\u001b[K     |████████████████████████████████| 198 kB 54.0 MB/s \n",
            "\u001b[?25hBuilding wheels for collected packages: pyspark\n",
            "  Building wheel for pyspark (setup.py) ... \u001b[?25l\u001b[?25hdone\n",
            "  Created wheel for pyspark: filename=pyspark-3.2.1-py2.py3-none-any.whl size=281853642 sha256=15e77524061c4e11165957925805b4785a3048de3f665b086c66eed03497083f\n",
            "  Stored in directory: /root/.cache/pip/wheels/9f/f5/07/7cd8017084dce4e93e84e92efd1e1d5334db05f2e83bcef74f\n",
            "Successfully built pyspark\n",
            "Installing collected packages: py4j, pyspark\n",
            "Successfully installed py4j-0.10.9.3 pyspark-3.2.1\n"
          ]
        }
      ],
      "source": [
        "!pip install pyspark"
      ]
    },
    {
      "cell_type": "code",
      "source": [
        "!pip install wget"
      ],
      "metadata": {
        "colab": {
          "base_uri": "https://localhost:8080/"
        },
        "id": "NwqEMQkR12xw",
        "outputId": "02994e92-5271-490b-e19a-29132b9e2b98"
      },
      "execution_count": null,
      "outputs": [
        {
          "output_type": "stream",
          "name": "stdout",
          "text": [
            "Collecting wget\n",
            "  Downloading wget-3.2.zip (10 kB)\n",
            "Building wheels for collected packages: wget\n",
            "  Building wheel for wget (setup.py) ... \u001b[?25l\u001b[?25hdone\n",
            "  Created wheel for wget: filename=wget-3.2-py3-none-any.whl size=9675 sha256=6f96faf1f1b5dc3720951c0f0d0b054f721aabb5dc7726bb4ccc9f41d26e3a0b\n",
            "  Stored in directory: /root/.cache/pip/wheels/a1/b6/7c/0e63e34eb06634181c63adacca38b79ff8f35c37e3c13e3c02\n",
            "Successfully built wget\n",
            "Installing collected packages: wget\n",
            "Successfully installed wget-3.2\n"
          ]
        }
      ]
    },
    {
      "cell_type": "code",
      "source": [
        "import wget\n",
        "wget.download(\"https://files.grouplens.org/datasets/movielens/ml-25m.zip\",'ml_25.zip')"
      ],
      "metadata": {
        "colab": {
          "base_uri": "https://localhost:8080/",
          "height": 35
        },
        "id": "6xaRLZKy1224",
        "outputId": "eb36c2b9-75fb-4ba6-8f64-80731823a1be"
      },
      "execution_count": null,
      "outputs": [
        {
          "output_type": "execute_result",
          "data": {
            "text/plain": [
              "'ml_25.zip'"
            ],
            "application/vnd.google.colaboratory.intrinsic+json": {
              "type": "string"
            }
          },
          "metadata": {},
          "execution_count": 3
        }
      ]
    },
    {
      "cell_type": "code",
      "source": [
        "from zipfile import ZipFile"
      ],
      "metadata": {
        "id": "uvaaibO6124d"
      },
      "execution_count": null,
      "outputs": []
    },
    {
      "cell_type": "code",
      "source": [
        "#extracting zip file\n",
        "with ZipFile(\"ml_25.zip\",'r') as zip:\n",
        "  zip.printdir()\n",
        "  zip.extractall()"
      ],
      "metadata": {
        "colab": {
          "base_uri": "https://localhost:8080/"
        },
        "id": "BObJDgZn126c",
        "outputId": "7d0c3135-c449-4ee8-aa20-9c81701f6b8a"
      },
      "execution_count": null,
      "outputs": [
        {
          "output_type": "stream",
          "name": "stdout",
          "text": [
            "File Name                                             Modified             Size\n",
            "ml-25m/                                        2019-11-21 16:41:38            0\n",
            "ml-25m/tags.csv                                2019-11-21 15:55:50     38810332\n",
            "ml-25m/links.csv                               2019-11-21 16:40:20      1368578\n",
            "ml-25m/README.txt                              2019-11-21 16:41:38        10460\n",
            "ml-25m/ratings.csv                             2019-11-21 16:26:42    678260987\n",
            "ml-25m/genome-tags.csv                         2019-11-21 16:35:38        18103\n",
            "ml-25m/genome-scores.csv                       2019-11-21 16:35:38    435164157\n",
            "ml-25m/movies.csv                              2019-11-21 16:32:10      3038099\n"
          ]
        }
      ]
    },
    {
      "cell_type": "code",
      "source": [
        "from pyspark.sql import SparkSession\n",
        "session=SparkSession.builder.appName(\"recomm\").getOrCreate()"
      ],
      "metadata": {
        "id": "CGWB3Rrg1297"
      },
      "execution_count": null,
      "outputs": []
    },
    {
      "cell_type": "code",
      "source": [
        "data=session.read.csv(\"ml-25m/ratings.csv\",header=True,inferSchema=True)"
      ],
      "metadata": {
        "id": "XvPv804B13QM"
      },
      "execution_count": null,
      "outputs": []
    },
    {
      "cell_type": "code",
      "source": [
        "data.show(5)"
      ],
      "metadata": {
        "colab": {
          "base_uri": "https://localhost:8080/"
        },
        "id": "mJv8NTwM13UJ",
        "outputId": "918d0b27-c041-4fe1-ac66-42172dc439d6"
      },
      "execution_count": null,
      "outputs": [
        {
          "output_type": "stream",
          "name": "stdout",
          "text": [
            "+------+-------+------+----------+\n",
            "|userId|movieId|rating| timestamp|\n",
            "+------+-------+------+----------+\n",
            "|     1|    296|   5.0|1147880044|\n",
            "|     1|    306|   3.5|1147868817|\n",
            "|     1|    307|   5.0|1147868828|\n",
            "|     1|    665|   5.0|1147878820|\n",
            "|     1|    899|   3.5|1147868510|\n",
            "+------+-------+------+----------+\n",
            "only showing top 5 rows\n",
            "\n"
          ]
        }
      ]
    },
    {
      "cell_type": "code",
      "source": [
        "data.count()"
      ],
      "metadata": {
        "colab": {
          "base_uri": "https://localhost:8080/"
        },
        "id": "90Bd-gDH13V6",
        "outputId": "30f0f9b8-9b5f-4800-bbb1-fbaa5d43e35b"
      },
      "execution_count": null,
      "outputs": [
        {
          "output_type": "execute_result",
          "data": {
            "text/plain": [
              "25000095"
            ]
          },
          "metadata": {},
          "execution_count": 14
        }
      ]
    },
    {
      "cell_type": "code",
      "source": [
        "#\n",
        "from pyspark.sql.functions import countDistinct\n",
        "data.select(countDistinct(\"userId\")).show()"
      ],
      "metadata": {
        "colab": {
          "base_uri": "https://localhost:8080/"
        },
        "id": "sNmIqnp-13Yl",
        "outputId": "d091a83d-4e24-4dc4-ba13-27bca64c5088"
      },
      "execution_count": null,
      "outputs": [
        {
          "output_type": "stream",
          "name": "stdout",
          "text": [
            "+----------------------+\n",
            "|count(DISTINCT userId)|\n",
            "+----------------------+\n",
            "|                162541|\n",
            "+----------------------+\n",
            "\n"
          ]
        }
      ]
    },
    {
      "cell_type": "code",
      "source": [
        "data.select(countDistinct(\"movieId\")).show()"
      ],
      "metadata": {
        "colab": {
          "base_uri": "https://localhost:8080/"
        },
        "id": "J1uy5kfu13ba",
        "outputId": "3568f3ea-409c-4859-d6d1-32ddb932b34e"
      },
      "execution_count": null,
      "outputs": [
        {
          "output_type": "stream",
          "name": "stdout",
          "text": [
            "+-----------------------+\n",
            "|count(DISTINCT movieId)|\n",
            "+-----------------------+\n",
            "|                  59047|\n",
            "+-----------------------+\n",
            "\n"
          ]
        }
      ]
    },
    {
      "cell_type": "code",
      "source": [
        "from pyspark.sql.functions import max,min,mean\n"
      ],
      "metadata": {
        "id": "rn7dGGYT13eT"
      },
      "execution_count": null,
      "outputs": []
    },
    {
      "cell_type": "code",
      "source": [
        "data.select(min(\"rating\"),max(\"rating\")).show()"
      ],
      "metadata": {
        "colab": {
          "base_uri": "https://localhost:8080/"
        },
        "id": "DRTC5YbP13hK",
        "outputId": "c8a6ee79-ad70-4047-bcf7-858b849b283e"
      },
      "execution_count": null,
      "outputs": [
        {
          "output_type": "stream",
          "name": "stdout",
          "text": [
            "+-----------+-----------+\n",
            "|min(rating)|max(rating)|\n",
            "+-----------+-----------+\n",
            "|        0.5|        5.0|\n",
            "+-----------+-----------+\n",
            "\n"
          ]
        }
      ]
    },
    {
      "cell_type": "code",
      "source": [
        "training,test=data.randomSplit([0.75,0.25])\n",
        "print(training.count())\n",
        "print(test.count())"
      ],
      "metadata": {
        "colab": {
          "base_uri": "https://localhost:8080/"
        },
        "id": "SVWsx3WU13j1",
        "outputId": "ca28fcb8-fb5a-414d-e0f2-ebaea6fbf692"
      },
      "execution_count": null,
      "outputs": [
        {
          "output_type": "stream",
          "name": "stdout",
          "text": [
            "18750434\n",
            "6249661\n"
          ]
        }
      ]
    },
    {
      "cell_type": "code",
      "source": [
        "from pyspark.ml.recommendation import ALS\n",
        "model=ALS(userCol=\"userId\",itemCol=\"movieId\",ratingCol=\"rating\")\n",
        "newmodel=model.fit(training)\n",
        "result=newmodel.transform(test)\n",
        "result.show(8)"
      ],
      "metadata": {
        "colab": {
          "base_uri": "https://localhost:8080/"
        },
        "id": "FwpM_2mh13nC",
        "outputId": "812fa1a5-4469-4f95-e9d2-38f4fca87402"
      },
      "execution_count": null,
      "outputs": [
        {
          "output_type": "stream",
          "name": "stdout",
          "text": [
            "+------+-------+------+----------+----------+\n",
            "|userId|movieId|rating| timestamp|prediction|\n",
            "+------+-------+------+----------+----------+\n",
            "|     1|   1088|   4.0|1147868495| 2.6291485|\n",
            "|     1|   1217|   3.5|1147878326| 4.1758556|\n",
            "|     1|   1250|   4.0|1147868414| 3.8516183|\n",
            "|     1|   2573|   4.0|1147878923| 3.2164664|\n",
            "|     1|   4308|   3.0|1147868534| 3.5695515|\n",
            "|     1|   4422|   3.0|1147869048|  4.025502|\n",
            "|     1|   4703|   4.0|1147869223| 3.6291504|\n",
            "|     1|   5767|   5.0|1147878729| 4.2268286|\n",
            "+------+-------+------+----------+----------+\n",
            "only showing top 8 rows\n",
            "\n"
          ]
        }
      ]
    },
    {
      "cell_type": "code",
      "source": [
        "#in a test dataset the rating column is not considered and the value is predicted on the basis \n",
        "#of userId anf movieId\n",
        "result.filter(result['movieId']==1217).orderBy('prediction',ascending=True).show(5)"
      ],
      "metadata": {
        "colab": {
          "base_uri": "https://localhost:8080/"
        },
        "id": "b8k3WvLN13p_",
        "outputId": "5ed586c6-0a11-430d-d9c4-84620e44925d"
      },
      "execution_count": null,
      "outputs": [
        {
          "output_type": "stream",
          "name": "stdout",
          "text": [
            "+------+-------+------+----------+----------+\n",
            "|userId|movieId|rating| timestamp|prediction|\n",
            "+------+-------+------+----------+----------+\n",
            "|154776|   1217|   0.5|1448674961| 0.8510009|\n",
            "| 13838|   1217|   1.0|1448155316| 1.1172059|\n",
            "| 26097|   1217|   0.5|1474499745| 1.1493871|\n",
            "| 57548|   1217|   4.0|1452183575| 1.3717135|\n",
            "| 38084|   1217|   1.0|1467438624| 1.5562804|\n",
            "+------+-------+------+----------+----------+\n",
            "only showing top 5 rows\n",
            "\n"
          ]
        }
      ]
    },
    {
      "cell_type": "code",
      "source": [
        "result.filter(result['userId']==4377).orderBy('prediction',ascending=True).show(5)"
      ],
      "metadata": {
        "colab": {
          "base_uri": "https://localhost:8080/"
        },
        "id": "NWAGRP5013tY",
        "outputId": "bd3d9e2b-00cb-47e7-b9a9-b7f67fc9d152"
      },
      "execution_count": null,
      "outputs": [
        {
          "output_type": "stream",
          "name": "stdout",
          "text": [
            "+------+-------+------+---------+----------+\n",
            "|userId|movieId|rating|timestamp|prediction|\n",
            "+------+-------+------+---------+----------+\n",
            "|  4377|    169|   1.0|974780209| 1.8304178|\n",
            "|  4377|    519|   2.0|974801284| 1.9928397|\n",
            "|  4377|    473|   1.0|974782219| 2.0183134|\n",
            "|  4377|   1985|   2.0|974780566| 2.2105515|\n",
            "|  4377|   3031|   2.0|974803930| 2.2449143|\n",
            "+------+-------+------+---------+----------+\n",
            "only showing top 5 rows\n",
            "\n"
          ]
        }
      ]
    },
    {
      "cell_type": "code",
      "source": [
        ""
      ],
      "metadata": {
        "id": "EXzx3nZN13xk"
      },
      "execution_count": null,
      "outputs": []
    },
    {
      "cell_type": "code",
      "source": [
        ""
      ],
      "metadata": {
        "id": "8ZRA0sft130_"
      },
      "execution_count": null,
      "outputs": []
    },
    {
      "cell_type": "code",
      "source": [
        ""
      ],
      "metadata": {
        "id": "_RUV6qrq133_"
      },
      "execution_count": null,
      "outputs": []
    },
    {
      "cell_type": "code",
      "source": [
        ""
      ],
      "metadata": {
        "id": "qKH6Xlhz137g"
      },
      "execution_count": null,
      "outputs": []
    },
    {
      "cell_type": "code",
      "source": [
        ""
      ],
      "metadata": {
        "id": "hi-E1dD213_K"
      },
      "execution_count": null,
      "outputs": []
    },
    {
      "cell_type": "code",
      "source": [
        ""
      ],
      "metadata": {
        "id": "ddfqtQ3T14B6"
      },
      "execution_count": null,
      "outputs": []
    },
    {
      "cell_type": "code",
      "source": [
        ""
      ],
      "metadata": {
        "id": "xGoOt8cY14E2"
      },
      "execution_count": null,
      "outputs": []
    },
    {
      "cell_type": "code",
      "source": [
        ""
      ],
      "metadata": {
        "id": "-gDGktNJ14IB"
      },
      "execution_count": null,
      "outputs": []
    },
    {
      "cell_type": "code",
      "source": [
        ""
      ],
      "metadata": {
        "id": "goxDwvcs14K6"
      },
      "execution_count": null,
      "outputs": []
    },
    {
      "cell_type": "code",
      "source": [
        ""
      ],
      "metadata": {
        "id": "eljywehu14OJ"
      },
      "execution_count": null,
      "outputs": []
    },
    {
      "cell_type": "code",
      "source": [
        ""
      ],
      "metadata": {
        "id": "YuijuGiM14Q5"
      },
      "execution_count": null,
      "outputs": []
    },
    {
      "cell_type": "code",
      "source": [
        ""
      ],
      "metadata": {
        "id": "yfLhHKAW14Tc"
      },
      "execution_count": null,
      "outputs": []
    },
    {
      "cell_type": "code",
      "source": [
        ""
      ],
      "metadata": {
        "id": "yVD5BQHq14WR"
      },
      "execution_count": null,
      "outputs": []
    },
    {
      "cell_type": "code",
      "source": [
        ""
      ],
      "metadata": {
        "id": "FS69344P14Z4"
      },
      "execution_count": null,
      "outputs": []
    },
    {
      "cell_type": "code",
      "source": [
        ""
      ],
      "metadata": {
        "id": "ihOSoGAb14cr"
      },
      "execution_count": null,
      "outputs": []
    },
    {
      "cell_type": "code",
      "source": [
        ""
      ],
      "metadata": {
        "id": "UQgYM0ru14gi"
      },
      "execution_count": null,
      "outputs": []
    }
  ]
}