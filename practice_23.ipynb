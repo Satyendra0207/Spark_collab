{
  "nbformat": 4,
  "nbformat_minor": 0,
  "metadata": {
    "colab": {
      "name": "Untitled0.ipynb",
      "provenance": [],
      "collapsed_sections": []
    },
    "kernelspec": {
      "name": "python3",
      "display_name": "Python 3"
    },
    "language_info": {
      "name": "python"
    }
  },
  "cells": [
    {
      "cell_type": "code",
      "execution_count": null,
      "metadata": {
        "colab": {
          "base_uri": "https://localhost:8080/"
        },
        "id": "GQLgRthO0jXj",
        "outputId": "66861acd-78b7-4628-ecd0-0ee5c9d70e18"
      },
      "outputs": [
        {
          "output_type": "stream",
          "name": "stdout",
          "text": [
            "Collecting pyspark\n",
            "  Downloading pyspark-3.2.1.tar.gz (281.4 MB)\n",
            "\u001b[K     |████████████████████████████████| 281.4 MB 34 kB/s \n",
            "\u001b[?25hCollecting py4j==0.10.9.3\n",
            "  Downloading py4j-0.10.9.3-py2.py3-none-any.whl (198 kB)\n",
            "\u001b[K     |████████████████████████████████| 198 kB 48.2 MB/s \n",
            "\u001b[?25hBuilding wheels for collected packages: pyspark\n",
            "  Building wheel for pyspark (setup.py) ... \u001b[?25l\u001b[?25hdone\n",
            "  Created wheel for pyspark: filename=pyspark-3.2.1-py2.py3-none-any.whl size=281853642 sha256=defa170bad5d87f99e1d8a43a6d0ad8ef3b3e9fb00c9e68159f6f4748cde01b3\n",
            "  Stored in directory: /root/.cache/pip/wheels/9f/f5/07/7cd8017084dce4e93e84e92efd1e1d5334db05f2e83bcef74f\n",
            "Successfully built pyspark\n",
            "Installing collected packages: py4j, pyspark\n",
            "Successfully installed py4j-0.10.9.3 pyspark-3.2.1\n"
          ]
        }
      ],
      "source": [
        "pip install pyspark"
      ]
    },
    {
      "cell_type": "code",
      "source": [
        "from pyspark import SparkConf,SparkContext"
      ],
      "metadata": {
        "id": "DU7Ipws61HKh"
      },
      "execution_count": null,
      "outputs": []
    },
    {
      "cell_type": "code",
      "source": [
        "if __name__==\"__main__\":\n",
        "  conf=SparkConf().setAppName('reviews').setMaster('local')\n",
        "  sc=SparkContext(conf=conf)"
      ],
      "metadata": {
        "id": "N4jQsyXe0uJY"
      },
      "execution_count": null,
      "outputs": []
    },
    {
      "cell_type": "code",
      "source": [
        "mydata=sc.textFile(\"reviews.csv\")"
      ],
      "metadata": {
        "id": "mGHPAmJf1GFA"
      },
      "execution_count": null,
      "outputs": []
    },
    {
      "cell_type": "code",
      "source": [
        "word=mydata.flatMap(lambda x:x.split(\" \")) #created a single list for all the words in the file "
      ],
      "metadata": {
        "id": "EtPl9XNf0yW4"
      },
      "execution_count": null,
      "outputs": []
    },
    {
      "cell_type": "code",
      "source": [
        "word.take(10)"
      ],
      "metadata": {
        "colab": {
          "base_uri": "https://localhost:8080/"
        },
        "id": "er9BV-TR0zAN",
        "outputId": "4c882892-d5d0-4559-9de0-334b815ca430"
      },
      "execution_count": null,
      "outputs": [
        {
          "output_type": "execute_result",
          "data": {
            "text/plain": [
              "['\"nice',\n",
              " 'hotel',\n",
              " 'expensive',\n",
              " 'parking',\n",
              " 'got',\n",
              " 'good',\n",
              " 'deal',\n",
              " 'stay',\n",
              " 'hotel',\n",
              " 'anniversary,']"
            ]
          },
          "metadata": {},
          "execution_count": 6
        }
      ]
    },
    {
      "cell_type": "code",
      "source": [
        "word.countByValue() #count of each every word in the file "
      ],
      "metadata": {
        "id": "x88nwPLl0zEO"
      },
      "execution_count": null,
      "outputs": []
    },
    {
      "cell_type": "code",
      "source": [
        "import re"
      ],
      "metadata": {
        "id": "Q6wVyhxD3olP"
      },
      "execution_count": null,
      "outputs": []
    },
    {
      "cell_type": "code",
      "source": [
        "#using regular expressions before flatmap and count BY value for better result "
      ],
      "metadata": {
        "id": "Pk4F61xv5mPO"
      },
      "execution_count": null,
      "outputs": []
    },
    {
      "cell_type": "code",
      "source": [
        "#getting the required data out of total \n",
        "#in our their are some numerical--like -5,\"20th\"etc\n",
        "#so using replace we replace all of them with blank\n",
        "#\n",
        "newwords=mydata.map(lambda x:x.replace(r\"^[a-zA-Z]\\x+\",\"\"))"
      ],
      "metadata": {
        "id": "LBZH2Np80zFr"
      },
      "execution_count": null,
      "outputs": []
    },
    {
      "cell_type": "code",
      "source": [
        "newrd=newwords.flatMap(lambda x:x.split(\" \"))"
      ],
      "metadata": {
        "id": "Oz9UPKmr0zIC"
      },
      "execution_count": null,
      "outputs": []
    },
    {
      "cell_type": "code",
      "source": [
        "newrd.countByValue()"
      ],
      "metadata": {
        "id": "LWATJv_D0zKp"
      },
      "execution_count": null,
      "outputs": []
    },
    {
      "cell_type": "code",
      "source": [
        ""
      ],
      "metadata": {
        "id": "FVySDLWp0zNl"
      },
      "execution_count": null,
      "outputs": []
    },
    {
      "cell_type": "markdown",
      "source": [
        "SET functions in RDD\n"
      ],
      "metadata": {
        "id": "vGdJ2HZx7D6G"
      }
    },
    {
      "cell_type": "code",
      "source": [
        "rdd1=sc.parallelize([10,20,30,40])\n",
        "rdd2=sc.parallelize([20,40,60,80,100])"
      ],
      "metadata": {
        "id": "e1IDDuyz0zRJ"
      },
      "execution_count": null,
      "outputs": []
    },
    {
      "cell_type": "code",
      "source": [
        "unionres=rdd1.union(rdd2)\n",
        "unionres.collect()"
      ],
      "metadata": {
        "colab": {
          "base_uri": "https://localhost:8080/"
        },
        "id": "TzTy3Wkx0zZ-",
        "outputId": "2eff6817-4d90-4652-dd58-7ac6f9ce9a62"
      },
      "execution_count": null,
      "outputs": [
        {
          "output_type": "execute_result",
          "data": {
            "text/plain": [
              "[10, 20, 30, 40, 20, 40, 60, 80, 100]"
            ]
          },
          "metadata": {},
          "execution_count": 14
        }
      ]
    },
    {
      "cell_type": "code",
      "source": [
        "intersec=rdd1.intersection(rdd2)\n",
        "intersec.collect()"
      ],
      "metadata": {
        "colab": {
          "base_uri": "https://localhost:8080/"
        },
        "id": "QigvavxQ0zdb",
        "outputId": "15a02d41-d767-4338-d95c-fa87e460d997"
      },
      "execution_count": null,
      "outputs": [
        {
          "output_type": "execute_result",
          "data": {
            "text/plain": [
              "[20, 40]"
            ]
          },
          "metadata": {},
          "execution_count": 15
        }
      ]
    },
    {
      "cell_type": "code",
      "source": [
        "carte=rdd1.cartesian(rdd2)\n",
        "carte.collect()"
      ],
      "metadata": {
        "colab": {
          "base_uri": "https://localhost:8080/"
        },
        "id": "WZKgDkVg8VQ0",
        "outputId": "06a6e541-dace-48a0-f38f-fd41907cf754"
      },
      "execution_count": null,
      "outputs": [
        {
          "output_type": "execute_result",
          "data": {
            "text/plain": [
              "[(10, 20),\n",
              " (10, 40),\n",
              " (10, 60),\n",
              " (10, 80),\n",
              " (10, 100),\n",
              " (20, 20),\n",
              " (20, 40),\n",
              " (20, 60),\n",
              " (20, 80),\n",
              " (20, 100),\n",
              " (30, 20),\n",
              " (30, 40),\n",
              " (30, 60),\n",
              " (30, 80),\n",
              " (30, 100),\n",
              " (40, 20),\n",
              " (40, 40),\n",
              " (40, 60),\n",
              " (40, 80),\n",
              " (40, 100)]"
            ]
          },
          "metadata": {},
          "execution_count": 16
        }
      ]
    },
    {
      "cell_type": "code",
      "source": [
        "sub=rdd1.subtract(rdd2)\n",
        "sub.collect()"
      ],
      "metadata": {
        "colab": {
          "base_uri": "https://localhost:8080/"
        },
        "id": "eK2CHmRA8VjO",
        "outputId": "070618e8-dc5e-4816-fb64-bace3b537bfd"
      },
      "execution_count": null,
      "outputs": [
        {
          "output_type": "execute_result",
          "data": {
            "text/plain": [
              "[10, 30]"
            ]
          },
          "metadata": {},
          "execution_count": 17
        }
      ]
    },
    {
      "cell_type": "code",
      "source": [
        "sub2=rdd2.subtract(rdd1)\n",
        "sub2.collect()"
      ],
      "metadata": {
        "colab": {
          "base_uri": "https://localhost:8080/"
        },
        "id": "t4lwwF9e8vxG",
        "outputId": "097e7042-fd0d-4a52-e9ef-0e59e2f8e965"
      },
      "execution_count": null,
      "outputs": [
        {
          "output_type": "execute_result",
          "data": {
            "text/plain": [
              "[60, 80, 100]"
            ]
          },
          "metadata": {},
          "execution_count": 18
        }
      ]
    },
    {
      "cell_type": "markdown",
      "source": [
        "working on raw data"
      ],
      "metadata": {
        "id": "lFBZY6YA9rLn"
      }
    },
    {
      "cell_type": "code",
      "source": [
        "!pip install wget"
      ],
      "metadata": {
        "colab": {
          "base_uri": "https://localhost:8080/"
        },
        "id": "eJT4xlsw8wFT",
        "outputId": "09f7fd26-7ba3-4364-df5c-c9280c8b6c56"
      },
      "execution_count": null,
      "outputs": [
        {
          "output_type": "stream",
          "name": "stdout",
          "text": [
            "Collecting wget\n",
            "  Downloading wget-3.2.zip (10 kB)\n",
            "Building wheels for collected packages: wget\n",
            "  Building wheel for wget (setup.py) ... \u001b[?25l\u001b[?25hdone\n",
            "  Created wheel for wget: filename=wget-3.2-py3-none-any.whl size=9675 sha256=8c5f603087df5ecbe5084c1e4b3c9dc099c24134b820ab2f9c8edc53708b2072\n",
            "  Stored in directory: /root/.cache/pip/wheels/a1/b6/7c/0e63e34eb06634181c63adacca38b79ff8f35c37e3c13e3c02\n",
            "Successfully built wget\n",
            "Installing collected packages: wget\n",
            "Successfully installed wget-3.2\n"
          ]
        }
      ]
    },
    {
      "cell_type": "code",
      "source": [
        "import wget "
      ],
      "metadata": {
        "id": "JoZr3RgZ3gDL"
      },
      "execution_count": null,
      "outputs": []
    },
    {
      "cell_type": "code",
      "source": [
        "wget.download(\"https://raw.githubusercontent.com/jleetutorial/python-spark-tutorial/master/in/nasa_19950701.tsv\",\"first.csv\")"
      ],
      "metadata": {
        "colab": {
          "base_uri": "https://localhost:8080/",
          "height": 35
        },
        "id": "d372C35b3gQ-",
        "outputId": "fcf608d5-8f19-4b7e-deac-fb4764260fda"
      },
      "execution_count": null,
      "outputs": [
        {
          "output_type": "execute_result",
          "data": {
            "text/plain": [
              "'first.csv'"
            ],
            "application/vnd.google.colaboratory.intrinsic+json": {
              "type": "string"
            }
          },
          "metadata": {},
          "execution_count": 21
        }
      ]
    },
    {
      "cell_type": "code",
      "source": [
        "wget.download(\"https://raw.githubusercontent.com/jleetutorial/python-spark-tutorial/master/in/nasa_19950801.tsv\",\"second.csv\")"
      ],
      "metadata": {
        "colab": {
          "base_uri": "https://localhost:8080/",
          "height": 35
        },
        "id": "3psxQ00F3gUC",
        "outputId": "dae0f031-3438-4fa7-ba9b-e5cdd844eced"
      },
      "execution_count": null,
      "outputs": [
        {
          "output_type": "execute_result",
          "data": {
            "text/plain": [
              "'second.csv'"
            ],
            "application/vnd.google.colaboratory.intrinsic+json": {
              "type": "string"
            }
          },
          "metadata": {},
          "execution_count": 22
        }
      ]
    },
    {
      "cell_type": "code",
      "source": [
        "firstrdd=sc.textFile(\"first.csv\")\n",
        "firstrdd.take(4)   # here separator is \\t(tab)"
      ],
      "metadata": {
        "colab": {
          "base_uri": "https://localhost:8080/"
        },
        "id": "CGL80dJS3gXb",
        "outputId": "01247c71-39d6-43c1-a70c-f2bd0de89c8b"
      },
      "execution_count": null,
      "outputs": [
        {
          "output_type": "execute_result",
          "data": {
            "text/plain": [
              "['host\\tlogname\\ttime\\tmethod\\turl\\tresponse\\tbytes',\n",
              " '199.72.81.55\\t-\\t804571201\\tGET\\t/history/apollo/\\t200\\t6245\\t\\t',\n",
              " 'unicomp6.unicomp.net\\t-\\t804571206\\tGET\\t/shuttle/countdown/\\t200\\t3985\\t\\t',\n",
              " '199.120.110.21\\t-\\t804571209\\tGET\\t/shuttle/missions/sts-73/mission-sts-73.html\\t200\\t4085\\t\\t']"
            ]
          },
          "metadata": {},
          "execution_count": 23
        }
      ]
    },
    {
      "cell_type": "code",
      "source": [
        "firstrdd.count()"
      ],
      "metadata": {
        "colab": {
          "base_uri": "https://localhost:8080/"
        },
        "id": "ZiilCIN-_m0A",
        "outputId": "e0d5a5ee-963a-4191-d673-d7d6f0417d9b"
      },
      "execution_count": null,
      "outputs": [
        {
          "output_type": "execute_result",
          "data": {
            "text/plain": [
              "10000"
            ]
          },
          "metadata": {},
          "execution_count": 24
        }
      ]
    },
    {
      "cell_type": "code",
      "source": [
        "secondrdd=sc.textFile(\"second.csv\")\n",
        "secondrdd.take(4)"
      ],
      "metadata": {
        "colab": {
          "base_uri": "https://localhost:8080/"
        },
        "id": "_WVGAULz_J0H",
        "outputId": "64d784a7-059c-4a19-e4af-927151506072"
      },
      "execution_count": null,
      "outputs": [
        {
          "output_type": "execute_result",
          "data": {
            "text/plain": [
              "['host\\tlogname\\ttime\\tmethod\\turl\\tresponse\\tbytes',\n",
              " 'in24.inetnebr.com\\t-\\t807249601\\tGET\\t/shuttle/missions/sts-68/news/sts-68-mcc-05.txt\\t200\\t1839\\t\\t',\n",
              " 'uplherc.upl.com\\t-\\t807249607\\tGET\\t/\\t304\\t0\\t\\t',\n",
              " 'uplherc.upl.com\\t-\\t807249608\\tGET\\t/images/ksclogo-medium.gif\\t304\\t0\\t\\t']"
            ]
          },
          "metadata": {},
          "execution_count": 25
        }
      ]
    },
    {
      "cell_type": "code",
      "source": [
        "secondrdd.count()"
      ],
      "metadata": {
        "colab": {
          "base_uri": "https://localhost:8080/"
        },
        "id": "Gmc6ivk3_qEh",
        "outputId": "4b579a87-9e01-40d7-9e19-eca56ddbb40e"
      },
      "execution_count": null,
      "outputs": [
        {
          "output_type": "execute_result",
          "data": {
            "text/plain": [
              "10000"
            ]
          },
          "metadata": {},
          "execution_count": 26
        }
      ]
    },
    {
      "cell_type": "markdown",
      "source": [
        "Understanding Intersection,union ,subtract in host data"
      ],
      "metadata": {
        "id": "wHpNTSDv_bWz"
      }
    },
    {
      "cell_type": "code",
      "source": [
        "# removing header and extracting the required data\n",
        "secondheader=secondrdd.first()\n",
        "secondnew=secondrdd.filter(lambda x:x!=secondheader)\n",
        "secondhost=secondnew.map(lambda x:x.split(\"\\t\")[0])\n",
        "secondhost.count()"
      ],
      "metadata": {
        "colab": {
          "base_uri": "https://localhost:8080/"
        },
        "id": "0RWPrr5j_KLR",
        "outputId": "c6c5d4e9-02d6-47bc-f58c-cf06986b0ae6"
      },
      "execution_count": null,
      "outputs": [
        {
          "output_type": "execute_result",
          "data": {
            "text/plain": [
              "9999"
            ]
          },
          "metadata": {},
          "execution_count": 27
        }
      ]
    },
    {
      "cell_type": "code",
      "source": [
        "secondhost.take(4)"
      ],
      "metadata": {
        "colab": {
          "base_uri": "https://localhost:8080/"
        },
        "id": "1iWKXAY7_lv0",
        "outputId": "166664cc-769f-4144-ccb6-cdaae71d2e0d"
      },
      "execution_count": null,
      "outputs": [
        {
          "output_type": "execute_result",
          "data": {
            "text/plain": [
              "['in24.inetnebr.com', 'uplherc.upl.com', 'uplherc.upl.com', 'uplherc.upl.com']"
            ]
          },
          "metadata": {},
          "execution_count": 28
        }
      ]
    },
    {
      "cell_type": "code",
      "source": [
        "#removing header and extracting the required data \n",
        "firstheader=firstrdd.first()\n",
        "firstnew=firstrdd.filter(lambda x:x!=firstheader)\n",
        "firsthost=firstnew.map(lambda x:x.split(\"\\t\")[0])\n",
        "firsthost.count()\n",
        "firsthost.take(4)"
      ],
      "metadata": {
        "colab": {
          "base_uri": "https://localhost:8080/"
        },
        "id": "2CMwaqI-_KNa",
        "outputId": "086aea60-35ad-4939-abec-7ac633b2799c"
      },
      "execution_count": null,
      "outputs": [
        {
          "output_type": "execute_result",
          "data": {
            "text/plain": [
              "['199.72.81.55',\n",
              " 'unicomp6.unicomp.net',\n",
              " '199.120.110.21',\n",
              " 'burger.letters.com']"
            ]
          },
          "metadata": {},
          "execution_count": 29
        }
      ]
    },
    {
      "cell_type": "code",
      "source": [
        "firsthost.union(secondhost).count()"
      ],
      "metadata": {
        "colab": {
          "base_uri": "https://localhost:8080/"
        },
        "id": "41rPcTdO_KQM",
        "outputId": "5bc51533-ded6-4dfa-b593-ce01c583b5a4"
      },
      "execution_count": null,
      "outputs": [
        {
          "output_type": "execute_result",
          "data": {
            "text/plain": [
              "19998"
            ]
          },
          "metadata": {},
          "execution_count": 30
        }
      ]
    },
    {
      "cell_type": "code",
      "source": [
        "firsthost.intersection(secondhost).count() #"
      ],
      "metadata": {
        "colab": {
          "base_uri": "https://localhost:8080/"
        },
        "id": "Vj2YVG98_KS1",
        "outputId": "370a7a34-be44-4a1f-c3bc-61aec2ba020e"
      },
      "execution_count": null,
      "outputs": [
        {
          "output_type": "execute_result",
          "data": {
            "text/plain": [
              "37"
            ]
          },
          "metadata": {},
          "execution_count": 31
        }
      ]
    },
    {
      "cell_type": "code",
      "source": [
        "first=firsthost.subtract(secondhost).count()"
      ],
      "metadata": {
        "id": "G0k22rxS_KVw"
      },
      "execution_count": null,
      "outputs": []
    },
    {
      "cell_type": "code",
      "source": [
        "second1=secondhost.subtract(firsthost).count()"
      ],
      "metadata": {
        "id": "b8WiF0JB_KZa"
      },
      "execution_count": null,
      "outputs": []
    },
    {
      "cell_type": "code",
      "source": [
        "second=secondhost.subtract(firsthost)"
      ],
      "metadata": {
        "id": "3WuNIqoOB8CM"
      },
      "execution_count": null,
      "outputs": []
    },
    {
      "cell_type": "code",
      "source": [
        "diff=first-second1\n",
        "print(diff)"
      ],
      "metadata": {
        "colab": {
          "base_uri": "https://localhost:8080/"
        },
        "id": "JjC7yy7e_Kcr",
        "outputId": "0b439143-c991-4cae-b1aa-ba469b971f76"
      },
      "execution_count": null,
      "outputs": [
        {
          "output_type": "stream",
          "name": "stdout",
          "text": [
            "-172\n"
          ]
        }
      ]
    },
    {
      "cell_type": "code",
      "source": [
        "second.coalesce(2).saveAsTextFile(\"result.csv\")"
      ],
      "metadata": {
        "id": "FaRcQfNy_KgF"
      },
      "execution_count": null,
      "outputs": []
    },
    {
      "cell_type": "markdown",
      "source": [
        "date-22/04/2022---Paired RDD\n"
      ],
      "metadata": {
        "id": "NRC0TV4Rcn9o"
      }
    },
    {
      "cell_type": "code",
      "source": [
        "studentinfo=[('Abhay',89),('Sonali',90),('Ajit',75)]\n",
        "mypairdd=sc.parallelize(studentinfo)"
      ],
      "metadata": {
        "id": "bTEVjLwbclSw"
      },
      "execution_count": null,
      "outputs": []
    },
    {
      "cell_type": "code",
      "source": [
        "mypairdd.collect()"
      ],
      "metadata": {
        "colab": {
          "base_uri": "https://localhost:8080/"
        },
        "id": "TeMfR6qUclVG",
        "outputId": "5e007f58-0759-4595-fa8c-56be40790eb6"
      },
      "execution_count": null,
      "outputs": [
        {
          "output_type": "execute_result",
          "data": {
            "text/plain": [
              "[[('Abhay', 89), ('Sonali', 90), ('Ajit', 75)]]"
            ]
          },
          "metadata": {},
          "execution_count": 76
        }
      ]
    },
    {
      "cell_type": "code",
      "source": [
        "type(pairdd)"
      ],
      "metadata": {
        "colab": {
          "base_uri": "https://localhost:8080/"
        },
        "id": "Mfw1bXNeclXP",
        "outputId": "cc317e47-4bbc-441a-e7bb-1ede96ddfe81"
      },
      "execution_count": null,
      "outputs": [
        {
          "output_type": "execute_result",
          "data": {
            "text/plain": [
              "pyspark.rdd.RDD"
            ]
          },
          "metadata": {},
          "execution_count": 53
        }
      ]
    },
    {
      "cell_type": "code",
      "source": [
        "mypairdd.coalesce(1).saveAsTextFile(\"studentdata2.csv\")"
      ],
      "metadata": {
        "id": "MrIvD3QtclaX"
      },
      "execution_count": null,
      "outputs": []
    },
    {
      "cell_type": "code",
      "source": [
        "result=mypairdd.filter(lambda x: x[0]==\"Abhay\")\n",
        "result.collect()"
      ],
      "metadata": {
        "colab": {
          "base_uri": "https://localhost:8080/"
        },
        "id": "FXi3u_ctclc6",
        "outputId": "7390e190-427f-4706-81ff-8868a78d4e33"
      },
      "execution_count": null,
      "outputs": [
        {
          "output_type": "execute_result",
          "data": {
            "text/plain": [
              "[('Abhay', 89)]"
            ]
          },
          "metadata": {},
          "execution_count": 80
        }
      ]
    },
    {
      "cell_type": "code",
      "source": [
        "mypairdd.collect()"
      ],
      "metadata": {
        "colab": {
          "base_uri": "https://localhost:8080/"
        },
        "id": "V_Uj_L3vhDq0",
        "outputId": "d3b3c885-4730-4a7a-f916-7a6cb8597937"
      },
      "execution_count": null,
      "outputs": [
        {
          "output_type": "execute_result",
          "data": {
            "text/plain": [
              "[[('Abhay', 89), ('Sonali', 90), ('Ajit', 75)]]"
            ]
          },
          "metadata": {},
          "execution_count": 78
        }
      ]
    },
    {
      "cell_type": "code",
      "source": [
        "result2=mypairdd.filter(lambda x: x[0]!=\"Sonali\")\n",
        "result2.collect()"
      ],
      "metadata": {
        "colab": {
          "base_uri": "https://localhost:8080/"
        },
        "id": "J7oT0s9Dclfd",
        "outputId": "cba6891f-edf8-440f-bf97-c34b35af8666"
      },
      "execution_count": null,
      "outputs": [
        {
          "output_type": "execute_result",
          "data": {
            "text/plain": [
              "[('Abhay', 89), ('Ajit', 75)]"
            ]
          },
          "metadata": {},
          "execution_count": 82
        }
      ]
    },
    {
      "cell_type": "code",
      "source": [
        "result3=mypairdd.filter(lambda x:x[1]==75)\n",
        "result3.collect()"
      ],
      "metadata": {
        "colab": {
          "base_uri": "https://localhost:8080/"
        },
        "id": "4AwNoMxjcllE",
        "outputId": "571c568a-3fd1-4839-975a-9a6cfaca7623"
      },
      "execution_count": null,
      "outputs": [
        {
          "output_type": "execute_result",
          "data": {
            "text/plain": [
              "[('Ajit', 75)]"
            ]
          },
          "metadata": {},
          "execution_count": 83
        }
      ]
    },
    {
      "cell_type": "code",
      "source": [
        "result4=mypairdd.filter(lambda x:x[1]>75)\n",
        "result4.collect()"
      ],
      "metadata": {
        "colab": {
          "base_uri": "https://localhost:8080/"
        },
        "id": "ZcJFqZQ_clnY",
        "outputId": "f703695e-ab7c-4169-f01c-1f1d00a3d536"
      },
      "execution_count": null,
      "outputs": [
        {
          "output_type": "execute_result",
          "data": {
            "text/plain": [
              "[('Abhay', 89), ('Sonali', 90)]"
            ]
          },
          "metadata": {},
          "execution_count": 85
        }
      ]
    },
    {
      "cell_type": "code",
      "source": [
        "studenttest=[('Abhay',20),('Ritu',17),(\"Anshu\",15),('Abhay',18),('Ritu',18),(\"Anshu\",18),('Abhay',20),(\"Anshu\",19)]"
      ],
      "metadata": {
        "id": "yX-tr6Nnclps"
      },
      "execution_count": null,
      "outputs": []
    },
    {
      "cell_type": "code",
      "source": [
        "mypairdd2=sc.parallelize(studenttest)"
      ],
      "metadata": {
        "id": "qR_AsYbYclsN"
      },
      "execution_count": null,
      "outputs": []
    },
    {
      "cell_type": "code",
      "source": [
        "mypairdd2.collect()"
      ],
      "metadata": {
        "colab": {
          "base_uri": "https://localhost:8080/"
        },
        "id": "EKHDf-f4iznL",
        "outputId": "1e7fad91-3693-42b2-ee89-23204d85f70d"
      },
      "execution_count": null,
      "outputs": [
        {
          "output_type": "execute_result",
          "data": {
            "text/plain": [
              "[('Abhay', 20),\n",
              " ('Ritu', 17),\n",
              " ('Anshu', 15),\n",
              " ('Abhay', 18),\n",
              " ('Ritu', 18),\n",
              " ('Anshu', 18),\n",
              " ('Abhay', 20),\n",
              " ('Anshu', 19)]"
            ]
          },
          "metadata": {},
          "execution_count": 96
        }
      ]
    },
    {
      "cell_type": "code",
      "source": [
        "result5=mypairdd2.reduceByKey(lambda x,y:x+y)\n",
        "result5.collect()"
      ],
      "metadata": {
        "colab": {
          "base_uri": "https://localhost:8080/"
        },
        "id": "f4e24JUicluq",
        "outputId": "89d87a11-982c-4785-ee28-01323e10f27a"
      },
      "execution_count": null,
      "outputs": [
        {
          "output_type": "execute_result",
          "data": {
            "text/plain": [
              "[('Abhay', 58), ('Ritu', 35), ('Anshu', 52)]"
            ]
          },
          "metadata": {},
          "execution_count": 97
        }
      ]
    },
    {
      "cell_type": "code",
      "source": [
        "result6=mypairdd2.reduceByKey(lambda x,y: x*y)\n",
        "result6.collect()"
      ],
      "metadata": {
        "colab": {
          "base_uri": "https://localhost:8080/"
        },
        "id": "KtS0jVNhclxT",
        "outputId": "7890717b-b495-433c-f6c3-012aafda2cc7"
      },
      "execution_count": null,
      "outputs": [
        {
          "output_type": "execute_result",
          "data": {
            "text/plain": [
              "[('Abhay', 7200), ('Ritu', 306), ('Anshu', 5130)]"
            ]
          },
          "metadata": {},
          "execution_count": 99
        }
      ]
    },
    {
      "cell_type": "code",
      "source": [
        "result7=mypairdd2.sortByKey()\n",
        "result7.collect()"
      ],
      "metadata": {
        "colab": {
          "base_uri": "https://localhost:8080/"
        },
        "id": "oiyEfLqAcl0S",
        "outputId": "31456cd4-1cea-412d-8476-1af0f1a5c5f6"
      },
      "execution_count": null,
      "outputs": [
        {
          "output_type": "execute_result",
          "data": {
            "text/plain": [
              "[('Abhay', 20),\n",
              " ('Abhay', 18),\n",
              " ('Abhay', 20),\n",
              " ('Anshu', 15),\n",
              " ('Anshu', 18),\n",
              " ('Anshu', 19),\n",
              " ('Ritu', 17),\n",
              " ('Ritu', 18)]"
            ]
          },
          "metadata": {},
          "execution_count": 100
        }
      ]
    },
    {
      "cell_type": "code",
      "source": [
        "result8=mypairdd.sortByKey(ascending=False)\n",
        "result8.collect()"
      ],
      "metadata": {
        "colab": {
          "base_uri": "https://localhost:8080/"
        },
        "id": "IVfghNFMj3DX",
        "outputId": "01faed77-62fb-4fa6-c9dc-6b9d339e295c"
      },
      "execution_count": null,
      "outputs": [
        {
          "output_type": "execute_result",
          "data": {
            "text/plain": [
              "[('Sonali', 90), ('Ajit', 75), ('Abhay', 89)]"
            ]
          },
          "metadata": {},
          "execution_count": 102
        }
      ]
    },
    {
      "cell_type": "code",
      "source": [
        "#groupbykey \n",
        "#the list function is used because the result generated is an iterable object \n",
        "#to fetch the content we need to convert it into list datatype \n",
        "result9=mypairdd2.groupByKey()\n",
        "for x,y in result9.collect():\n",
        "  print(x,list(y))"
      ],
      "metadata": {
        "colab": {
          "base_uri": "https://localhost:8080/"
        },
        "id": "AWlQquCBcl29",
        "outputId": "52413bf7-70c2-445b-9142-5702ec23ea0f"
      },
      "execution_count": null,
      "outputs": [
        {
          "output_type": "stream",
          "name": "stdout",
          "text": [
            "Abhay [20, 18, 20]\n",
            "Ritu [17, 18]\n",
            "Anshu [15, 18, 19]\n"
          ]
        }
      ]
    },
    {
      "cell_type": "code",
      "source": [
        "result9.collect()\n",
        "#it gives the groub by elements according to the names but these elements are not iterable "
      ],
      "metadata": {
        "colab": {
          "base_uri": "https://localhost:8080/"
        },
        "id": "bYu3Tc93mMzM",
        "outputId": "0d2f89f5-88fa-496b-d74c-a64628c68bf2"
      },
      "execution_count": null,
      "outputs": [
        {
          "output_type": "execute_result",
          "data": {
            "text/plain": [
              "[('Abhay', <pyspark.resultiterable.ResultIterable at 0x7fdae84c0090>),\n",
              " ('Ritu', <pyspark.resultiterable.ResultIterable at 0x7fdae84c0610>),\n",
              " ('Anshu', <pyspark.resultiterable.ResultIterable at 0x7fdae84c0dd0>)]"
            ]
          },
          "metadata": {},
          "execution_count": 110
        }
      ]
    },
    {
      "cell_type": "code",
      "source": [
        "result10=mypairdd2.countByKey()\n",
        "print(result10.keys())\n",
        "print(result10.values())\n",
        "print(result10.items())\n",
        "\n"
      ],
      "metadata": {
        "colab": {
          "base_uri": "https://localhost:8080/"
        },
        "id": "QP_daJfwcl5x",
        "outputId": "2b4690ad-15c9-4062-fbc4-6104a5ac2aa3"
      },
      "execution_count": null,
      "outputs": [
        {
          "output_type": "stream",
          "name": "stdout",
          "text": [
            "dict_keys(['Abhay', 'Ritu', 'Anshu'])\n",
            "dict_values([3, 2, 3])\n",
            "dict_items([('Abhay', 3), ('Ritu', 2), ('Anshu', 3)])\n"
          ]
        }
      ]
    },
    {
      "cell_type": "code",
      "source": [
        "#it will display a dictionary containing the information relatd to duplicate record\n",
        "#the result is stored on the basis of descending order by value \n",
        "#result11.collect()#since countbby always gives a dictionary type values so collect function will give error#\n",
        "result11=mypairdd2.countByValue()\n",
        "result11.items()"
      ],
      "metadata": {
        "colab": {
          "base_uri": "https://localhost:8080/"
        },
        "id": "oLG_xPo6cl8h",
        "outputId": "f9aa5aaa-9879-43aa-d9a4-6aeb38ba785c"
      },
      "execution_count": null,
      "outputs": [
        {
          "output_type": "execute_result",
          "data": {
            "text/plain": [
              "dict_items([(('Abhay', 20), 2), (('Ritu', 17), 1), (('Anshu', 15), 1), (('Abhay', 18), 1), (('Ritu', 18), 1), (('Anshu', 18), 1), (('Anshu', 19), 1)])"
            ]
          },
          "metadata": {},
          "execution_count": 108
        }
      ]
    },
    {
      "cell_type": "code",
      "source": [
        "studentexam=[('Abhay',80),('Purva',75),('Ritu',60),('Pearl',88)]"
      ],
      "metadata": {
        "id": "izrafFhLcl_H"
      },
      "execution_count": null,
      "outputs": []
    },
    {
      "cell_type": "code",
      "source": [
        "examrdd=sc.parallelize(studentexam)"
      ],
      "metadata": {
        "id": "Y7_n9RMLcmDs"
      },
      "execution_count": null,
      "outputs": []
    },
    {
      "cell_type": "code",
      "source": [
        "examrdd.collect()"
      ],
      "metadata": {
        "colab": {
          "base_uri": "https://localhost:8080/"
        },
        "id": "Bw5GCYwRcmFX",
        "outputId": "6f25910f-1c8c-4b6c-cf5c-c5d173e71de5"
      },
      "execution_count": null,
      "outputs": [
        {
          "output_type": "execute_result",
          "data": {
            "text/plain": [
              "[('Abhay', 80), ('Purva', 75), ('Ritu', 60), ('Pearl', 88)]"
            ]
          },
          "metadata": {},
          "execution_count": 118
        }
      ]
    },
    {
      "cell_type": "code",
      "source": [
        "#join----\n",
        "joinresult=examrdd.join(mypairdd2)\n",
        "joinresult.collect()"
      ],
      "metadata": {
        "colab": {
          "base_uri": "https://localhost:8080/"
        },
        "id": "poHO2lllcmH5",
        "outputId": "16a25dea-6ab6-4b4d-901d-d69195b7ddbe"
      },
      "execution_count": null,
      "outputs": [
        {
          "output_type": "execute_result",
          "data": {
            "text/plain": [
              "[('Abhay', (80, 20)),\n",
              " ('Abhay', (80, 18)),\n",
              " ('Abhay', (80, 20)),\n",
              " ('Ritu', (60, 17)),\n",
              " ('Ritu', (60, 18))]"
            ]
          },
          "metadata": {},
          "execution_count": 119
        }
      ]
    },
    {
      "cell_type": "code",
      "source": [
        "jointotal=examrdd.join(result5)\n",
        "jointotal.collect()"
      ],
      "metadata": {
        "colab": {
          "base_uri": "https://localhost:8080/"
        },
        "id": "h9b-pJB3pSsL",
        "outputId": "73f47f97-249d-4890-ab95-869de5466ffa"
      },
      "execution_count": null,
      "outputs": [
        {
          "output_type": "execute_result",
          "data": {
            "text/plain": [
              "[('Abhay', (80, 58)), ('Ritu', (60, 35))]"
            ]
          },
          "metadata": {},
          "execution_count": 122
        }
      ]
    },
    {
      "cell_type": "code",
      "source": [
        "#for effective results of diaplaying total internal and total external marks we use join \n",
        "#operation on rdd crested by using reducebykey \n",
        "joinresult1=mypairdd2.join(examrdd)\n",
        "joinresult1.collect()"
      ],
      "metadata": {
        "colab": {
          "base_uri": "https://localhost:8080/"
        },
        "id": "Z5KHLgDKcmKQ",
        "outputId": "522a1e0c-c320-4890-8593-5894e0a5c1f7"
      },
      "execution_count": null,
      "outputs": [
        {
          "output_type": "execute_result",
          "data": {
            "text/plain": [
              "[('Abhay', (20, 80)),\n",
              " ('Abhay', (18, 80)),\n",
              " ('Abhay', (20, 80)),\n",
              " ('Ritu', (17, 60)),\n",
              " ('Ritu', (18, 60))]"
            ]
          },
          "metadata": {},
          "execution_count": 121
        }
      ]
    },
    {
      "cell_type": "code",
      "source": [
        "joinresult2=examrdd.leftOuterJoin(mypairdd2)\n",
        "joinresult2.collect()"
      ],
      "metadata": {
        "colab": {
          "base_uri": "https://localhost:8080/"
        },
        "id": "dpP685RscmM0",
        "outputId": "2edfe8be-7582-4eba-bdb8-cb5cae6e216b"
      },
      "execution_count": null,
      "outputs": [
        {
          "output_type": "execute_result",
          "data": {
            "text/plain": [
              "[('Purva', (75, None)),\n",
              " ('Abhay', (80, 20)),\n",
              " ('Abhay', (80, 18)),\n",
              " ('Abhay', (80, 20)),\n",
              " ('Ritu', (60, 17)),\n",
              " ('Ritu', (60, 18)),\n",
              " ('Pearl', (88, None))]"
            ]
          },
          "metadata": {},
          "execution_count": 123
        }
      ]
    },
    {
      "cell_type": "code",
      "source": [
        "joinresult3=examrdd.rightOuterJoin(mypairdd2)\n",
        "joinresult3.collect()"
      ],
      "metadata": {
        "colab": {
          "base_uri": "https://localhost:8080/"
        },
        "id": "7VWm4-9Zs0Io",
        "outputId": "42ca0a9f-3824-4f76-ba5b-d00222321bd5"
      },
      "execution_count": null,
      "outputs": [
        {
          "output_type": "execute_result",
          "data": {
            "text/plain": [
              "[('Abhay', (80, 20)),\n",
              " ('Abhay', (80, 18)),\n",
              " ('Abhay', (80, 20)),\n",
              " ('Ritu', (60, 17)),\n",
              " ('Ritu', (60, 18)),\n",
              " ('Anshu', (None, 15)),\n",
              " ('Anshu', (None, 18)),\n",
              " ('Anshu', (None, 19))]"
            ]
          },
          "metadata": {},
          "execution_count": 126
        }
      ]
    },
    {
      "cell_type": "code",
      "source": [
        "joinresult4=examrdd.fullOuterJoin(mypairdd2)\n",
        "joinresult4.collect()"
      ],
      "metadata": {
        "colab": {
          "base_uri": "https://localhost:8080/"
        },
        "id": "sCsCL-8WcmPq",
        "outputId": "6efd46b8-1273-4894-a49e-0aea6d278a31"
      },
      "execution_count": null,
      "outputs": [
        {
          "output_type": "execute_result",
          "data": {
            "text/plain": [
              "[('Purva', (75, None)),\n",
              " ('Abhay', (80, 20)),\n",
              " ('Abhay', (80, 18)),\n",
              " ('Abhay', (80, 20)),\n",
              " ('Ritu', (60, 17)),\n",
              " ('Ritu', (60, 18)),\n",
              " ('Pearl', (88, None)),\n",
              " ('Anshu', (None, 15)),\n",
              " ('Anshu', (None, 18)),\n",
              " ('Anshu', (None, 19))]"
            ]
          },
          "metadata": {},
          "execution_count": 125
        }
      ]
    },
    {
      "cell_type": "markdown",
      "source": [
        "Example Finale exam  is important for me to genrate the result .it is ok the student has not appeared for the test .WE CAN MANGE HIS ASSIGNMENTS later also hence we will use leftouterjoin or rightouterjoin accordingly"
      ],
      "metadata": {
        "id": "3vUAeKJwtkxf"
      }
    },
    {
      "cell_type": "code",
      "source": [
        "joinresult5=result5.leftOuterJoin(examrdd)\n",
        "joinresult5.collect()"
      ],
      "metadata": {
        "colab": {
          "base_uri": "https://localhost:8080/"
        },
        "id": "BVpeaEPXcmTE",
        "outputId": "a73a32db-c182-4863-f2f0-49784b9c4386"
      },
      "execution_count": null,
      "outputs": [
        {
          "output_type": "execute_result",
          "data": {
            "text/plain": [
              "[('Abhay', (58, 80)), ('Ritu', (35, 60)), ('Anshu', (52, None))]"
            ]
          },
          "metadata": {},
          "execution_count": 127
        }
      ]
    },
    {
      "cell_type": "code",
      "source": [
        "joinresult6=examrdd.rightOuterJoin(examrdd)\n",
        "joinresult6.collect()"
      ],
      "metadata": {
        "colab": {
          "base_uri": "https://localhost:8080/"
        },
        "id": "olgMtNR_p-sg",
        "outputId": "0cb79c56-f1b4-49f9-ae3e-f4f8a6ac4b26"
      },
      "execution_count": null,
      "outputs": [
        {
          "output_type": "execute_result",
          "data": {
            "text/plain": [
              "[('Purva', (75, 75)),\n",
              " ('Abhay', (80, 80)),\n",
              " ('Ritu', (60, 60)),\n",
              " ('Pearl', (88, 88))]"
            ]
          },
          "metadata": {},
          "execution_count": 128
        }
      ]
    },
    {
      "cell_type": "code",
      "source": [
        "joinresult7=result5.fullOuterJoin(examrdd)\n",
        "joinresult7.collect()"
      ],
      "metadata": {
        "colab": {
          "base_uri": "https://localhost:8080/"
        },
        "id": "3xd1Kr9mp-x-",
        "outputId": "9331a389-e7d6-4bb1-f8f5-6eb8d5859093"
      },
      "execution_count": null,
      "outputs": [
        {
          "output_type": "execute_result",
          "data": {
            "text/plain": [
              "[('Purva', (None, 75)),\n",
              " ('Abhay', (58, 80)),\n",
              " ('Ritu', (35, 60)),\n",
              " ('Anshu', (52, None)),\n",
              " ('Pearl', (None, 88))]"
            ]
          },
          "metadata": {},
          "execution_count": 129
        }
      ]
    },
    {
      "cell_type": "code",
      "source": [
        "employeedata=[('A','Mumbai'),(\"B\",\"Delhi\"),(\"c\",\"Pune\"),(\"D\",\"Mumbai\")]\n",
        "emprdd=sc.parallelize(employeedata)"
      ],
      "metadata": {
        "id": "SzVgviV9p-0O"
      },
      "execution_count": null,
      "outputs": []
    },
    {
      "cell_type": "code",
      "source": [
        "empsalary=[(\"A\",70000),(\"B\",60000),(\"C\",45000),(\"D\",90000)]\n",
        "emprdd2=sc.parallelize(empsalary)"
      ],
      "metadata": {
        "id": "9w0AtWTPp-2D"
      },
      "execution_count": null,
      "outputs": []
    },
    {
      "cell_type": "code",
      "source": [
        "finalresult=emprdd.join(emprdd2)\n",
        "finalresult.collect()"
      ],
      "metadata": {
        "colab": {
          "base_uri": "https://localhost:8080/"
        },
        "id": "LBZWtMMUp-3-",
        "outputId": "2127e160-9dc4-47c2-a657-6e392b0fcd0c"
      },
      "execution_count": null,
      "outputs": [
        {
          "output_type": "execute_result",
          "data": {
            "text/plain": [
              "[('A', ('Mumbai', 70000)), ('B', ('Delhi', 60000)), ('D', ('Mumbai', 90000))]"
            ]
          },
          "metadata": {},
          "execution_count": 134
        }
      ]
    },
    {
      "cell_type": "code",
      "source": [
        "finalresult."
      ],
      "metadata": {
        "id": "4JxLBffkp-7A"
      },
      "execution_count": null,
      "outputs": []
    },
    {
      "cell_type": "code",
      "source": [
        "mypairdd2.countApproxDistinct()"
      ],
      "metadata": {
        "colab": {
          "base_uri": "https://localhost:8080/"
        },
        "id": "O_EO6ROCp-93",
        "outputId": "3ca87a6a-b047-4ee7-c4ca-bf601ec7a451"
      },
      "execution_count": null,
      "outputs": [
        {
          "output_type": "execute_result",
          "data": {
            "text/plain": [
              "7"
            ]
          },
          "metadata": {},
          "execution_count": 136
        }
      ]
    },
    {
      "cell_type": "code",
      "source": [
        "mypairdd2.min() #min of key and min among the value "
      ],
      "metadata": {
        "colab": {
          "base_uri": "https://localhost:8080/"
        },
        "id": "0lvPjtN0p_BI",
        "outputId": "817c2c16-194d-43c5-c011-fb8aa58aa4b8"
      },
      "execution_count": null,
      "outputs": [
        {
          "output_type": "execute_result",
          "data": {
            "text/plain": [
              "('Abhay', 18)"
            ]
          },
          "metadata": {},
          "execution_count": 137
        }
      ]
    },
    {
      "cell_type": "code",
      "source": [
        "mypairdd2.max() #max on the basis of key ,and max on the basis of value "
      ],
      "metadata": {
        "colab": {
          "base_uri": "https://localhost:8080/"
        },
        "id": "o0O5Iqqrp_C-",
        "outputId": "dc810e10-e6e9-4677-aff8-b930e30cffc3"
      },
      "execution_count": null,
      "outputs": [
        {
          "output_type": "execute_result",
          "data": {
            "text/plain": [
              "('Ritu', 18)"
            ]
          },
          "metadata": {},
          "execution_count": 138
        }
      ]
    },
    {
      "cell_type": "code",
      "source": [
        ""
      ],
      "metadata": {
        "id": "dag56ozsp_FO"
      },
      "execution_count": null,
      "outputs": []
    },
    {
      "cell_type": "code",
      "source": [
        ""
      ],
      "metadata": {
        "id": "UHBZnQ5ip_IK"
      },
      "execution_count": null,
      "outputs": []
    },
    {
      "cell_type": "code",
      "source": [
        ""
      ],
      "metadata": {
        "id": "G7ZJRG_sp_K_"
      },
      "execution_count": null,
      "outputs": []
    },
    {
      "cell_type": "code",
      "source": [
        ""
      ],
      "metadata": {
        "id": "qU1lQr6wp_O4"
      },
      "execution_count": null,
      "outputs": []
    },
    {
      "cell_type": "code",
      "source": [
        ""
      ],
      "metadata": {
        "id": "pUfVNv6ap_Q8"
      },
      "execution_count": null,
      "outputs": []
    },
    {
      "cell_type": "code",
      "source": [
        ""
      ],
      "metadata": {
        "id": "-YHAdtF0p_TZ"
      },
      "execution_count": null,
      "outputs": []
    },
    {
      "cell_type": "code",
      "source": [
        ""
      ],
      "metadata": {
        "id": "HuSuxy-Cp_Vy"
      },
      "execution_count": null,
      "outputs": []
    },
    {
      "cell_type": "code",
      "source": [
        ""
      ],
      "metadata": {
        "id": "cFww2lGWp_Yz"
      },
      "execution_count": null,
      "outputs": []
    },
    {
      "cell_type": "code",
      "source": [
        ""
      ],
      "metadata": {
        "id": "BJHcHCTtp_bS"
      },
      "execution_count": null,
      "outputs": []
    },
    {
      "cell_type": "code",
      "source": [
        ""
      ],
      "metadata": {
        "id": "lcaudRzap_ev"
      },
      "execution_count": null,
      "outputs": []
    },
    {
      "cell_type": "code",
      "source": [
        ""
      ],
      "metadata": {
        "id": "-KB1wf8Kp_iK"
      },
      "execution_count": null,
      "outputs": []
    },
    {
      "cell_type": "code",
      "source": [
        ""
      ],
      "metadata": {
        "id": "dVqjTuKeqA7e"
      },
      "execution_count": null,
      "outputs": []
    },
    {
      "cell_type": "code",
      "source": [
        ""
      ],
      "metadata": {
        "id": "GHL7uyl5qBA_"
      },
      "execution_count": null,
      "outputs": []
    },
    {
      "cell_type": "code",
      "source": [
        ""
      ],
      "metadata": {
        "id": "rGKZWlZmqBDD"
      },
      "execution_count": null,
      "outputs": []
    },
    {
      "cell_type": "code",
      "source": [
        ""
      ],
      "metadata": {
        "id": "c4u4WjW0qBFi"
      },
      "execution_count": null,
      "outputs": []
    },
    {
      "cell_type": "code",
      "source": [
        ""
      ],
      "metadata": {
        "id": "4kOgY6M3qBH0"
      },
      "execution_count": null,
      "outputs": []
    },
    {
      "cell_type": "code",
      "source": [
        ""
      ],
      "metadata": {
        "id": "ru_9y-iZqBN0"
      },
      "execution_count": null,
      "outputs": []
    },
    {
      "cell_type": "code",
      "source": [
        ""
      ],
      "metadata": {
        "id": "cC3onqBrqBR0"
      },
      "execution_count": null,
      "outputs": []
    },
    {
      "cell_type": "code",
      "source": [
        ""
      ],
      "metadata": {
        "id": "0iOrnZFHqBVL"
      },
      "execution_count": null,
      "outputs": []
    },
    {
      "cell_type": "code",
      "source": [
        ""
      ],
      "metadata": {
        "id": "NPRbzJQlqBau"
      },
      "execution_count": null,
      "outputs": []
    },
    {
      "cell_type": "code",
      "source": [
        ""
      ],
      "metadata": {
        "id": "fvx2KFN-qBjZ"
      },
      "execution_count": null,
      "outputs": []
    }
  ]
}