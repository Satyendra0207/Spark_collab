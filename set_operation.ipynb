{
  "nbformat": 4,
  "nbformat_minor": 0,
  "metadata": {
    "colab": {
      "name": "set_operation.ipynb",
      "provenance": [],
      "collapsed_sections": []
    },
    "kernelspec": {
      "name": "python3",
      "display_name": "Python 3"
    },
    "language_info": {
      "name": "python"
    }
  },
  "cells": [
    {
      "cell_type": "code",
      "execution_count": null,
      "metadata": {
        "colab": {
          "base_uri": "https://localhost:8080/"
        },
        "id": "GQLgRthO0jXj",
        "outputId": "69860a00-08e5-4c94-eaa8-16a41b547be0"
      },
      "outputs": [
        {
          "output_type": "stream",
          "name": "stdout",
          "text": [
            "Collecting pyspark\n",
            "  Using cached pyspark-3.2.1.tar.gz (281.4 MB)\n",
            "Collecting py4j==0.10.9.3\n",
            "  Using cached py4j-0.10.9.3-py2.py3-none-any.whl (198 kB)\n",
            "Building wheels for collected packages: pyspark\n",
            "  Building wheel for pyspark (setup.py) ... \u001b[?25l\u001b[?25hdone\n",
            "  Created wheel for pyspark: filename=pyspark-3.2.1-py2.py3-none-any.whl size=281853642 sha256=43201d97f286e4d675d0ca57d8eee790df8ed9afd67c3798041e8b7d08277d00\n",
            "  Stored in directory: /root/.cache/pip/wheels/9f/f5/07/7cd8017084dce4e93e84e92efd1e1d5334db05f2e83bcef74f\n",
            "Successfully built pyspark\n",
            "Installing collected packages: py4j, pyspark\n",
            "Successfully installed py4j-0.10.9.3 pyspark-3.2.1\n"
          ]
        }
      ],
      "source": [
        "pip install pyspark"
      ]
    },
    {
      "cell_type": "code",
      "source": [
        "from pyspark import SparkConf,SparkContext"
      ],
      "metadata": {
        "id": "DU7Ipws61HKh"
      },
      "execution_count": null,
      "outputs": []
    },
    {
      "cell_type": "code",
      "source": [
        "if __name__==\"__main__\":\n",
        "  conf=SparkConf().setAppName('reviews').setMaster('local')\n",
        "  sc=SparkContext(conf=conf)"
      ],
      "metadata": {
        "id": "N4jQsyXe0uJY"
      },
      "execution_count": null,
      "outputs": []
    },
    {
      "cell_type": "code",
      "source": [
        "mydata=sc.textFile(\"reviews.csv\")"
      ],
      "metadata": {
        "id": "mGHPAmJf1GFA"
      },
      "execution_count": null,
      "outputs": []
    },
    {
      "cell_type": "code",
      "source": [
        "word=mydata.flatMap(lambda x:x.split(\" \")) #created a single list for all the words in the file "
      ],
      "metadata": {
        "id": "EtPl9XNf0yW4"
      },
      "execution_count": null,
      "outputs": []
    },
    {
      "cell_type": "code",
      "source": [
        "word.take(10)"
      ],
      "metadata": {
        "colab": {
          "base_uri": "https://localhost:8080/"
        },
        "id": "er9BV-TR0zAN",
        "outputId": "cd71b310-040f-4447-da06-857915e81093"
      },
      "execution_count": null,
      "outputs": [
        {
          "output_type": "execute_result",
          "data": {
            "text/plain": [
              "['\"nice',\n",
              " 'hotel',\n",
              " 'expensive',\n",
              " 'parking',\n",
              " 'got',\n",
              " 'good',\n",
              " 'deal',\n",
              " 'stay',\n",
              " 'hotel',\n",
              " 'anniversary,']"
            ]
          },
          "metadata": {},
          "execution_count": 11
        }
      ]
    },
    {
      "cell_type": "code",
      "source": [
        "word.countByValue() #count of each every word in the file "
      ],
      "metadata": {
        "id": "x88nwPLl0zEO"
      },
      "execution_count": null,
      "outputs": []
    },
    {
      "cell_type": "code",
      "source": [
        "import re"
      ],
      "metadata": {
        "id": "Q6wVyhxD3olP"
      },
      "execution_count": null,
      "outputs": []
    },
    {
      "cell_type": "code",
      "source": [
        "#using regular expressions before flatmap and count BY value for better result "
      ],
      "metadata": {
        "id": "Pk4F61xv5mPO"
      },
      "execution_count": null,
      "outputs": []
    },
    {
      "cell_type": "code",
      "source": [
        "#getting the required data out of total \n",
        "#in our their are some numerical--like -5,\"20th\"etc\n",
        "#so using replace we replace all of them with blank\n",
        "#\n",
        "newwords=mydata.map(lambda x:x.replace(r\"^[a-zA-Z]\\x+\",\"\"))"
      ],
      "metadata": {
        "id": "LBZH2Np80zFr"
      },
      "execution_count": null,
      "outputs": []
    },
    {
      "cell_type": "code",
      "source": [
        "newrd=newwords.flatMap(lambda x:x.split(\" \"))"
      ],
      "metadata": {
        "id": "Oz9UPKmr0zIC"
      },
      "execution_count": null,
      "outputs": []
    },
    {
      "cell_type": "code",
      "source": [
        "newrd.countByValue()"
      ],
      "metadata": {
        "id": "LWATJv_D0zKp"
      },
      "execution_count": null,
      "outputs": []
    },
    {
      "cell_type": "code",
      "source": [
        ""
      ],
      "metadata": {
        "id": "FVySDLWp0zNl"
      },
      "execution_count": null,
      "outputs": []
    },
    {
      "cell_type": "markdown",
      "source": [
        "SET functions in RDD\n"
      ],
      "metadata": {
        "id": "vGdJ2HZx7D6G"
      }
    },
    {
      "cell_type": "code",
      "source": [
        "rdd1=sc.parallelize([10,20,30,40])\n",
        "rdd2=sc.parallelize([20,40,60,80,100])"
      ],
      "metadata": {
        "id": "e1IDDuyz0zRJ"
      },
      "execution_count": null,
      "outputs": []
    },
    {
      "cell_type": "code",
      "source": [
        "unionres=rdd1.union(rdd2)\n",
        "unionres.collect()"
      ],
      "metadata": {
        "colab": {
          "base_uri": "https://localhost:8080/"
        },
        "id": "TzTy3Wkx0zZ-",
        "outputId": "78e9f49f-2ed0-4013-ca3d-8c3b36d93357"
      },
      "execution_count": null,
      "outputs": [
        {
          "output_type": "execute_result",
          "data": {
            "text/plain": [
              "[10, 20, 30, 40, 20, 40, 60, 80, 100]"
            ]
          },
          "metadata": {},
          "execution_count": 21
        }
      ]
    },
    {
      "cell_type": "code",
      "source": [
        "intersec=rdd1.intersection(rdd2)\n",
        "intersec.collect()"
      ],
      "metadata": {
        "colab": {
          "base_uri": "https://localhost:8080/"
        },
        "id": "QigvavxQ0zdb",
        "outputId": "148cfcbf-9b93-4d08-fb21-fd5989898f82"
      },
      "execution_count": null,
      "outputs": [
        {
          "output_type": "execute_result",
          "data": {
            "text/plain": [
              "[20, 40]"
            ]
          },
          "metadata": {},
          "execution_count": 22
        }
      ]
    },
    {
      "cell_type": "code",
      "source": [
        "carte=rdd1.cartesian(rdd2)\n",
        "carte.collect()"
      ],
      "metadata": {
        "colab": {
          "base_uri": "https://localhost:8080/"
        },
        "id": "WZKgDkVg8VQ0",
        "outputId": "cd3a5802-0104-4be5-d507-4a8d63e9503c"
      },
      "execution_count": null,
      "outputs": [
        {
          "output_type": "execute_result",
          "data": {
            "text/plain": [
              "[(10, 20),\n",
              " (10, 40),\n",
              " (10, 60),\n",
              " (10, 80),\n",
              " (10, 100),\n",
              " (20, 20),\n",
              " (20, 40),\n",
              " (20, 60),\n",
              " (20, 80),\n",
              " (20, 100),\n",
              " (30, 20),\n",
              " (30, 40),\n",
              " (30, 60),\n",
              " (30, 80),\n",
              " (30, 100),\n",
              " (40, 20),\n",
              " (40, 40),\n",
              " (40, 60),\n",
              " (40, 80),\n",
              " (40, 100)]"
            ]
          },
          "metadata": {},
          "execution_count": 23
        }
      ]
    },
    {
      "cell_type": "code",
      "source": [
        "sub=rdd1.subtract(rdd2)\n",
        "sub.collect()"
      ],
      "metadata": {
        "colab": {
          "base_uri": "https://localhost:8080/"
        },
        "id": "eK2CHmRA8VjO",
        "outputId": "2b2d0761-f1dd-4f69-ae79-44b23f0027b8"
      },
      "execution_count": null,
      "outputs": [
        {
          "output_type": "execute_result",
          "data": {
            "text/plain": [
              "[10, 30]"
            ]
          },
          "metadata": {},
          "execution_count": 24
        }
      ]
    },
    {
      "cell_type": "code",
      "source": [
        "sub2=rdd2.subtract(rdd1)\n",
        "sub2.collect()"
      ],
      "metadata": {
        "colab": {
          "base_uri": "https://localhost:8080/"
        },
        "id": "t4lwwF9e8vxG",
        "outputId": "e5452c9c-ed78-47c3-d695-ec05f07937da"
      },
      "execution_count": null,
      "outputs": [
        {
          "output_type": "execute_result",
          "data": {
            "text/plain": [
              "[60, 80, 100]"
            ]
          },
          "metadata": {},
          "execution_count": 25
        }
      ]
    },
    {
      "cell_type": "markdown",
      "source": [
        "working on raw data"
      ],
      "metadata": {
        "id": "lFBZY6YA9rLn"
      }
    },
    {
      "cell_type": "code",
      "source": [
        "!pip install wget"
      ],
      "metadata": {
        "colab": {
          "base_uri": "https://localhost:8080/"
        },
        "id": "eJT4xlsw8wFT",
        "outputId": "f6556114-661b-4176-de42-55d9cd1c3325"
      },
      "execution_count": null,
      "outputs": [
        {
          "output_type": "stream",
          "name": "stdout",
          "text": [
            "Requirement already satisfied: wget in /usr/local/lib/python3.7/dist-packages (3.2)\n"
          ]
        }
      ]
    },
    {
      "cell_type": "code",
      "source": [
        "import wget "
      ],
      "metadata": {
        "id": "JoZr3RgZ3gDL"
      },
      "execution_count": null,
      "outputs": []
    },
    {
      "cell_type": "code",
      "source": [
        "wget.download(\"https://raw.githubusercontent.com/jleetutorial/python-spark-tutorial/master/in/nasa_19950701.tsv\",\"first.csv\")"
      ],
      "metadata": {
        "colab": {
          "base_uri": "https://localhost:8080/",
          "height": 35
        },
        "id": "d372C35b3gQ-",
        "outputId": "70b3d684-288f-4546-9e09-a4759c8dc8fc"
      },
      "execution_count": null,
      "outputs": [
        {
          "output_type": "execute_result",
          "data": {
            "text/plain": [
              "'first.csv'"
            ],
            "application/vnd.google.colaboratory.intrinsic+json": {
              "type": "string"
            }
          },
          "metadata": {},
          "execution_count": 30
        }
      ]
    },
    {
      "cell_type": "code",
      "source": [
        "wget.download(\"https://raw.githubusercontent.com/jleetutorial/python-spark-tutorial/master/in/nasa_19950801.tsv\",\"second.csv\")"
      ],
      "metadata": {
        "colab": {
          "base_uri": "https://localhost:8080/",
          "height": 35
        },
        "id": "3psxQ00F3gUC",
        "outputId": "1a7502b8-2da0-4823-cc9f-34e3aa2c8bc4"
      },
      "execution_count": null,
      "outputs": [
        {
          "output_type": "execute_result",
          "data": {
            "text/plain": [
              "'second.csv'"
            ],
            "application/vnd.google.colaboratory.intrinsic+json": {
              "type": "string"
            }
          },
          "metadata": {},
          "execution_count": 31
        }
      ]
    },
    {
      "cell_type": "code",
      "source": [
        "firstrdd=sc.textFile(\"first.csv\")\n",
        "firstrdd.take(4)   # here separator is \\t(tab)"
      ],
      "metadata": {
        "colab": {
          "base_uri": "https://localhost:8080/"
        },
        "id": "CGL80dJS3gXb",
        "outputId": "a7f82689-729a-4b7a-d4ab-623470f9161b"
      },
      "execution_count": null,
      "outputs": [
        {
          "output_type": "execute_result",
          "data": {
            "text/plain": [
              "['host\\tlogname\\ttime\\tmethod\\turl\\tresponse\\tbytes',\n",
              " '199.72.81.55\\t-\\t804571201\\tGET\\t/history/apollo/\\t200\\t6245\\t\\t',\n",
              " 'unicomp6.unicomp.net\\t-\\t804571206\\tGET\\t/shuttle/countdown/\\t200\\t3985\\t\\t',\n",
              " '199.120.110.21\\t-\\t804571209\\tGET\\t/shuttle/missions/sts-73/mission-sts-73.html\\t200\\t4085\\t\\t']"
            ]
          },
          "metadata": {},
          "execution_count": 32
        }
      ]
    },
    {
      "cell_type": "code",
      "source": [
        "firstrdd.count()"
      ],
      "metadata": {
        "colab": {
          "base_uri": "https://localhost:8080/"
        },
        "id": "ZiilCIN-_m0A",
        "outputId": "cd8749bb-be1a-4c44-8eea-3e9205dc719e"
      },
      "execution_count": null,
      "outputs": [
        {
          "output_type": "execute_result",
          "data": {
            "text/plain": [
              "10000"
            ]
          },
          "metadata": {},
          "execution_count": 34
        }
      ]
    },
    {
      "cell_type": "code",
      "source": [
        "secondrdd=sc.textFile(\"second.csv\")\n",
        "secondrdd.take(4)"
      ],
      "metadata": {
        "colab": {
          "base_uri": "https://localhost:8080/"
        },
        "id": "_WVGAULz_J0H",
        "outputId": "82fe472f-4c86-4a72-cb1d-dd91d28293e8"
      },
      "execution_count": null,
      "outputs": [
        {
          "output_type": "execute_result",
          "data": {
            "text/plain": [
              "['host\\tlogname\\ttime\\tmethod\\turl\\tresponse\\tbytes',\n",
              " 'in24.inetnebr.com\\t-\\t807249601\\tGET\\t/shuttle/missions/sts-68/news/sts-68-mcc-05.txt\\t200\\t1839\\t\\t',\n",
              " 'uplherc.upl.com\\t-\\t807249607\\tGET\\t/\\t304\\t0\\t\\t',\n",
              " 'uplherc.upl.com\\t-\\t807249608\\tGET\\t/images/ksclogo-medium.gif\\t304\\t0\\t\\t']"
            ]
          },
          "metadata": {},
          "execution_count": 33
        }
      ]
    },
    {
      "cell_type": "code",
      "source": [
        "secondrdd.count()"
      ],
      "metadata": {
        "colab": {
          "base_uri": "https://localhost:8080/"
        },
        "id": "Gmc6ivk3_qEh",
        "outputId": "787c7997-4597-4439-c155-ece3edd312a8"
      },
      "execution_count": null,
      "outputs": [
        {
          "output_type": "execute_result",
          "data": {
            "text/plain": [
              "10000"
            ]
          },
          "metadata": {},
          "execution_count": 35
        }
      ]
    },
    {
      "cell_type": "markdown",
      "source": [
        "Understanding Intersection,union ,subtract in host data"
      ],
      "metadata": {
        "id": "wHpNTSDv_bWz"
      }
    },
    {
      "cell_type": "code",
      "source": [
        "# removing header and extracting the required data\n",
        "secondheader=secondrdd.first()\n",
        "secondnew=secondrdd.filter(lambda x:x!=secondheader)\n",
        "secondhost=secondnew.map(lambda x:x.split(\"\\t\")[0])\n",
        "secondhost.count()"
      ],
      "metadata": {
        "colab": {
          "base_uri": "https://localhost:8080/"
        },
        "id": "0RWPrr5j_KLR",
        "outputId": "3ba3c60e-5e99-424b-abff-fc299acdf6f9"
      },
      "execution_count": null,
      "outputs": [
        {
          "output_type": "execute_result",
          "data": {
            "text/plain": [
              "9999"
            ]
          },
          "metadata": {},
          "execution_count": 36
        }
      ]
    },
    {
      "cell_type": "code",
      "source": [
        "secondhost.take(4)"
      ],
      "metadata": {
        "colab": {
          "base_uri": "https://localhost:8080/"
        },
        "id": "1iWKXAY7_lv0",
        "outputId": "a4f790fd-12fc-48ac-8b0a-58628277f133"
      },
      "execution_count": null,
      "outputs": [
        {
          "output_type": "execute_result",
          "data": {
            "text/plain": [
              "['in24.inetnebr.com', 'uplherc.upl.com', 'uplherc.upl.com', 'uplherc.upl.com']"
            ]
          },
          "metadata": {},
          "execution_count": 37
        }
      ]
    },
    {
      "cell_type": "code",
      "source": [
        "#removing header and extracting the required data \n",
        "firstheader=firstrdd.first()\n",
        "firstnew=firstrdd.filter(lambda x:x!=firstheader)\n",
        "firsthost=firstnew.map(lambda x:x.split(\"\\t\")[0])\n",
        "firsthost.count()\n",
        "firsthost.take(4)"
      ],
      "metadata": {
        "colab": {
          "base_uri": "https://localhost:8080/"
        },
        "id": "2CMwaqI-_KNa",
        "outputId": "2763124f-de1c-42e1-95b9-8298b2463449"
      },
      "execution_count": null,
      "outputs": [
        {
          "output_type": "execute_result",
          "data": {
            "text/plain": [
              "['199.72.81.55',\n",
              " 'unicomp6.unicomp.net',\n",
              " '199.120.110.21',\n",
              " 'burger.letters.com']"
            ]
          },
          "metadata": {},
          "execution_count": 38
        }
      ]
    },
    {
      "cell_type": "code",
      "source": [
        "firsthost.union(secondhost).count()"
      ],
      "metadata": {
        "colab": {
          "base_uri": "https://localhost:8080/"
        },
        "id": "41rPcTdO_KQM",
        "outputId": "76d41e70-a043-4321-aca8-e35e01ec90a6"
      },
      "execution_count": null,
      "outputs": [
        {
          "output_type": "execute_result",
          "data": {
            "text/plain": [
              "19998"
            ]
          },
          "metadata": {},
          "execution_count": 39
        }
      ]
    },
    {
      "cell_type": "code",
      "source": [
        "firsthost.intersection(secondhost).count() #"
      ],
      "metadata": {
        "colab": {
          "base_uri": "https://localhost:8080/"
        },
        "id": "Vj2YVG98_KS1",
        "outputId": "21772a6c-2492-4463-c865-b970eaacf65a"
      },
      "execution_count": null,
      "outputs": [
        {
          "output_type": "execute_result",
          "data": {
            "text/plain": [
              "37"
            ]
          },
          "metadata": {},
          "execution_count": 41
        }
      ]
    },
    {
      "cell_type": "code",
      "source": [
        "first=firsthost.subtract(secondhost).count()"
      ],
      "metadata": {
        "id": "G0k22rxS_KVw"
      },
      "execution_count": null,
      "outputs": []
    },
    {
      "cell_type": "code",
      "source": [
        "second1=secondhost.subtract(firsthost).count()"
      ],
      "metadata": {
        "id": "b8WiF0JB_KZa"
      },
      "execution_count": null,
      "outputs": []
    },
    {
      "cell_type": "code",
      "source": [
        "second=secondhost.subtract(firsthost)"
      ],
      "metadata": {
        "id": "3WuNIqoOB8CM"
      },
      "execution_count": null,
      "outputs": []
    },
    {
      "cell_type": "code",
      "source": [
        "diff=first-second1\n",
        "print(diff)"
      ],
      "metadata": {
        "colab": {
          "base_uri": "https://localhost:8080/"
        },
        "id": "JjC7yy7e_Kcr",
        "outputId": "b04d2b71-aa3c-4bb2-8558-e19407ab05b5"
      },
      "execution_count": null,
      "outputs": [
        {
          "output_type": "stream",
          "name": "stdout",
          "text": [
            "-172\n"
          ]
        }
      ]
    },
    {
      "cell_type": "code",
      "source": [
        "second.coalesce(2).saveAsTextFile(\"result.csv\")"
      ],
      "metadata": {
        "id": "FaRcQfNy_KgF"
      },
      "execution_count": null,
      "outputs": []
    }
  ]
}